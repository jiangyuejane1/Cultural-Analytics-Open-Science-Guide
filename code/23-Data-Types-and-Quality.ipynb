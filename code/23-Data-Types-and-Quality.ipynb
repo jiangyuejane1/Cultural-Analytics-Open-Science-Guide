{
 "cells": [
  {
   "cell_type": "raw",
   "id": "d8a067ba",
   "metadata": {},
   "source": [
    "---\n",
    "author: \"Paschalis Agapitos\"\n",
    "---"
   ]
  },
  {
   "cell_type": "markdown",
   "id": "f8c59bfd",
   "metadata": {},
   "source": [
    "# Data Types and Quality of the Data"
   ]
  },
  {
   "cell_type": "markdown",
   "id": "c5bd4f74",
   "metadata": {},
   "source": [
    "## Introduction to Data Types and Quality\n",
    "\n",
    "Each individual object that we have in a dataset is called **entity**, **instance**, **observation**. These terms are used interchangeably.\n",
    "\n",
    "Each feature of an observation is considered to be a **variable**.\n",
    "Well-defined variable:\n",
    "\n",
    "1) Measures only one characteristic.\n",
    "\n",
    "2) The variable per se should not be a characteristic on it own."
   ]
  },
  {
   "cell_type": "markdown",
   "id": "d7445581",
   "metadata": {},
   "source": [
    "## Working with Missing Data\n",
    "The types of \"missing-ness\" are three:\n",
    "\n",
    "1) **Missing Completely at Random**: When there is data missing and there is no deeper explanation to why the data is not there.\n",
    "\n",
    "2) **Missing at Random**: When we can predict the value of a variable based on the value of another variable. For example, by knowing the type of the tree we might be able to predict the height.\n",
    "\n",
    "3) **Structurally Missing**: it is the data that is missing because we wouldn't expect a value there to begin with. Let's say that we want to measure the fruits on the trees. In some trees the fruits might be visible and thus countable, whereas in some other trees the fruits might not be visible and thus uncountable; the latter doesn't mean that they do not exist.\n",
    "\n",
    "We need to decide what to do with the missing data. Even if we decide not to do anything, it also affects our analysis. Take care of the missing data at the early stages of the analysis!\n",
    "\n",
    "**Hint**: A value of `0` in the dataset is not a `NaN` value. A `NaN` value is a completely missing value."
   ]
  },
  {
   "cell_type": "markdown",
   "id": "b3752425",
   "metadata": {},
   "source": [
    "### [Missing data](https://pandas.pydata.org/pandas-docs/stable/user_guide/categorical.html#missing-data \"Permalink to this headline\")\n",
    "\n",
    "pandas primarily uses the value `np.nan` to represent missing data. It is by default not included in computations. See the [Missing Data section](https://pandas.pydata.org/pandas-docs/stable/user_guide/missing_data.html#missing-data).\n",
    "\n",
    "Missing values should **not** be included in the Categorical’s `categories`, only in the `values`. Instead, it is understood that NaN is different, and is always a possibility. When working with the Categorical’s `codes`, missing values will always have a code of `-1`.\n",
    "Methods for working with missing data, e.g. [`isna()`](https://pandas.pydata.org/pandas-docs/stable/reference/api/pandas.Series.isna.html#pandas.Series.isna \"pandas.Series.isna\"), [`fillna()`](https://pandas.pydata.org/pandas-docs/stable/reference/api/pandas.Series.fillna.html#pandas.Series.fillna \"pandas.Series.fillna\"), [`dropna()`](https://pandas.pydata.org/pandas-docs/stable/reference/api/pandas.Series.dropna.html#pandas.Series.dropna \"pandas.Series.dropna\")."
   ]
  },
  {
   "cell_type": "markdown",
   "id": "25cbcbc5",
   "metadata": {},
   "source": [
    "## Accuracy\n",
    "Accuracy is how well the data captures the reality.\n",
    "When we try to measure the accuracy, we should think of reliable and unreliable variables.\n",
    "\n",
    "- One way to achieve accuracy is standardization.\n",
    "\n",
    "- Looking at the outliers and the distribution in order to get an idea about what the data looks like.\n",
    "\n",
    "- Checking errors in the data (e.g. inconsistency on how two variables were measured)\n",
    "\n",
    "Keep in mind:\n",
    "- every solution has to be tailored to the dataset that we analyze.\n",
    "\n",
    "- use real-world knowledge to be sure that the dataset reflects reality."
   ]
  },
  {
   "cell_type": "markdown",
   "id": "e190ac81",
   "metadata": {},
   "source": [
    "## Validity\n",
    "**Validity** of a dataset is when a dataset actually measures what we think it measures.\n",
    "Validity is a special kind of quality measure since it's not only about the dataset itself but it also connected to the purpose of its dataset.\n",
    "\n",
    "Some datasets are good to answer a question but not other questions. We undermine the validity of a dataset only if we use it in order to answer a question that it is not possible to be answered using a dataset.\n",
    "\n",
    "For instance, we know that you can measure the age of a tree by counting the rings, but we didn’t do that. Let’s say that we did measure the width of the tree.\n",
    "\n",
    "We decide that since number of rings and width are related, we will use width as a proxy for the age. With that decision, we just compromised the **validity** of our dataset. Our data doesn’t measure age, it measures width. And even though there is a relationship between the number of rings and the width, it’s not a direct relationship and therefore cannot be substituted without affecting the validity of our dataset and measures.\n",
    "\n",
    "Now let’s say that we want to know how much our trees grow every year. We found a dataset for the same region from 20 years ago. We use the locations to match up the old and new measurements. But this data can tell us how much they grow every 20 years, not every year. If we try to use these two datasets to measure yearly growth, we will compromise the **validity** of the dataset again.\n",
    "\n",
    "Using proxies and inappropriate time spans are just two ways to compromise the validity of a dataset. There are infinite ways in which a given dataset is not valid for answering a given question.\n",
    "\n",
    "One easy way to spot issues with the validity of the dataset is to ask:\n",
    "**Does this variable measure what I think it does?**"
   ]
  },
  {
   "cell_type": "markdown",
   "id": "9c51b1b0",
   "metadata": {},
   "source": [
    "## Representative Samples\n",
    "**Population** is all the observations for a certain thing that we want to measure (e.g., if we want to measure the number of abortions in New York, the population should include every person that can be impregnated).\n",
    "\n",
    "**Sample** is the number of observations that we have data about.\n",
    "A sample should be representative; in other words, it should include observations from every different sub-category of the population (e.g., people from every skin colour, race, ethnicity, etc.). In some cases, if we choose randomly a sample from the population yields more robust result since we avoid the cherry-picking of a sample that answer our questions."
   ]
  },
  {
   "cell_type": "markdown",
   "id": "8152dd9c",
   "metadata": {},
   "source": [
    "### Sampling errors\n",
    "If we have a sampling error, then we insert bias in our dataset.\n",
    "\n",
    "- **Convenience samples**: when we don't include measurements and observations in our dataset, due to convenience. For example, if we can't go to a certain area that is important for our sample, we collect the data only from areas where we have some kind of access. To some extent, this is also connected to the validity of the dataset as we saw [earlier](https://groningendh.github.io/Cultural-Analytics-Open-Science-Guide/code/23-Data-Types-and-Quality.html#validity)."
   ]
  }
 ],
 "metadata": {
  "kernelspec": {
   "display_name": "Python 3 (ipykernel)",
   "language": "python",
   "name": "python3"
  },
  "language_info": {
   "codemirror_mode": {
    "name": "ipython",
    "version": 3
   },
   "file_extension": ".py",
   "mimetype": "text/x-python",
   "name": "python",
   "nbconvert_exporter": "python",
   "pygments_lexer": "ipython3",
   "version": "3.8.2"
  },
  "toc": {
   "base_numbering": 1,
   "nav_menu": {},
   "number_sections": true,
   "sideBar": true,
   "skip_h1_title": false,
   "title_cell": "Table of Contents",
   "title_sidebar": "Contents",
   "toc_cell": false,
   "toc_position": {},
   "toc_section_display": true,
   "toc_window_display": false
  },
  "varInspector": {
   "cols": {
    "lenName": 16,
    "lenType": 16,
    "lenVar": 40
   },
   "kernels_config": {
    "python": {
     "delete_cmd_postfix": "",
     "delete_cmd_prefix": "del ",
     "library": "var_list.py",
     "varRefreshCmd": "print(var_dic_list())"
    },
    "r": {
     "delete_cmd_postfix": ") ",
     "delete_cmd_prefix": "rm(",
     "library": "var_list.r",
     "varRefreshCmd": "cat(var_dic_list()) "
    }
   },
   "types_to_exclude": [
    "module",
    "function",
    "builtin_function_or_method",
    "instance",
    "_Feature"
   ],
   "window_display": false
  }
 },
 "nbformat": 4,
 "nbformat_minor": 5
}
