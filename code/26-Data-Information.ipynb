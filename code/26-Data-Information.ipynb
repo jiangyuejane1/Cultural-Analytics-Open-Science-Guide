{
 "cells": [
  {
   "cell_type": "raw",
   "id": "c87bd292",
   "metadata": {},
   "source": [
    "---\n",
    "author: \"Paschalis Agapitos\"\n",
    "---"
   ]
  },
  {
   "cell_type": "markdown",
   "id": "66b50302",
   "metadata": {},
   "source": [
    "# Data Information\n",
    "\n",
    "At this phase we could address questions such as how can we extract information about the data that we have?\n",
    "\n",
    "A sample of these kind of questions is presented below:\n",
    "\n",
    "-   How many (non-null) observations do we have?\n",
    "To answer this question, we can run:\n",
    "```\n",
    "data.info()\n",
    "```\n",
    "-   How many unique columns/features do we have?\n",
    "```\n",
    "data.column.unique()\n",
    "```\n",
    "-   Which columns (if any) contain missing data?\n",
    "```\n",
    "data[data.isnull().any(axis=1)]\n",
    "```\n",
    "-   What is the data type of each column?\n",
    "```\n",
    "data.dtypes\n",
    "```"
   ]
  }
 ],
 "metadata": {
  "kernelspec": {
   "display_name": "Python 3 (ipykernel)",
   "language": "python",
   "name": "python3"
  },
  "language_info": {
   "codemirror_mode": {
    "name": "ipython",
    "version": 3
   },
   "file_extension": ".py",
   "mimetype": "text/x-python",
   "name": "python",
   "nbconvert_exporter": "python",
   "pygments_lexer": "ipython3",
   "version": "3.8.2"
  },
  "toc": {
   "base_numbering": 1,
   "nav_menu": {},
   "number_sections": true,
   "sideBar": true,
   "skip_h1_title": false,
   "title_cell": "Table of Contents",
   "title_sidebar": "Contents",
   "toc_cell": false,
   "toc_position": {},
   "toc_section_display": true,
   "toc_window_display": false
  },
  "varInspector": {
   "cols": {
    "lenName": 16,
    "lenType": 16,
    "lenVar": 40
   },
   "kernels_config": {
    "python": {
     "delete_cmd_postfix": "",
     "delete_cmd_prefix": "del ",
     "library": "var_list.py",
     "varRefreshCmd": "print(var_dic_list())"
    },
    "r": {
     "delete_cmd_postfix": ") ",
     "delete_cmd_prefix": "rm(",
     "library": "var_list.r",
     "varRefreshCmd": "cat(var_dic_list()) "
    }
   },
   "types_to_exclude": [
    "module",
    "function",
    "builtin_function_or_method",
    "instance",
    "_Feature"
   ],
   "window_display": false
  }
 },
 "nbformat": 4,
 "nbformat_minor": 5
}
