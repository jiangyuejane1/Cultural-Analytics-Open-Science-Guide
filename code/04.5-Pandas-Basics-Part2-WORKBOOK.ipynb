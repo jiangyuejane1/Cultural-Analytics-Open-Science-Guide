{
 "cells": [
  {
   "cell_type": "raw",
   "metadata": {},
   "source": [
    "---\n",
    "author: \"Melanie Walsh\"\n",
    "---"
   ]
  },
  {
   "cell_type": "markdown",
   "metadata": {},
   "source": [
    "# Pandas Basics Part 2 — Workbook"
   ]
  },
  {
   "cell_type": "markdown",
   "metadata": {},
   "source": [
    "In this lesson, we're going to introduce some more fundamentals of [Pandas](https://pandas.pydata.org/pandas-docs/stable/getting_started/overview.html), a powerful Python library for working with tabular data like CSV files."
   ]
  },
  {
   "cell_type": "markdown",
   "metadata": {},
   "source": [
    "___"
   ]
  },
  {
   "cell_type": "markdown",
   "metadata": {},
   "source": [
    "## The Trans-Atlantic Slave Trade Database"
   ]
  },
  {
   "cell_type": "markdown",
   "metadata": {},
   "source": [
    "\"[D]isplaying data alone could not and did not offer the atonement descendants of slaves\n",
    "sought or capture the inhumanity of this archive’s formation.\"\n",
    "\n",
    "— Jessica Marie Johnson, <a href=\"https://read.dukeupress.edu/social-text/article/36/4%20(137)/57/137032/Markup-BodiesBlack-Life-Studies-and-Slavery-Death\">“Markup Bodies”</a>"
   ]
  },
  {
   "cell_type": "markdown",
   "metadata": {},
   "source": [
    "The dataset that we're going to be working with in this lesson is taken from [The Trans-Atlantic Slave Trade Database](https://www.slavevoyages.org/voyage/database), part of the [*Slave Voyages* project](https://www.slavevoyages.org/). The larger database includes information about 35,000 slave-trading voyages from 1514-1866. The dataset we're working with here was filtered to include the 20,000 voyages that landed in the Americas. The data was filtered to also include the percentage of enslaved men, women, and children on the voyages."
   ]
  },
  {
   "cell_type": "markdown",
   "metadata": {},
   "source": [
    "___"
   ]
  },
  {
   "cell_type": "code",
   "execution_count": 13,
   "metadata": {
    "ExecuteTime": {
     "end_time": "2022-11-11T11:09:49.875098Z",
     "start_time": "2022-11-11T11:09:49.864352Z"
    }
   },
   "outputs": [],
   "source": [
    "import pandas as pd"
   ]
  },
  {
   "cell_type": "code",
   "execution_count": 14,
   "metadata": {
    "ExecuteTime": {
     "end_time": "2022-11-11T11:09:50.261217Z",
     "start_time": "2022-11-11T11:09:50.246101Z"
    }
   },
   "outputs": [],
   "source": [
    "data = [['Avatar', 'Neytiri', 2000, 2800], ['Avatar', 'Jake', 500, 2800], ['The Avengers', 'Loki', 700, 1518],['The Avengers', 'Thor', 800, 1518], ['My College Short Film', 'Myself', 100], ['My College Short Film', 'My Mom', 900]] \n",
    "df = pd.DataFrame(data, columns = ['Film', 'Character', 'Words Spoken','Box Office Gross (Millions)']) \n"
   ]
  },
  {
   "cell_type": "code",
   "execution_count": 15,
   "metadata": {
    "ExecuteTime": {
     "end_time": "2022-11-11T11:09:50.558908Z",
     "start_time": "2022-11-11T11:09:50.542464Z"
    }
   },
   "outputs": [
    {
     "data": {
      "text/html": [
       "<div>\n",
       "<style scoped>\n",
       "    .dataframe tbody tr th:only-of-type {\n",
       "        vertical-align: middle;\n",
       "    }\n",
       "\n",
       "    .dataframe tbody tr th {\n",
       "        vertical-align: top;\n",
       "    }\n",
       "\n",
       "    .dataframe thead th {\n",
       "        text-align: right;\n",
       "    }\n",
       "</style>\n",
       "<table border=\"1\" class=\"dataframe\">\n",
       "  <thead>\n",
       "    <tr style=\"text-align: right;\">\n",
       "      <th></th>\n",
       "      <th>Film</th>\n",
       "      <th>Character</th>\n",
       "      <th>Words Spoken</th>\n",
       "      <th>Box Office Gross (Millions)</th>\n",
       "    </tr>\n",
       "  </thead>\n",
       "  <tbody>\n",
       "    <tr>\n",
       "      <th>0</th>\n",
       "      <td>Avatar</td>\n",
       "      <td>Neytiri</td>\n",
       "      <td>2000</td>\n",
       "      <td>2800.0</td>\n",
       "    </tr>\n",
       "    <tr>\n",
       "      <th>1</th>\n",
       "      <td>Avatar</td>\n",
       "      <td>Jake</td>\n",
       "      <td>500</td>\n",
       "      <td>2800.0</td>\n",
       "    </tr>\n",
       "    <tr>\n",
       "      <th>2</th>\n",
       "      <td>The Avengers</td>\n",
       "      <td>Loki</td>\n",
       "      <td>700</td>\n",
       "      <td>1518.0</td>\n",
       "    </tr>\n",
       "    <tr>\n",
       "      <th>3</th>\n",
       "      <td>The Avengers</td>\n",
       "      <td>Thor</td>\n",
       "      <td>800</td>\n",
       "      <td>1518.0</td>\n",
       "    </tr>\n",
       "    <tr>\n",
       "      <th>4</th>\n",
       "      <td>My College Short Film</td>\n",
       "      <td>Myself</td>\n",
       "      <td>100</td>\n",
       "      <td>NaN</td>\n",
       "    </tr>\n",
       "    <tr>\n",
       "      <th>5</th>\n",
       "      <td>My College Short Film</td>\n",
       "      <td>My Mom</td>\n",
       "      <td>900</td>\n",
       "      <td>NaN</td>\n",
       "    </tr>\n",
       "  </tbody>\n",
       "</table>\n",
       "</div>"
      ],
      "text/plain": [
       "                    Film Character  Words Spoken  Box Office Gross (Millions)\n",
       "0                 Avatar   Neytiri          2000                       2800.0\n",
       "1                 Avatar      Jake           500                       2800.0\n",
       "2           The Avengers      Loki           700                       1518.0\n",
       "3           The Avengers      Thor           800                       1518.0\n",
       "4  My College Short Film    Myself           100                          NaN\n",
       "5  My College Short Film    My Mom           900                          NaN"
      ]
     },
     "execution_count": 15,
     "metadata": {},
     "output_type": "execute_result"
    }
   ],
   "source": [
    "df"
   ]
  },
  {
   "cell_type": "code",
   "execution_count": 16,
   "metadata": {
    "ExecuteTime": {
     "end_time": "2022-11-11T11:09:50.923465Z",
     "start_time": "2022-11-11T11:09:50.898180Z"
    }
   },
   "outputs": [
    {
     "data": {
      "text/html": [
       "<div>\n",
       "<style scoped>\n",
       "    .dataframe tbody tr th:only-of-type {\n",
       "        vertical-align: middle;\n",
       "    }\n",
       "\n",
       "    .dataframe tbody tr th {\n",
       "        vertical-align: top;\n",
       "    }\n",
       "\n",
       "    .dataframe thead th {\n",
       "        text-align: right;\n",
       "    }\n",
       "</style>\n",
       "<table border=\"1\" class=\"dataframe\">\n",
       "  <thead>\n",
       "    <tr style=\"text-align: right;\">\n",
       "      <th></th>\n",
       "      <th>Words Spoken</th>\n",
       "      <th>Box Office Gross (Millions)</th>\n",
       "    </tr>\n",
       "    <tr>\n",
       "      <th>Film</th>\n",
       "      <th></th>\n",
       "      <th></th>\n",
       "    </tr>\n",
       "  </thead>\n",
       "  <tbody>\n",
       "    <tr>\n",
       "      <th>Avatar</th>\n",
       "      <td>2500</td>\n",
       "      <td>5600.0</td>\n",
       "    </tr>\n",
       "    <tr>\n",
       "      <th>My College Short Film</th>\n",
       "      <td>1000</td>\n",
       "      <td>0.0</td>\n",
       "    </tr>\n",
       "    <tr>\n",
       "      <th>The Avengers</th>\n",
       "      <td>1500</td>\n",
       "      <td>3036.0</td>\n",
       "    </tr>\n",
       "  </tbody>\n",
       "</table>\n",
       "</div>"
      ],
      "text/plain": [
       "                       Words Spoken  Box Office Gross (Millions)\n",
       "Film                                                            \n",
       "Avatar                         2500                       5600.0\n",
       "My College Short Film          1000                          0.0\n",
       "The Avengers                   1500                       3036.0"
      ]
     },
     "execution_count": 16,
     "metadata": {},
     "output_type": "execute_result"
    }
   ],
   "source": [
    "df.groupby('Film').sum()"
   ]
  },
  {
   "cell_type": "code",
   "execution_count": 17,
   "metadata": {
    "ExecuteTime": {
     "end_time": "2022-11-11T11:09:51.293601Z",
     "start_time": "2022-11-11T11:09:51.280508Z"
    }
   },
   "outputs": [
    {
     "data": {
      "text/plain": [
       "Film\n",
       "Avatar                   1250.0\n",
       "My College Short Film     500.0\n",
       "The Avengers              750.0\n",
       "Name: Words Spoken, dtype: float64"
      ]
     },
     "execution_count": 17,
     "metadata": {},
     "output_type": "execute_result"
    }
   ],
   "source": [
    "df.groupby('Film')['Words Spoken'].mean()"
   ]
  },
  {
   "cell_type": "code",
   "execution_count": 18,
   "metadata": {
    "ExecuteTime": {
     "end_time": "2022-11-11T11:09:51.567644Z",
     "start_time": "2022-11-11T11:09:51.550087Z"
    }
   },
   "outputs": [
    {
     "data": {
      "text/html": [
       "<div>\n",
       "<style scoped>\n",
       "    .dataframe tbody tr th:only-of-type {\n",
       "        vertical-align: middle;\n",
       "    }\n",
       "\n",
       "    .dataframe tbody tr th {\n",
       "        vertical-align: top;\n",
       "    }\n",
       "\n",
       "    .dataframe thead th {\n",
       "        text-align: right;\n",
       "    }\n",
       "</style>\n",
       "<table border=\"1\" class=\"dataframe\">\n",
       "  <thead>\n",
       "    <tr style=\"text-align: right;\">\n",
       "      <th></th>\n",
       "      <th>Character</th>\n",
       "      <th>Words Spoken</th>\n",
       "      <th>Box Office Gross (Millions)</th>\n",
       "    </tr>\n",
       "    <tr>\n",
       "      <th>Film</th>\n",
       "      <th></th>\n",
       "      <th></th>\n",
       "      <th></th>\n",
       "    </tr>\n",
       "  </thead>\n",
       "  <tbody>\n",
       "    <tr>\n",
       "      <th>Avatar</th>\n",
       "      <td>2</td>\n",
       "      <td>2</td>\n",
       "      <td>2</td>\n",
       "    </tr>\n",
       "    <tr>\n",
       "      <th>My College Short Film</th>\n",
       "      <td>2</td>\n",
       "      <td>2</td>\n",
       "      <td>0</td>\n",
       "    </tr>\n",
       "    <tr>\n",
       "      <th>The Avengers</th>\n",
       "      <td>2</td>\n",
       "      <td>2</td>\n",
       "      <td>2</td>\n",
       "    </tr>\n",
       "  </tbody>\n",
       "</table>\n",
       "</div>"
      ],
      "text/plain": [
       "                       Character  Words Spoken  Box Office Gross (Millions)\n",
       "Film                                                                       \n",
       "Avatar                         2             2                            2\n",
       "My College Short Film          2             2                            0\n",
       "The Avengers                   2             2                            2"
      ]
     },
     "execution_count": 18,
     "metadata": {},
     "output_type": "execute_result"
    }
   ],
   "source": [
    "df.groupby('Film').count()"
   ]
  },
  {
   "cell_type": "markdown",
   "metadata": {},
   "source": [
    "## Import Pandas"
   ]
  },
  {
   "cell_type": "markdown",
   "metadata": {},
   "source": [
    "## Change Display Settings"
   ]
  },
  {
   "cell_type": "markdown",
   "metadata": {},
   "source": [
    "By default, Pandas will display 60 rows and 20 columns. I often change [Pandas' default display settings](https://pandas.pydata.org/pandas-docs/stable/user_guide/options.html) to show more rows or columns."
   ]
  },
  {
   "cell_type": "code",
   "execution_count": 19,
   "metadata": {
    "ExecuteTime": {
     "end_time": "2022-11-11T11:09:52.776272Z",
     "start_time": "2022-11-11T11:09:52.771843Z"
    }
   },
   "outputs": [],
   "source": [
    "pd.options.display.max_rows = 200"
   ]
  },
  {
   "cell_type": "markdown",
   "metadata": {},
   "source": [
    "## Get Data"
   ]
  },
  {
   "cell_type": "code",
   "execution_count": 46,
   "metadata": {
    "ExecuteTime": {
     "end_time": "2022-11-11T11:15:34.944058Z",
     "start_time": "2022-11-11T11:15:34.742997Z"
    }
   },
   "outputs": [],
   "source": [
    "slave_voyages_df = pd.read_csv('../data/Trans-Atlantic-Slave-Trade_Americas.csv', delimiter=\",\", encoding='utf-8')"
   ]
  },
  {
   "cell_type": "code",
   "execution_count": 47,
   "metadata": {
    "ExecuteTime": {
     "end_time": "2022-11-11T11:15:34.992406Z",
     "start_time": "2022-11-11T11:15:34.973115Z"
    }
   },
   "outputs": [
    {
     "data": {
      "text/html": [
       "<div>\n",
       "<style scoped>\n",
       "    .dataframe tbody tr th:only-of-type {\n",
       "        vertical-align: middle;\n",
       "    }\n",
       "\n",
       "    .dataframe tbody tr th {\n",
       "        vertical-align: top;\n",
       "    }\n",
       "\n",
       "    .dataframe thead th {\n",
       "        text-align: right;\n",
       "    }\n",
       "</style>\n",
       "<table border=\"1\" class=\"dataframe\">\n",
       "  <thead>\n",
       "    <tr style=\"text-align: right;\">\n",
       "      <th></th>\n",
       "      <th>year_of_arrival</th>\n",
       "      <th>flag</th>\n",
       "      <th>place_of_purchase</th>\n",
       "      <th>place_of_landing</th>\n",
       "      <th>percent_women</th>\n",
       "      <th>percent_children</th>\n",
       "      <th>percent_men</th>\n",
       "      <th>total_embarked</th>\n",
       "      <th>total_disembarked</th>\n",
       "      <th>resistance_label</th>\n",
       "      <th>vessel_name</th>\n",
       "      <th>captain's_name</th>\n",
       "      <th>voyage_id</th>\n",
       "      <th>sources</th>\n",
       "    </tr>\n",
       "  </thead>\n",
       "  <tbody>\n",
       "    <tr>\n",
       "      <th>0</th>\n",
       "      <td>1520</td>\n",
       "      <td>NaN</td>\n",
       "      <td>Portuguese Guinea</td>\n",
       "      <td>San Juan</td>\n",
       "      <td>NaN</td>\n",
       "      <td>NaN</td>\n",
       "      <td>NaN</td>\n",
       "      <td>324.0</td>\n",
       "      <td>259.0</td>\n",
       "      <td>NaN</td>\n",
       "      <td></td>\n",
       "      <td>NaN</td>\n",
       "      <td>42987</td>\n",
       "      <td>[u'AGI,Patronato 175, r.9&lt;&gt;&lt;p&gt;&lt;em&gt;AG!&lt;/em&gt; (Se...</td>\n",
       "    </tr>\n",
       "    <tr>\n",
       "      <th>1</th>\n",
       "      <td>1525</td>\n",
       "      <td>Portugal / Brazil</td>\n",
       "      <td>Sao Tome</td>\n",
       "      <td>Hispaniola, unspecified</td>\n",
       "      <td>NaN</td>\n",
       "      <td>NaN</td>\n",
       "      <td>NaN</td>\n",
       "      <td>359.0</td>\n",
       "      <td>287.0</td>\n",
       "      <td>NaN</td>\n",
       "      <td>S Maria de Bogoña</td>\n",
       "      <td>Monteiro, Pero</td>\n",
       "      <td>46473</td>\n",
       "      <td>[u'ANTT,CC,Parte II, maco 131, doc 54&lt;&gt;&lt;i&gt;Inst...</td>\n",
       "    </tr>\n",
       "    <tr>\n",
       "      <th>2</th>\n",
       "      <td>1526</td>\n",
       "      <td>Spain / Uruguay</td>\n",
       "      <td>Cape Verde Islands</td>\n",
       "      <td>Cuba, port unspecified</td>\n",
       "      <td>NaN</td>\n",
       "      <td>NaN</td>\n",
       "      <td>NaN</td>\n",
       "      <td>359.0</td>\n",
       "      <td>287.0</td>\n",
       "      <td>NaN</td>\n",
       "      <td></td>\n",
       "      <td>Carega, Esteban (?)</td>\n",
       "      <td>11297</td>\n",
       "      <td>[u'Pike,60-1,172&lt;&gt;Pike, Ruth, &lt;i&gt;Enterprise&lt;/i...</td>\n",
       "    </tr>\n",
       "    <tr>\n",
       "      <th>3</th>\n",
       "      <td>1526</td>\n",
       "      <td>Spain / Uruguay</td>\n",
       "      <td>Cape Verde Islands</td>\n",
       "      <td>Cuba, port unspecified</td>\n",
       "      <td>NaN</td>\n",
       "      <td>NaN</td>\n",
       "      <td>NaN</td>\n",
       "      <td>359.0</td>\n",
       "      <td>287.0</td>\n",
       "      <td>NaN</td>\n",
       "      <td></td>\n",
       "      <td>Carega, Esteban (?)</td>\n",
       "      <td>11298</td>\n",
       "      <td>[u'Pike,60-1,172&lt;&gt;Pike, Ruth, &lt;i&gt;Enterprise&lt;/i...</td>\n",
       "    </tr>\n",
       "    <tr>\n",
       "      <th>4</th>\n",
       "      <td>1526</td>\n",
       "      <td>NaN</td>\n",
       "      <td>Cape Verde Islands</td>\n",
       "      <td>Caribbean (colony unspecified)</td>\n",
       "      <td>NaN</td>\n",
       "      <td>NaN</td>\n",
       "      <td>NaN</td>\n",
       "      <td>359.0</td>\n",
       "      <td>287.0</td>\n",
       "      <td>NaN</td>\n",
       "      <td>S Anton</td>\n",
       "      <td>Leon, Juan de</td>\n",
       "      <td>42631</td>\n",
       "      <td>[u'Chaunus, 3: 162-63&lt;&gt;&lt;p&gt;Chaunus, &lt;em&gt;xxxxxx&lt;...</td>\n",
       "    </tr>\n",
       "    <tr>\n",
       "      <th>...</th>\n",
       "      <td>...</td>\n",
       "      <td>...</td>\n",
       "      <td>...</td>\n",
       "      <td>...</td>\n",
       "      <td>...</td>\n",
       "      <td>...</td>\n",
       "      <td>...</td>\n",
       "      <td>...</td>\n",
       "      <td>...</td>\n",
       "      <td>...</td>\n",
       "      <td>...</td>\n",
       "      <td>...</td>\n",
       "      <td>...</td>\n",
       "      <td>...</td>\n",
       "    </tr>\n",
       "    <tr>\n",
       "      <th>20736</th>\n",
       "      <td>1864</td>\n",
       "      <td>Spain / Uruguay</td>\n",
       "      <td>Africa., port unspecified</td>\n",
       "      <td>Cuba, port unspecified</td>\n",
       "      <td>NaN</td>\n",
       "      <td>NaN</td>\n",
       "      <td>NaN</td>\n",
       "      <td>488.0</td>\n",
       "      <td>465.0</td>\n",
       "      <td>NaN</td>\n",
       "      <td>Polaca</td>\n",
       "      <td>NaN</td>\n",
       "      <td>46554</td>\n",
       "      <td>[u'AHNM, Ultramar, Leg. 3551, 6&lt;&gt;&lt;i&gt;Archivo Hi...</td>\n",
       "    </tr>\n",
       "    <tr>\n",
       "      <th>20737</th>\n",
       "      <td>1865</td>\n",
       "      <td>Spain / Uruguay</td>\n",
       "      <td>Africa., port unspecified</td>\n",
       "      <td>Isla de Pinas</td>\n",
       "      <td>NaN</td>\n",
       "      <td>NaN</td>\n",
       "      <td>NaN</td>\n",
       "      <td>152.0</td>\n",
       "      <td>145.0</td>\n",
       "      <td>Slave insurrection</td>\n",
       "      <td>Gato</td>\n",
       "      <td>NaN</td>\n",
       "      <td>4394</td>\n",
       "      <td>[u'IUP,ST,50/B/137&lt;&gt;Great Britain, &lt;i&gt;Irish Un...</td>\n",
       "    </tr>\n",
       "    <tr>\n",
       "      <th>20738</th>\n",
       "      <td>1865</td>\n",
       "      <td>NaN</td>\n",
       "      <td>Africa., port unspecified</td>\n",
       "      <td>Mariel</td>\n",
       "      <td>NaN</td>\n",
       "      <td>NaN</td>\n",
       "      <td>NaN</td>\n",
       "      <td>780.0</td>\n",
       "      <td>650.0</td>\n",
       "      <td>NaN</td>\n",
       "      <td></td>\n",
       "      <td>NaN</td>\n",
       "      <td>4395</td>\n",
       "      <td>[u'IUP,ST,50/B/144&lt;&gt;Great Britain, &lt;i&gt;Irish Un...</td>\n",
       "    </tr>\n",
       "    <tr>\n",
       "      <th>20739</th>\n",
       "      <td>1865</td>\n",
       "      <td>NaN</td>\n",
       "      <td>Congo River</td>\n",
       "      <td>Cuba, port unspecified</td>\n",
       "      <td>NaN</td>\n",
       "      <td>NaN</td>\n",
       "      <td>NaN</td>\n",
       "      <td>1265.0</td>\n",
       "      <td>1004.0</td>\n",
       "      <td>NaN</td>\n",
       "      <td>Cicerón</td>\n",
       "      <td>Mesquita</td>\n",
       "      <td>5052</td>\n",
       "      <td>[u'IUP,ST,50/A/23-4&lt;&gt;Great Britain, &lt;i&gt;Irish U...</td>\n",
       "    </tr>\n",
       "    <tr>\n",
       "      <th>20740</th>\n",
       "      <td>1866</td>\n",
       "      <td>NaN</td>\n",
       "      <td>Africa., port unspecified</td>\n",
       "      <td>Cuba, port unspecified</td>\n",
       "      <td>NaN</td>\n",
       "      <td>NaN</td>\n",
       "      <td>NaN</td>\n",
       "      <td>851.0</td>\n",
       "      <td>700.0</td>\n",
       "      <td>NaN</td>\n",
       "      <td></td>\n",
       "      <td>NaN</td>\n",
       "      <td>4998</td>\n",
       "      <td>[u'IUP,ST,50/B/220&lt;&gt;Great Britain, &lt;i&gt;Irish Un...</td>\n",
       "    </tr>\n",
       "  </tbody>\n",
       "</table>\n",
       "<p>20741 rows × 14 columns</p>\n",
       "</div>"
      ],
      "text/plain": [
       "       year_of_arrival               flag          place_of_purchase  \\\n",
       "0                 1520                NaN          Portuguese Guinea   \n",
       "1                 1525  Portugal / Brazil                   Sao Tome   \n",
       "2                 1526    Spain / Uruguay         Cape Verde Islands   \n",
       "3                 1526    Spain / Uruguay         Cape Verde Islands   \n",
       "4                 1526                NaN         Cape Verde Islands   \n",
       "...                ...                ...                        ...   \n",
       "20736             1864    Spain / Uruguay  Africa., port unspecified   \n",
       "20737             1865    Spain / Uruguay  Africa., port unspecified   \n",
       "20738             1865                NaN  Africa., port unspecified   \n",
       "20739             1865                NaN                Congo River   \n",
       "20740             1866                NaN  Africa., port unspecified   \n",
       "\n",
       "                     place_of_landing  percent_women  percent_children  \\\n",
       "0                            San Juan            NaN               NaN   \n",
       "1             Hispaniola, unspecified            NaN               NaN   \n",
       "2              Cuba, port unspecified            NaN               NaN   \n",
       "3              Cuba, port unspecified            NaN               NaN   \n",
       "4      Caribbean (colony unspecified)            NaN               NaN   \n",
       "...                               ...            ...               ...   \n",
       "20736          Cuba, port unspecified            NaN               NaN   \n",
       "20737                   Isla de Pinas            NaN               NaN   \n",
       "20738                          Mariel            NaN               NaN   \n",
       "20739          Cuba, port unspecified            NaN               NaN   \n",
       "20740          Cuba, port unspecified            NaN               NaN   \n",
       "\n",
       "       percent_men  total_embarked  total_disembarked    resistance_label  \\\n",
       "0              NaN           324.0              259.0                 NaN   \n",
       "1              NaN           359.0              287.0                 NaN   \n",
       "2              NaN           359.0              287.0                 NaN   \n",
       "3              NaN           359.0              287.0                 NaN   \n",
       "4              NaN           359.0              287.0                 NaN   \n",
       "...            ...             ...                ...                 ...   \n",
       "20736          NaN           488.0              465.0                 NaN   \n",
       "20737          NaN           152.0              145.0  Slave insurrection   \n",
       "20738          NaN           780.0              650.0                 NaN   \n",
       "20739          NaN          1265.0             1004.0                 NaN   \n",
       "20740          NaN           851.0              700.0                 NaN   \n",
       "\n",
       "             vessel_name       captain's_name  voyage_id  \\\n",
       "0                                         NaN      42987   \n",
       "1      S Maria de Bogoña       Monteiro, Pero      46473   \n",
       "2                         Carega, Esteban (?)      11297   \n",
       "3                         Carega, Esteban (?)      11298   \n",
       "4                S Anton        Leon, Juan de      42631   \n",
       "...                  ...                  ...        ...   \n",
       "20736             Polaca                  NaN      46554   \n",
       "20737               Gato                  NaN       4394   \n",
       "20738                                     NaN       4395   \n",
       "20739            Cicerón             Mesquita       5052   \n",
       "20740                                     NaN       4998   \n",
       "\n",
       "                                                 sources  \n",
       "0      [u'AGI,Patronato 175, r.9<><p><em>AG!</em> (Se...  \n",
       "1      [u'ANTT,CC,Parte II, maco 131, doc 54<><i>Inst...  \n",
       "2      [u'Pike,60-1,172<>Pike, Ruth, <i>Enterprise</i...  \n",
       "3      [u'Pike,60-1,172<>Pike, Ruth, <i>Enterprise</i...  \n",
       "4      [u'Chaunus, 3: 162-63<><p>Chaunus, <em>xxxxxx<...  \n",
       "...                                                  ...  \n",
       "20736  [u'AHNM, Ultramar, Leg. 3551, 6<><i>Archivo Hi...  \n",
       "20737  [u'IUP,ST,50/B/137<>Great Britain, <i>Irish Un...  \n",
       "20738  [u'IUP,ST,50/B/144<>Great Britain, <i>Irish Un...  \n",
       "20739  [u'IUP,ST,50/A/23-4<>Great Britain, <i>Irish U...  \n",
       "20740  [u'IUP,ST,50/B/220<>Great Britain, <i>Irish Un...  \n",
       "\n",
       "[20741 rows x 14 columns]"
      ]
     },
     "execution_count": 47,
     "metadata": {},
     "output_type": "execute_result"
    }
   ],
   "source": [
    "slave_voyages_df"
   ]
  },
  {
   "cell_type": "markdown",
   "metadata": {},
   "source": [
    "This creates a Pandas [DataFrame object](https://pandas.pydata.org/pandas-docs/stable/user_guide/dsintro.html#DataFrame) — often abbreviated as *df*, e.g., *slave_voyages_df*. A DataFrame looks and acts a lot like a spreadsheet. But it has special powers and functions that we will discuss in the next few lessons."
   ]
  },
  {
   "cell_type": "markdown",
   "metadata": {},
   "source": [
    "## Overview\n",
    "\n",
    "To look at the first *n* rows in a DataFrame, we can use a method called `.head()`."
   ]
  },
  {
   "cell_type": "code",
   "execution_count": 48,
   "metadata": {
    "ExecuteTime": {
     "end_time": "2022-11-11T11:15:35.346170Z",
     "start_time": "2022-11-11T11:15:35.320473Z"
    }
   },
   "outputs": [
    {
     "data": {
      "text/html": [
       "<div>\n",
       "<style scoped>\n",
       "    .dataframe tbody tr th:only-of-type {\n",
       "        vertical-align: middle;\n",
       "    }\n",
       "\n",
       "    .dataframe tbody tr th {\n",
       "        vertical-align: top;\n",
       "    }\n",
       "\n",
       "    .dataframe thead th {\n",
       "        text-align: right;\n",
       "    }\n",
       "</style>\n",
       "<table border=\"1\" class=\"dataframe\">\n",
       "  <thead>\n",
       "    <tr style=\"text-align: right;\">\n",
       "      <th></th>\n",
       "      <th>year_of_arrival</th>\n",
       "      <th>flag</th>\n",
       "      <th>place_of_purchase</th>\n",
       "      <th>place_of_landing</th>\n",
       "      <th>percent_women</th>\n",
       "      <th>percent_children</th>\n",
       "      <th>percent_men</th>\n",
       "      <th>total_embarked</th>\n",
       "      <th>total_disembarked</th>\n",
       "      <th>resistance_label</th>\n",
       "      <th>vessel_name</th>\n",
       "      <th>captain's_name</th>\n",
       "      <th>voyage_id</th>\n",
       "      <th>sources</th>\n",
       "    </tr>\n",
       "  </thead>\n",
       "  <tbody>\n",
       "    <tr>\n",
       "      <th>0</th>\n",
       "      <td>1520</td>\n",
       "      <td>NaN</td>\n",
       "      <td>Portuguese Guinea</td>\n",
       "      <td>San Juan</td>\n",
       "      <td>NaN</td>\n",
       "      <td>NaN</td>\n",
       "      <td>NaN</td>\n",
       "      <td>324.0</td>\n",
       "      <td>259.0</td>\n",
       "      <td>NaN</td>\n",
       "      <td></td>\n",
       "      <td>NaN</td>\n",
       "      <td>42987</td>\n",
       "      <td>[u'AGI,Patronato 175, r.9&lt;&gt;&lt;p&gt;&lt;em&gt;AG!&lt;/em&gt; (Se...</td>\n",
       "    </tr>\n",
       "    <tr>\n",
       "      <th>1</th>\n",
       "      <td>1525</td>\n",
       "      <td>Portugal / Brazil</td>\n",
       "      <td>Sao Tome</td>\n",
       "      <td>Hispaniola, unspecified</td>\n",
       "      <td>NaN</td>\n",
       "      <td>NaN</td>\n",
       "      <td>NaN</td>\n",
       "      <td>359.0</td>\n",
       "      <td>287.0</td>\n",
       "      <td>NaN</td>\n",
       "      <td>S Maria de Bogoña</td>\n",
       "      <td>Monteiro, Pero</td>\n",
       "      <td>46473</td>\n",
       "      <td>[u'ANTT,CC,Parte II, maco 131, doc 54&lt;&gt;&lt;i&gt;Inst...</td>\n",
       "    </tr>\n",
       "    <tr>\n",
       "      <th>2</th>\n",
       "      <td>1526</td>\n",
       "      <td>Spain / Uruguay</td>\n",
       "      <td>Cape Verde Islands</td>\n",
       "      <td>Cuba, port unspecified</td>\n",
       "      <td>NaN</td>\n",
       "      <td>NaN</td>\n",
       "      <td>NaN</td>\n",
       "      <td>359.0</td>\n",
       "      <td>287.0</td>\n",
       "      <td>NaN</td>\n",
       "      <td></td>\n",
       "      <td>Carega, Esteban (?)</td>\n",
       "      <td>11297</td>\n",
       "      <td>[u'Pike,60-1,172&lt;&gt;Pike, Ruth, &lt;i&gt;Enterprise&lt;/i...</td>\n",
       "    </tr>\n",
       "    <tr>\n",
       "      <th>3</th>\n",
       "      <td>1526</td>\n",
       "      <td>Spain / Uruguay</td>\n",
       "      <td>Cape Verde Islands</td>\n",
       "      <td>Cuba, port unspecified</td>\n",
       "      <td>NaN</td>\n",
       "      <td>NaN</td>\n",
       "      <td>NaN</td>\n",
       "      <td>359.0</td>\n",
       "      <td>287.0</td>\n",
       "      <td>NaN</td>\n",
       "      <td></td>\n",
       "      <td>Carega, Esteban (?)</td>\n",
       "      <td>11298</td>\n",
       "      <td>[u'Pike,60-1,172&lt;&gt;Pike, Ruth, &lt;i&gt;Enterprise&lt;/i...</td>\n",
       "    </tr>\n",
       "    <tr>\n",
       "      <th>4</th>\n",
       "      <td>1526</td>\n",
       "      <td>NaN</td>\n",
       "      <td>Cape Verde Islands</td>\n",
       "      <td>Caribbean (colony unspecified)</td>\n",
       "      <td>NaN</td>\n",
       "      <td>NaN</td>\n",
       "      <td>NaN</td>\n",
       "      <td>359.0</td>\n",
       "      <td>287.0</td>\n",
       "      <td>NaN</td>\n",
       "      <td>S Anton</td>\n",
       "      <td>Leon, Juan de</td>\n",
       "      <td>42631</td>\n",
       "      <td>[u'Chaunus, 3: 162-63&lt;&gt;&lt;p&gt;Chaunus, &lt;em&gt;xxxxxx&lt;...</td>\n",
       "    </tr>\n",
       "    <tr>\n",
       "      <th>5</th>\n",
       "      <td>1526</td>\n",
       "      <td>NaN</td>\n",
       "      <td>Cape Verde Islands</td>\n",
       "      <td>San Domingo (a) Santo Domingo</td>\n",
       "      <td>NaN</td>\n",
       "      <td>NaN</td>\n",
       "      <td>NaN</td>\n",
       "      <td>359.0</td>\n",
       "      <td>287.0</td>\n",
       "      <td>NaN</td>\n",
       "      <td>Santa Maria de Guadalupe</td>\n",
       "      <td>Pabon, Francisco</td>\n",
       "      <td>42679</td>\n",
       "      <td>[u'Chaunus, 3: 162-63&lt;&gt;&lt;p&gt;Chaunus, &lt;em&gt;xxxxxx&lt;...</td>\n",
       "    </tr>\n",
       "    <tr>\n",
       "      <th>6</th>\n",
       "      <td>1526</td>\n",
       "      <td>Portugal / Brazil</td>\n",
       "      <td>Sao Tome</td>\n",
       "      <td>Spanish Caribbean, unspecified</td>\n",
       "      <td>NaN</td>\n",
       "      <td>NaN</td>\n",
       "      <td>NaN</td>\n",
       "      <td>359.0</td>\n",
       "      <td>287.0</td>\n",
       "      <td>NaN</td>\n",
       "      <td></td>\n",
       "      <td>NaN</td>\n",
       "      <td>46474</td>\n",
       "      <td>[u'ANTT,CC,Parte II, maco 131, doc 54&lt;&gt;&lt;i&gt;Inst...</td>\n",
       "    </tr>\n",
       "    <tr>\n",
       "      <th>7</th>\n",
       "      <td>1527</td>\n",
       "      <td>Spain / Uruguay</td>\n",
       "      <td>Cape Verde Islands</td>\n",
       "      <td>Puerto Rico, port unspecified</td>\n",
       "      <td>NaN</td>\n",
       "      <td>NaN</td>\n",
       "      <td>NaN</td>\n",
       "      <td>325.0</td>\n",
       "      <td>260.0</td>\n",
       "      <td>NaN</td>\n",
       "      <td>Concepción</td>\n",
       "      <td>Díaz, Alonso</td>\n",
       "      <td>99027</td>\n",
       "      <td>[u'SuedBadillo,57,75,76&lt;&gt;&lt;p&gt;SuedBadillo, &lt;em&gt;x...</td>\n",
       "    </tr>\n",
       "    <tr>\n",
       "      <th>8</th>\n",
       "      <td>1532</td>\n",
       "      <td>Portugal / Brazil</td>\n",
       "      <td>Sao Tome</td>\n",
       "      <td>Spanish Caribbean, unspecified</td>\n",
       "      <td>NaN</td>\n",
       "      <td>NaN</td>\n",
       "      <td>NaN</td>\n",
       "      <td>359.0</td>\n",
       "      <td>287.0</td>\n",
       "      <td>NaN</td>\n",
       "      <td>S Antônio</td>\n",
       "      <td>Afonso, Martim</td>\n",
       "      <td>11293</td>\n",
       "      <td>[u'Ryder,66&lt;&gt;Ryder, A. F. C., &lt;i&gt;Benin&lt;/i&gt;&lt;i&gt; ...</td>\n",
       "    </tr>\n",
       "    <tr>\n",
       "      <th>9</th>\n",
       "      <td>1532</td>\n",
       "      <td>NaN</td>\n",
       "      <td>Cape Verde Islands</td>\n",
       "      <td>San Juan</td>\n",
       "      <td>NaN</td>\n",
       "      <td>NaN</td>\n",
       "      <td>NaN</td>\n",
       "      <td>25.0</td>\n",
       "      <td>20.0</td>\n",
       "      <td>NaN</td>\n",
       "      <td></td>\n",
       "      <td>de Illanes, Manuel</td>\n",
       "      <td>28994</td>\n",
       "      <td>[u'Tanodi, 321-22&lt;&gt;Tanodi, Aurelio, &lt;i&gt;Documen...</td>\n",
       "    </tr>\n",
       "  </tbody>\n",
       "</table>\n",
       "</div>"
      ],
      "text/plain": [
       "   year_of_arrival               flag   place_of_purchase  \\\n",
       "0             1520                NaN   Portuguese Guinea   \n",
       "1             1525  Portugal / Brazil            Sao Tome   \n",
       "2             1526    Spain / Uruguay  Cape Verde Islands   \n",
       "3             1526    Spain / Uruguay  Cape Verde Islands   \n",
       "4             1526                NaN  Cape Verde Islands   \n",
       "5             1526                NaN  Cape Verde Islands   \n",
       "6             1526  Portugal / Brazil            Sao Tome   \n",
       "7             1527    Spain / Uruguay  Cape Verde Islands   \n",
       "8             1532  Portugal / Brazil            Sao Tome   \n",
       "9             1532                NaN  Cape Verde Islands   \n",
       "\n",
       "                 place_of_landing  percent_women  percent_children  \\\n",
       "0                        San Juan            NaN               NaN   \n",
       "1         Hispaniola, unspecified            NaN               NaN   \n",
       "2          Cuba, port unspecified            NaN               NaN   \n",
       "3          Cuba, port unspecified            NaN               NaN   \n",
       "4  Caribbean (colony unspecified)            NaN               NaN   \n",
       "5   San Domingo (a) Santo Domingo            NaN               NaN   \n",
       "6  Spanish Caribbean, unspecified            NaN               NaN   \n",
       "7   Puerto Rico, port unspecified            NaN               NaN   \n",
       "8  Spanish Caribbean, unspecified            NaN               NaN   \n",
       "9                        San Juan            NaN               NaN   \n",
       "\n",
       "   percent_men  total_embarked  total_disembarked resistance_label  \\\n",
       "0          NaN           324.0              259.0              NaN   \n",
       "1          NaN           359.0              287.0              NaN   \n",
       "2          NaN           359.0              287.0              NaN   \n",
       "3          NaN           359.0              287.0              NaN   \n",
       "4          NaN           359.0              287.0              NaN   \n",
       "5          NaN           359.0              287.0              NaN   \n",
       "6          NaN           359.0              287.0              NaN   \n",
       "7          NaN           325.0              260.0              NaN   \n",
       "8          NaN           359.0              287.0              NaN   \n",
       "9          NaN            25.0               20.0              NaN   \n",
       "\n",
       "                vessel_name       captain's_name  voyage_id  \\\n",
       "0                                            NaN      42987   \n",
       "1         S Maria de Bogoña       Monteiro, Pero      46473   \n",
       "2                            Carega, Esteban (?)      11297   \n",
       "3                            Carega, Esteban (?)      11298   \n",
       "4                   S Anton        Leon, Juan de      42631   \n",
       "5  Santa Maria de Guadalupe     Pabon, Francisco      42679   \n",
       "6                                            NaN      46474   \n",
       "7                Concepción         Díaz, Alonso      99027   \n",
       "8                 S Antônio       Afonso, Martim      11293   \n",
       "9                             de Illanes, Manuel      28994   \n",
       "\n",
       "                                             sources  \n",
       "0  [u'AGI,Patronato 175, r.9<><p><em>AG!</em> (Se...  \n",
       "1  [u'ANTT,CC,Parte II, maco 131, doc 54<><i>Inst...  \n",
       "2  [u'Pike,60-1,172<>Pike, Ruth, <i>Enterprise</i...  \n",
       "3  [u'Pike,60-1,172<>Pike, Ruth, <i>Enterprise</i...  \n",
       "4  [u'Chaunus, 3: 162-63<><p>Chaunus, <em>xxxxxx<...  \n",
       "5  [u'Chaunus, 3: 162-63<><p>Chaunus, <em>xxxxxx<...  \n",
       "6  [u'ANTT,CC,Parte II, maco 131, doc 54<><i>Inst...  \n",
       "7  [u'SuedBadillo,57,75,76<><p>SuedBadillo, <em>x...  \n",
       "8  [u'Ryder,66<>Ryder, A. F. C., <i>Benin</i><i> ...  \n",
       "9  [u'Tanodi, 321-22<>Tanodi, Aurelio, <i>Documen...  "
      ]
     },
     "execution_count": 48,
     "metadata": {},
     "output_type": "execute_result"
    }
   ],
   "source": [
    "slave_voyages_df.head(10)"
   ]
  },
  {
   "cell_type": "markdown",
   "metadata": {},
   "source": [
    "Generate information about all the columns in the data "
   ]
  },
  {
   "cell_type": "code",
   "execution_count": 49,
   "metadata": {
    "ExecuteTime": {
     "end_time": "2022-11-11T11:15:36.002208Z",
     "start_time": "2022-11-11T11:15:35.952229Z"
    }
   },
   "outputs": [
    {
     "name": "stdout",
     "output_type": "stream",
     "text": [
      "<class 'pandas.core.frame.DataFrame'>\n",
      "RangeIndex: 20741 entries, 0 to 20740\n",
      "Data columns (total 14 columns):\n",
      " #   Column             Non-Null Count  Dtype  \n",
      "---  ------             --------------  -----  \n",
      " 0   year_of_arrival    20741 non-null  int64  \n",
      " 1   flag               19583 non-null  object \n",
      " 2   place_of_purchase  20663 non-null  object \n",
      " 3   place_of_landing   20741 non-null  object \n",
      " 4   percent_women      2894 non-null   float64\n",
      " 5   percent_children   2927 non-null   float64\n",
      " 6   percent_men        2894 non-null   float64\n",
      " 7   total_embarked     20722 non-null  float64\n",
      " 8   total_disembarked  20719 non-null  float64\n",
      " 9   resistance_label   372 non-null    object \n",
      " 10  vessel_name        20741 non-null  object \n",
      " 11  captain's_name     19396 non-null  object \n",
      " 12  voyage_id          20741 non-null  int64  \n",
      " 13  sources            20741 non-null  object \n",
      "dtypes: float64(5), int64(2), object(7)\n",
      "memory usage: 2.2+ MB\n"
     ]
    }
   ],
   "source": [
    "slave_voyages_df.info()"
   ]
  },
  {
   "cell_type": "markdown",
   "metadata": {},
   "source": [
    "Just like Python has different data types, Pandas has different data types, too. These data types are automatically assigned to columns when we read in a CSV file. We can check these Pandas data types with the [`.dtypes` method](https://pandas.pydata.org/pandas-docs/stable/reference/api/pandas.DataFrame.dtypes.html)."
   ]
  },
  {
   "cell_type": "markdown",
   "metadata": {},
   "source": [
    "\n",
    "\n",
    "| **Pandas Data Type** |  **Explanation**                                                                                   |\n",
    "|:-------------:|:---------------------------------------------------------------------------------------------------:|\n",
    "| `object`         | string                                                                               |\n",
    "| `float64`         | float                                               |\n",
    "| `int64`       | integer                                                        |\n",
    "| `datetime64`       |  date time              "
   ]
  },
  {
   "cell_type": "markdown",
   "metadata": {},
   "source": [
    "Make a histogram of the DataFrame"
   ]
  },
  {
   "cell_type": "code",
   "execution_count": 50,
   "metadata": {
    "ExecuteTime": {
     "end_time": "2022-11-11T11:15:38.001193Z",
     "start_time": "2022-11-11T11:15:36.562772Z"
    }
   },
   "outputs": [
    {
     "data": {
      "text/plain": [
       "array([[<AxesSubplot:title={'center':'year_of_arrival'}>,\n",
       "        <AxesSubplot:title={'center':'percent_women'}>,\n",
       "        <AxesSubplot:title={'center':'percent_children'}>],\n",
       "       [<AxesSubplot:title={'center':'percent_men'}>,\n",
       "        <AxesSubplot:title={'center':'total_embarked'}>,\n",
       "        <AxesSubplot:title={'center':'total_disembarked'}>],\n",
       "       [<AxesSubplot:title={'center':'voyage_id'}>, <AxesSubplot:>,\n",
       "        <AxesSubplot:>]], dtype=object)"
      ]
     },
     "execution_count": 50,
     "metadata": {},
     "output_type": "execute_result"
    },
    {
     "data": {
      "image/png": "[encoded data removed]",
      "text/plain": [
       "<Figure size 432x288 with 9 Axes>"
      ]
     },
     "metadata": {
      "needs_background": "light"
     },
     "output_type": "display_data"
    }
   ],
   "source": [
    "slave_voyages_df.hist()"
   ]
  },
  {
   "cell_type": "code",
   "execution_count": 51,
   "metadata": {
    "ExecuteTime": {
     "end_time": "2022-11-11T11:15:38.723535Z",
     "start_time": "2022-11-11T11:15:38.031195Z"
    }
   },
   "outputs": [
    {
     "data": {
      "text/plain": [
       "array([[<AxesSubplot:title={'center':'year_of_arrival'}>,\n",
       "        <AxesSubplot:title={'center':'percent_women'}>,\n",
       "        <AxesSubplot:title={'center':'percent_children'}>],\n",
       "       [<AxesSubplot:title={'center':'percent_men'}>,\n",
       "        <AxesSubplot:title={'center':'total_embarked'}>,\n",
       "        <AxesSubplot:title={'center':'total_disembarked'}>],\n",
       "       [<AxesSubplot:title={'center':'voyage_id'}>, <AxesSubplot:>,\n",
       "        <AxesSubplot:>]], dtype=object)"
      ]
     },
     "execution_count": 51,
     "metadata": {},
     "output_type": "execute_result"
    },
    {
     "data": {
      "image/png": "[encoded data removed]",
      "text/plain": [
       "<Figure size 720x720 with 9 Axes>"
      ]
     },
     "metadata": {
      "needs_background": "light"
     },
     "output_type": "display_data"
    }
   ],
   "source": [
    "slave_voyages_df.hist(figsize=(10,10))"
   ]
  },
  {
   "cell_type": "markdown",
   "metadata": {},
   "source": [
    "Generate descriptive statistics for all the columns in the data "
   ]
  },
  {
   "cell_type": "code",
   "execution_count": 52,
   "metadata": {
    "ExecuteTime": {
     "end_time": "2022-11-11T11:15:38.779277Z",
     "start_time": "2022-11-11T11:15:38.752844Z"
    }
   },
   "outputs": [
    {
     "data": {
      "text/html": [
       "<div>\n",
       "<style scoped>\n",
       "    .dataframe tbody tr th:only-of-type {\n",
       "        vertical-align: middle;\n",
       "    }\n",
       "\n",
       "    .dataframe tbody tr th {\n",
       "        vertical-align: top;\n",
       "    }\n",
       "\n",
       "    .dataframe thead th {\n",
       "        text-align: right;\n",
       "    }\n",
       "</style>\n",
       "<table border=\"1\" class=\"dataframe\">\n",
       "  <thead>\n",
       "    <tr style=\"text-align: right;\">\n",
       "      <th></th>\n",
       "      <th>year_of_arrival</th>\n",
       "      <th>percent_women</th>\n",
       "      <th>percent_children</th>\n",
       "      <th>percent_men</th>\n",
       "      <th>total_embarked</th>\n",
       "      <th>total_disembarked</th>\n",
       "      <th>voyage_id</th>\n",
       "    </tr>\n",
       "  </thead>\n",
       "  <tbody>\n",
       "    <tr>\n",
       "      <th>count</th>\n",
       "      <td>20741.000000</td>\n",
       "      <td>2894.000000</td>\n",
       "      <td>2927.000000</td>\n",
       "      <td>2894.000000</td>\n",
       "      <td>20722.000000</td>\n",
       "      <td>20719.000000</td>\n",
       "      <td>20741.000000</td>\n",
       "    </tr>\n",
       "    <tr>\n",
       "      <th>mean</th>\n",
       "      <td>1752.014850</td>\n",
       "      <td>0.274198</td>\n",
       "      <td>0.231582</td>\n",
       "      <td>0.496648</td>\n",
       "      <td>295.050381</td>\n",
       "      <td>251.573966</td>\n",
       "      <td>42783.741671</td>\n",
       "    </tr>\n",
       "    <tr>\n",
       "      <th>std</th>\n",
       "      <td>59.702189</td>\n",
       "      <td>0.116513</td>\n",
       "      <td>0.149508</td>\n",
       "      <td>0.140324</td>\n",
       "      <td>147.997690</td>\n",
       "      <td>128.050439</td>\n",
       "      <td>32401.785320</td>\n",
       "    </tr>\n",
       "    <tr>\n",
       "      <th>min</th>\n",
       "      <td>1520.000000</td>\n",
       "      <td>0.000000</td>\n",
       "      <td>0.000000</td>\n",
       "      <td>0.000000</td>\n",
       "      <td>1.000000</td>\n",
       "      <td>1.000000</td>\n",
       "      <td>112.000000</td>\n",
       "    </tr>\n",
       "    <tr>\n",
       "      <th>25%</th>\n",
       "      <td>1724.000000</td>\n",
       "      <td>0.195265</td>\n",
       "      <td>0.115380</td>\n",
       "      <td>0.407460</td>\n",
       "      <td>194.000000</td>\n",
       "      <td>163.000000</td>\n",
       "      <td>17862.000000</td>\n",
       "    </tr>\n",
       "    <tr>\n",
       "      <th>50%</th>\n",
       "      <td>1765.000000</td>\n",
       "      <td>0.264110</td>\n",
       "      <td>0.215100</td>\n",
       "      <td>0.497890</td>\n",
       "      <td>282.000000</td>\n",
       "      <td>241.000000</td>\n",
       "      <td>31916.000000</td>\n",
       "    </tr>\n",
       "    <tr>\n",
       "      <th>75%</th>\n",
       "      <td>1792.000000</td>\n",
       "      <td>0.346150</td>\n",
       "      <td>0.321900</td>\n",
       "      <td>0.586765</td>\n",
       "      <td>368.000000</td>\n",
       "      <td>313.000000</td>\n",
       "      <td>78283.000000</td>\n",
       "    </tr>\n",
       "    <tr>\n",
       "      <th>max</th>\n",
       "      <td>1866.000000</td>\n",
       "      <td>1.000000</td>\n",
       "      <td>1.000000</td>\n",
       "      <td>1.000000</td>\n",
       "      <td>2024.000000</td>\n",
       "      <td>1700.000000</td>\n",
       "      <td>900206.000000</td>\n",
       "    </tr>\n",
       "  </tbody>\n",
       "</table>\n",
       "</div>"
      ],
      "text/plain": [
       "       year_of_arrival  percent_women  percent_children  percent_men  \\\n",
       "count     20741.000000    2894.000000       2927.000000  2894.000000   \n",
       "mean       1752.014850       0.274198          0.231582     0.496648   \n",
       "std          59.702189       0.116513          0.149508     0.140324   \n",
       "min        1520.000000       0.000000          0.000000     0.000000   \n",
       "25%        1724.000000       0.195265          0.115380     0.407460   \n",
       "50%        1765.000000       0.264110          0.215100     0.497890   \n",
       "75%        1792.000000       0.346150          0.321900     0.586765   \n",
       "max        1866.000000       1.000000          1.000000     1.000000   \n",
       "\n",
       "       total_embarked  total_disembarked      voyage_id  \n",
       "count    20722.000000       20719.000000   20741.000000  \n",
       "mean       295.050381         251.573966   42783.741671  \n",
       "std        147.997690         128.050439   32401.785320  \n",
       "min          1.000000           1.000000     112.000000  \n",
       "25%        194.000000         163.000000   17862.000000  \n",
       "50%        282.000000         241.000000   31916.000000  \n",
       "75%        368.000000         313.000000   78283.000000  \n",
       "max       2024.000000        1700.000000  900206.000000  "
      ]
     },
     "execution_count": 52,
     "metadata": {},
     "output_type": "execute_result"
    }
   ],
   "source": [
    "slave_voyages_df.describe()"
   ]
  },
  {
   "cell_type": "code",
   "execution_count": 53,
   "metadata": {
    "ExecuteTime": {
     "end_time": "2022-11-11T11:15:38.878952Z",
     "start_time": "2022-11-11T11:15:38.809763Z"
    }
   },
   "outputs": [
    {
     "data": {
      "text/html": [
       "<div>\n",
       "<style scoped>\n",
       "    .dataframe tbody tr th:only-of-type {\n",
       "        vertical-align: middle;\n",
       "    }\n",
       "\n",
       "    .dataframe tbody tr th {\n",
       "        vertical-align: top;\n",
       "    }\n",
       "\n",
       "    .dataframe thead th {\n",
       "        text-align: right;\n",
       "    }\n",
       "</style>\n",
       "<table border=\"1\" class=\"dataframe\">\n",
       "  <thead>\n",
       "    <tr style=\"text-align: right;\">\n",
       "      <th></th>\n",
       "      <th>year_of_arrival</th>\n",
       "      <th>flag</th>\n",
       "      <th>place_of_purchase</th>\n",
       "      <th>place_of_landing</th>\n",
       "      <th>percent_women</th>\n",
       "      <th>percent_children</th>\n",
       "      <th>percent_men</th>\n",
       "      <th>total_embarked</th>\n",
       "      <th>total_disembarked</th>\n",
       "      <th>resistance_label</th>\n",
       "      <th>vessel_name</th>\n",
       "      <th>captain's_name</th>\n",
       "      <th>voyage_id</th>\n",
       "      <th>sources</th>\n",
       "    </tr>\n",
       "  </thead>\n",
       "  <tbody>\n",
       "    <tr>\n",
       "      <th>count</th>\n",
       "      <td>20741.000000</td>\n",
       "      <td>19583</td>\n",
       "      <td>20663</td>\n",
       "      <td>20741</td>\n",
       "      <td>2894.000000</td>\n",
       "      <td>2927.000000</td>\n",
       "      <td>2894.000000</td>\n",
       "      <td>20722.000000</td>\n",
       "      <td>20719.000000</td>\n",
       "      <td>372</td>\n",
       "      <td>20741</td>\n",
       "      <td>19396</td>\n",
       "      <td>20741.000000</td>\n",
       "      <td>20741</td>\n",
       "    </tr>\n",
       "    <tr>\n",
       "      <th>unique</th>\n",
       "      <td>NaN</td>\n",
       "      <td>8</td>\n",
       "      <td>156</td>\n",
       "      <td>187</td>\n",
       "      <td>NaN</td>\n",
       "      <td>NaN</td>\n",
       "      <td>NaN</td>\n",
       "      <td>NaN</td>\n",
       "      <td>NaN</td>\n",
       "      <td>6</td>\n",
       "      <td>5849</td>\n",
       "      <td>12233</td>\n",
       "      <td>NaN</td>\n",
       "      <td>13754</td>\n",
       "    </tr>\n",
       "    <tr>\n",
       "      <th>top</th>\n",
       "      <td>NaN</td>\n",
       "      <td>Great Britain</td>\n",
       "      <td>Africa., port unspecified</td>\n",
       "      <td>Barbados, port unspecified</td>\n",
       "      <td>NaN</td>\n",
       "      <td>NaN</td>\n",
       "      <td>NaN</td>\n",
       "      <td>NaN</td>\n",
       "      <td>NaN</td>\n",
       "      <td>Slave insurrection</td>\n",
       "      <td></td>\n",
       "      <td>Smith, John</td>\n",
       "      <td>NaN</td>\n",
       "      <td>[u'mettas,I&lt;&gt;Mettas, Jean,  &lt;i&gt;R\\xe9pertoire d...</td>\n",
       "    </tr>\n",
       "    <tr>\n",
       "      <th>freq</th>\n",
       "      <td>NaN</td>\n",
       "      <td>10536</td>\n",
       "      <td>5999</td>\n",
       "      <td>2038</td>\n",
       "      <td>NaN</td>\n",
       "      <td>NaN</td>\n",
       "      <td>NaN</td>\n",
       "      <td>NaN</td>\n",
       "      <td>NaN</td>\n",
       "      <td>330</td>\n",
       "      <td>712</td>\n",
       "      <td>36</td>\n",
       "      <td>NaN</td>\n",
       "      <td>1134</td>\n",
       "    </tr>\n",
       "    <tr>\n",
       "      <th>mean</th>\n",
       "      <td>1752.014850</td>\n",
       "      <td>NaN</td>\n",
       "      <td>NaN</td>\n",
       "      <td>NaN</td>\n",
       "      <td>0.274198</td>\n",
       "      <td>0.231582</td>\n",
       "      <td>0.496648</td>\n",
       "      <td>295.050381</td>\n",
       "      <td>251.573966</td>\n",
       "      <td>NaN</td>\n",
       "      <td>NaN</td>\n",
       "      <td>NaN</td>\n",
       "      <td>42783.741671</td>\n",
       "      <td>NaN</td>\n",
       "    </tr>\n",
       "    <tr>\n",
       "      <th>std</th>\n",
       "      <td>59.702189</td>\n",
       "      <td>NaN</td>\n",
       "      <td>NaN</td>\n",
       "      <td>NaN</td>\n",
       "      <td>0.116513</td>\n",
       "      <td>0.149508</td>\n",
       "      <td>0.140324</td>\n",
       "      <td>147.997690</td>\n",
       "      <td>128.050439</td>\n",
       "      <td>NaN</td>\n",
       "      <td>NaN</td>\n",
       "      <td>NaN</td>\n",
       "      <td>32401.785320</td>\n",
       "      <td>NaN</td>\n",
       "    </tr>\n",
       "    <tr>\n",
       "      <th>min</th>\n",
       "      <td>1520.000000</td>\n",
       "      <td>NaN</td>\n",
       "      <td>NaN</td>\n",
       "      <td>NaN</td>\n",
       "      <td>0.000000</td>\n",
       "      <td>0.000000</td>\n",
       "      <td>0.000000</td>\n",
       "      <td>1.000000</td>\n",
       "      <td>1.000000</td>\n",
       "      <td>NaN</td>\n",
       "      <td>NaN</td>\n",
       "      <td>NaN</td>\n",
       "      <td>112.000000</td>\n",
       "      <td>NaN</td>\n",
       "    </tr>\n",
       "    <tr>\n",
       "      <th>25%</th>\n",
       "      <td>1724.000000</td>\n",
       "      <td>NaN</td>\n",
       "      <td>NaN</td>\n",
       "      <td>NaN</td>\n",
       "      <td>0.195265</td>\n",
       "      <td>0.115380</td>\n",
       "      <td>0.407460</td>\n",
       "      <td>194.000000</td>\n",
       "      <td>163.000000</td>\n",
       "      <td>NaN</td>\n",
       "      <td>NaN</td>\n",
       "      <td>NaN</td>\n",
       "      <td>17862.000000</td>\n",
       "      <td>NaN</td>\n",
       "    </tr>\n",
       "    <tr>\n",
       "      <th>50%</th>\n",
       "      <td>1765.000000</td>\n",
       "      <td>NaN</td>\n",
       "      <td>NaN</td>\n",
       "      <td>NaN</td>\n",
       "      <td>0.264110</td>\n",
       "      <td>0.215100</td>\n",
       "      <td>0.497890</td>\n",
       "      <td>282.000000</td>\n",
       "      <td>241.000000</td>\n",
       "      <td>NaN</td>\n",
       "      <td>NaN</td>\n",
       "      <td>NaN</td>\n",
       "      <td>31916.000000</td>\n",
       "      <td>NaN</td>\n",
       "    </tr>\n",
       "    <tr>\n",
       "      <th>75%</th>\n",
       "      <td>1792.000000</td>\n",
       "      <td>NaN</td>\n",
       "      <td>NaN</td>\n",
       "      <td>NaN</td>\n",
       "      <td>0.346150</td>\n",
       "      <td>0.321900</td>\n",
       "      <td>0.586765</td>\n",
       "      <td>368.000000</td>\n",
       "      <td>313.000000</td>\n",
       "      <td>NaN</td>\n",
       "      <td>NaN</td>\n",
       "      <td>NaN</td>\n",
       "      <td>78283.000000</td>\n",
       "      <td>NaN</td>\n",
       "    </tr>\n",
       "    <tr>\n",
       "      <th>max</th>\n",
       "      <td>1866.000000</td>\n",
       "      <td>NaN</td>\n",
       "      <td>NaN</td>\n",
       "      <td>NaN</td>\n",
       "      <td>1.000000</td>\n",
       "      <td>1.000000</td>\n",
       "      <td>1.000000</td>\n",
       "      <td>2024.000000</td>\n",
       "      <td>1700.000000</td>\n",
       "      <td>NaN</td>\n",
       "      <td>NaN</td>\n",
       "      <td>NaN</td>\n",
       "      <td>900206.000000</td>\n",
       "      <td>NaN</td>\n",
       "    </tr>\n",
       "  </tbody>\n",
       "</table>\n",
       "</div>"
      ],
      "text/plain": [
       "        year_of_arrival           flag          place_of_purchase  \\\n",
       "count      20741.000000          19583                      20663   \n",
       "unique              NaN              8                        156   \n",
       "top                 NaN  Great Britain  Africa., port unspecified   \n",
       "freq                NaN          10536                       5999   \n",
       "mean        1752.014850            NaN                        NaN   \n",
       "std           59.702189            NaN                        NaN   \n",
       "min         1520.000000            NaN                        NaN   \n",
       "25%         1724.000000            NaN                        NaN   \n",
       "50%         1765.000000            NaN                        NaN   \n",
       "75%         1792.000000            NaN                        NaN   \n",
       "max         1866.000000            NaN                        NaN   \n",
       "\n",
       "                  place_of_landing  percent_women  percent_children  \\\n",
       "count                        20741    2894.000000       2927.000000   \n",
       "unique                         187            NaN               NaN   \n",
       "top     Barbados, port unspecified            NaN               NaN   \n",
       "freq                          2038            NaN               NaN   \n",
       "mean                           NaN       0.274198          0.231582   \n",
       "std                            NaN       0.116513          0.149508   \n",
       "min                            NaN       0.000000          0.000000   \n",
       "25%                            NaN       0.195265          0.115380   \n",
       "50%                            NaN       0.264110          0.215100   \n",
       "75%                            NaN       0.346150          0.321900   \n",
       "max                            NaN       1.000000          1.000000   \n",
       "\n",
       "        percent_men  total_embarked  total_disembarked    resistance_label  \\\n",
       "count   2894.000000    20722.000000       20719.000000                 372   \n",
       "unique          NaN             NaN                NaN                   6   \n",
       "top             NaN             NaN                NaN  Slave insurrection   \n",
       "freq            NaN             NaN                NaN                 330   \n",
       "mean       0.496648      295.050381         251.573966                 NaN   \n",
       "std        0.140324      147.997690         128.050439                 NaN   \n",
       "min        0.000000        1.000000           1.000000                 NaN   \n",
       "25%        0.407460      194.000000         163.000000                 NaN   \n",
       "50%        0.497890      282.000000         241.000000                 NaN   \n",
       "75%        0.586765      368.000000         313.000000                 NaN   \n",
       "max        1.000000     2024.000000        1700.000000                 NaN   \n",
       "\n",
       "       vessel_name captain's_name      voyage_id  \\\n",
       "count        20741          19396   20741.000000   \n",
       "unique        5849          12233            NaN   \n",
       "top                   Smith, John            NaN   \n",
       "freq           712             36            NaN   \n",
       "mean           NaN            NaN   42783.741671   \n",
       "std            NaN            NaN   32401.785320   \n",
       "min            NaN            NaN     112.000000   \n",
       "25%            NaN            NaN   17862.000000   \n",
       "50%            NaN            NaN   31916.000000   \n",
       "75%            NaN            NaN   78283.000000   \n",
       "max            NaN            NaN  900206.000000   \n",
       "\n",
       "                                                  sources  \n",
       "count                                               20741  \n",
       "unique                                              13754  \n",
       "top     [u'mettas,I<>Mettas, Jean,  <i>R\\xe9pertoire d...  \n",
       "freq                                                 1134  \n",
       "mean                                                  NaN  \n",
       "std                                                   NaN  \n",
       "min                                                   NaN  \n",
       "25%                                                   NaN  \n",
       "50%                                                   NaN  \n",
       "75%                                                   NaN  \n",
       "max                                                   NaN  "
      ]
     },
     "execution_count": 53,
     "metadata": {},
     "output_type": "execute_result"
    }
   ],
   "source": [
    "slave_voyages_df.describe(include='all')"
   ]
  },
  {
   "cell_type": "markdown",
   "metadata": {},
   "source": [
    "## Missing Data"
   ]
  },
  {
   "cell_type": "markdown",
   "metadata": {},
   "source": [
    "\"Black digital practice requires researchers to witness and remark on the marked and unmarked bodies, the ones that defy computation, and **finds ways to hold the null vlaues up to the light.**\"  \n",
    "—Jessica Marie Johnson "
   ]
  },
  {
   "cell_type": "markdown",
   "metadata": {},
   "source": [
    "### .isna() / .notna()"
   ]
  },
  {
   "cell_type": "markdown",
   "metadata": {},
   "source": [
    "Pandas has special ways of dealing with missing data. As you may have already noticed, blank rows in a CSV file show up as `NaN` in a Pandas DataFrame."
   ]
  },
  {
   "cell_type": "markdown",
   "metadata": {},
   "source": [
    "To filter and count the number of missing/not missing values in a dataset, we can use the special `.isna()` and `.notna()` methods on a DataFrame or Series object."
   ]
  },
  {
   "cell_type": "code",
   "execution_count": 54,
   "metadata": {
    "ExecuteTime": {
     "end_time": "2022-11-11T11:15:38.912853Z",
     "start_time": "2022-11-11T11:15:38.907626Z"
    }
   },
   "outputs": [
    {
     "data": {
      "text/plain": [
       "0        False\n",
       "1        False\n",
       "2        False\n",
       "3        False\n",
       "4        False\n",
       "         ...  \n",
       "20736    False\n",
       "20737    False\n",
       "20738    False\n",
       "20739    False\n",
       "20740    False\n",
       "Name: percent_women, Length: 20741, dtype: bool"
      ]
     },
     "execution_count": 54,
     "metadata": {},
     "output_type": "execute_result"
    }
   ],
   "source": [
    "slave_voyages_df['percent_women'].notna()"
   ]
  },
  {
   "cell_type": "code",
   "execution_count": 55,
   "metadata": {
    "ExecuteTime": {
     "end_time": "2022-11-11T11:15:38.944675Z",
     "start_time": "2022-11-11T11:15:38.941754Z"
    }
   },
   "outputs": [],
   "source": [
    "not_blank_women = slave_voyages_df['percent_women'].notna()"
   ]
  },
  {
   "cell_type": "markdown",
   "metadata": {},
   "source": [
    "To explicitly count the number of blank rows, we can use the `.value_counts()` method."
   ]
  },
  {
   "cell_type": "code",
   "execution_count": 56,
   "metadata": {
    "ExecuteTime": {
     "end_time": "2022-11-11T11:15:39.063087Z",
     "start_time": "2022-11-11T11:15:39.054929Z"
    }
   },
   "outputs": [
    {
     "data": {
      "text/plain": [
       "True     17847\n",
       "False     2894\n",
       "Name: percent_women, dtype: int64"
      ]
     },
     "execution_count": 56,
     "metadata": {},
     "output_type": "execute_result"
    }
   ],
   "source": [
    "slave_voyages_df['percent_women'].isna().value_counts()"
   ]
  },
  {
   "cell_type": "markdown",
   "metadata": {},
   "source": [
    "To quickly transform these numbers into percentages, we can set the `normalize=` parameter to True."
   ]
  },
  {
   "cell_type": "code",
   "execution_count": 57,
   "metadata": {
    "ExecuteTime": {
     "end_time": "2022-11-11T11:15:39.350360Z",
     "start_time": "2022-11-11T11:15:39.340000Z"
    }
   },
   "outputs": [
    {
     "data": {
      "text/plain": [
       "True     0.86047\n",
       "False    0.13953\n",
       "Name: percent_women, dtype: float64"
      ]
     },
     "execution_count": 57,
     "metadata": {},
     "output_type": "execute_result"
    }
   ],
   "source": [
    "slave_voyages_df['percent_women'].isna().value_counts(normalize=True)"
   ]
  },
  {
   "cell_type": "markdown",
   "metadata": {},
   "source": [
    "Because the `.count()` method always excludes NaN values, we can also count the number of values in each column and divide by the total number of rows in each column (`len()`) to find the percentage of not blank data in every column."
   ]
  },
  {
   "cell_type": "code",
   "execution_count": 58,
   "metadata": {
    "ExecuteTime": {
     "end_time": "2022-11-11T11:15:39.710426Z",
     "start_time": "2022-11-11T11:15:39.670908Z"
    }
   },
   "outputs": [
    {
     "data": {
      "text/plain": [
       "year_of_arrival      1.000000\n",
       "flag                 0.944169\n",
       "place_of_purchase    0.996239\n",
       "place_of_landing     1.000000\n",
       "percent_women        0.139530\n",
       "percent_children     0.141121\n",
       "percent_men          0.139530\n",
       "total_embarked       0.999084\n",
       "total_disembarked    0.998939\n",
       "resistance_label     0.017935\n",
       "vessel_name          1.000000\n",
       "captain's_name       0.935153\n",
       "voyage_id            1.000000\n",
       "sources              1.000000\n",
       "dtype: float64"
      ]
     },
     "execution_count": 58,
     "metadata": {},
     "output_type": "execute_result"
    }
   ],
   "source": [
    "slave_voyages_df.count() / len(slave_voyages_df)"
   ]
  },
  {
   "cell_type": "markdown",
   "metadata": {},
   "source": [
    "## Sort Columns"
   ]
  },
  {
   "cell_type": "markdown",
   "metadata": {},
   "source": [
    "We can sort a DataFrame with the `.sort_values()` method, inside of which we include the parameter `by=` and indicate the name of the column we want to sort by (written in quotation marks)."
   ]
  },
  {
   "cell_type": "markdown",
   "metadata": {},
   "source": [
    "### ❓ Which voyages had the highest percentage of women on board?"
   ]
  },
  {
   "cell_type": "code",
   "execution_count": 59,
   "metadata": {
    "ExecuteTime": {
     "end_time": "2022-11-11T11:15:40.631707Z",
     "start_time": "2022-11-11T11:15:40.625315Z"
    },
    "scrolled": true,
    "tags": [
     "output_scroll"
    ]
   },
   "outputs": [
    {
     "ename": "SyntaxError",
     "evalue": "invalid syntax (4198010776.py, line 1)",
     "output_type": "error",
     "traceback": [
      "\u001b[0;36m  Input \u001b[0;32mIn [59]\u001b[0;36m\u001b[0m\n\u001b[0;31m    slave_voyages_df...\u001b[0m\n\u001b[0m                    ^\u001b[0m\n\u001b[0;31mSyntaxError\u001b[0m\u001b[0;31m:\u001b[0m invalid syntax\n"
     ]
    }
   ],
   "source": [
    "slave_voyages_df..."
   ]
  },
  {
   "cell_type": "markdown",
   "metadata": {},
   "source": [
    "## Calculate Columns"
   ]
  },
  {
   "cell_type": "markdown",
   "metadata": {},
   "source": [
    "We can do different calculations on columns with built-in Pandas functions. These calculations will ignore `NaN` values."
   ]
  },
  {
   "cell_type": "markdown",
   "metadata": {},
   "source": [
    "| Pandas calculations | Explanation                         |\n",
    "|----------|-------------------------------------|\n",
    "| `.count()`    | Number of observations    |\n",
    "| `.sum()`      | Sum of values                       |\n",
    "| `.mean()`     | Mean of values                      |\n",
    "| `.median()`   | Median of values         |\n",
    "| `.min()`      | Minimum                             |\n",
    "| `.max()`      | Maximum                             |\n",
    "| `.mode()`     | Mode                                |\n",
    "| `.std()`      | Unbiased standard deviation         |\n",
    "\n"
   ]
  },
  {
   "cell_type": "markdown",
   "metadata": {},
   "source": [
    "### ❓ What was the average percentage of women aboard the voyages?"
   ]
  },
  {
   "cell_type": "code",
   "execution_count": 60,
   "metadata": {
    "ExecuteTime": {
     "end_time": "2022-11-11T11:15:41.481325Z",
     "start_time": "2022-11-11T11:15:41.451600Z"
    }
   },
   "outputs": [
    {
     "data": {
      "text/html": [
       "<div>\n",
       "<style scoped>\n",
       "    .dataframe tbody tr th:only-of-type {\n",
       "        vertical-align: middle;\n",
       "    }\n",
       "\n",
       "    .dataframe tbody tr th {\n",
       "        vertical-align: top;\n",
       "    }\n",
       "\n",
       "    .dataframe thead th {\n",
       "        text-align: right;\n",
       "    }\n",
       "</style>\n",
       "<table border=\"1\" class=\"dataframe\">\n",
       "  <thead>\n",
       "    <tr style=\"text-align: right;\">\n",
       "      <th></th>\n",
       "      <th>year_of_arrival</th>\n",
       "      <th>flag</th>\n",
       "      <th>place_of_purchase</th>\n",
       "      <th>place_of_landing</th>\n",
       "      <th>percent_women</th>\n",
       "      <th>percent_children</th>\n",
       "      <th>percent_men</th>\n",
       "      <th>total_embarked</th>\n",
       "      <th>total_disembarked</th>\n",
       "      <th>resistance_label</th>\n",
       "      <th>vessel_name</th>\n",
       "      <th>captain's_name</th>\n",
       "      <th>voyage_id</th>\n",
       "      <th>sources</th>\n",
       "    </tr>\n",
       "  </thead>\n",
       "  <tbody>\n",
       "    <tr>\n",
       "      <th>0</th>\n",
       "      <td>1520</td>\n",
       "      <td>NaN</td>\n",
       "      <td>Portuguese Guinea</td>\n",
       "      <td>San Juan</td>\n",
       "      <td>NaN</td>\n",
       "      <td>NaN</td>\n",
       "      <td>NaN</td>\n",
       "      <td>324.0</td>\n",
       "      <td>259.0</td>\n",
       "      <td>NaN</td>\n",
       "      <td></td>\n",
       "      <td>NaN</td>\n",
       "      <td>42987</td>\n",
       "      <td>[u'AGI,Patronato 175, r.9&lt;&gt;&lt;p&gt;&lt;em&gt;AG!&lt;/em&gt; (Se...</td>\n",
       "    </tr>\n",
       "    <tr>\n",
       "      <th>1</th>\n",
       "      <td>1525</td>\n",
       "      <td>Portugal / Brazil</td>\n",
       "      <td>Sao Tome</td>\n",
       "      <td>Hispaniola, unspecified</td>\n",
       "      <td>NaN</td>\n",
       "      <td>NaN</td>\n",
       "      <td>NaN</td>\n",
       "      <td>359.0</td>\n",
       "      <td>287.0</td>\n",
       "      <td>NaN</td>\n",
       "      <td>S Maria de Bogoña</td>\n",
       "      <td>Monteiro, Pero</td>\n",
       "      <td>46473</td>\n",
       "      <td>[u'ANTT,CC,Parte II, maco 131, doc 54&lt;&gt;&lt;i&gt;Inst...</td>\n",
       "    </tr>\n",
       "    <tr>\n",
       "      <th>2</th>\n",
       "      <td>1526</td>\n",
       "      <td>Spain / Uruguay</td>\n",
       "      <td>Cape Verde Islands</td>\n",
       "      <td>Cuba, port unspecified</td>\n",
       "      <td>NaN</td>\n",
       "      <td>NaN</td>\n",
       "      <td>NaN</td>\n",
       "      <td>359.0</td>\n",
       "      <td>287.0</td>\n",
       "      <td>NaN</td>\n",
       "      <td></td>\n",
       "      <td>Carega, Esteban (?)</td>\n",
       "      <td>11297</td>\n",
       "      <td>[u'Pike,60-1,172&lt;&gt;Pike, Ruth, &lt;i&gt;Enterprise&lt;/i...</td>\n",
       "    </tr>\n",
       "    <tr>\n",
       "      <th>3</th>\n",
       "      <td>1526</td>\n",
       "      <td>Spain / Uruguay</td>\n",
       "      <td>Cape Verde Islands</td>\n",
       "      <td>Cuba, port unspecified</td>\n",
       "      <td>NaN</td>\n",
       "      <td>NaN</td>\n",
       "      <td>NaN</td>\n",
       "      <td>359.0</td>\n",
       "      <td>287.0</td>\n",
       "      <td>NaN</td>\n",
       "      <td></td>\n",
       "      <td>Carega, Esteban (?)</td>\n",
       "      <td>11298</td>\n",
       "      <td>[u'Pike,60-1,172&lt;&gt;Pike, Ruth, &lt;i&gt;Enterprise&lt;/i...</td>\n",
       "    </tr>\n",
       "    <tr>\n",
       "      <th>4</th>\n",
       "      <td>1526</td>\n",
       "      <td>NaN</td>\n",
       "      <td>Cape Verde Islands</td>\n",
       "      <td>Caribbean (colony unspecified)</td>\n",
       "      <td>NaN</td>\n",
       "      <td>NaN</td>\n",
       "      <td>NaN</td>\n",
       "      <td>359.0</td>\n",
       "      <td>287.0</td>\n",
       "      <td>NaN</td>\n",
       "      <td>S Anton</td>\n",
       "      <td>Leon, Juan de</td>\n",
       "      <td>42631</td>\n",
       "      <td>[u'Chaunus, 3: 162-63&lt;&gt;&lt;p&gt;Chaunus, &lt;em&gt;xxxxxx&lt;...</td>\n",
       "    </tr>\n",
       "    <tr>\n",
       "      <th>...</th>\n",
       "      <td>...</td>\n",
       "      <td>...</td>\n",
       "      <td>...</td>\n",
       "      <td>...</td>\n",
       "      <td>...</td>\n",
       "      <td>...</td>\n",
       "      <td>...</td>\n",
       "      <td>...</td>\n",
       "      <td>...</td>\n",
       "      <td>...</td>\n",
       "      <td>...</td>\n",
       "      <td>...</td>\n",
       "      <td>...</td>\n",
       "      <td>...</td>\n",
       "    </tr>\n",
       "    <tr>\n",
       "      <th>20736</th>\n",
       "      <td>1864</td>\n",
       "      <td>Spain / Uruguay</td>\n",
       "      <td>Africa., port unspecified</td>\n",
       "      <td>Cuba, port unspecified</td>\n",
       "      <td>NaN</td>\n",
       "      <td>NaN</td>\n",
       "      <td>NaN</td>\n",
       "      <td>488.0</td>\n",
       "      <td>465.0</td>\n",
       "      <td>NaN</td>\n",
       "      <td>Polaca</td>\n",
       "      <td>NaN</td>\n",
       "      <td>46554</td>\n",
       "      <td>[u'AHNM, Ultramar, Leg. 3551, 6&lt;&gt;&lt;i&gt;Archivo Hi...</td>\n",
       "    </tr>\n",
       "    <tr>\n",
       "      <th>20737</th>\n",
       "      <td>1865</td>\n",
       "      <td>Spain / Uruguay</td>\n",
       "      <td>Africa., port unspecified</td>\n",
       "      <td>Isla de Pinas</td>\n",
       "      <td>NaN</td>\n",
       "      <td>NaN</td>\n",
       "      <td>NaN</td>\n",
       "      <td>152.0</td>\n",
       "      <td>145.0</td>\n",
       "      <td>Slave insurrection</td>\n",
       "      <td>Gato</td>\n",
       "      <td>NaN</td>\n",
       "      <td>4394</td>\n",
       "      <td>[u'IUP,ST,50/B/137&lt;&gt;Great Britain, &lt;i&gt;Irish Un...</td>\n",
       "    </tr>\n",
       "    <tr>\n",
       "      <th>20738</th>\n",
       "      <td>1865</td>\n",
       "      <td>NaN</td>\n",
       "      <td>Africa., port unspecified</td>\n",
       "      <td>Mariel</td>\n",
       "      <td>NaN</td>\n",
       "      <td>NaN</td>\n",
       "      <td>NaN</td>\n",
       "      <td>780.0</td>\n",
       "      <td>650.0</td>\n",
       "      <td>NaN</td>\n",
       "      <td></td>\n",
       "      <td>NaN</td>\n",
       "      <td>4395</td>\n",
       "      <td>[u'IUP,ST,50/B/144&lt;&gt;Great Britain, &lt;i&gt;Irish Un...</td>\n",
       "    </tr>\n",
       "    <tr>\n",
       "      <th>20739</th>\n",
       "      <td>1865</td>\n",
       "      <td>NaN</td>\n",
       "      <td>Congo River</td>\n",
       "      <td>Cuba, port unspecified</td>\n",
       "      <td>NaN</td>\n",
       "      <td>NaN</td>\n",
       "      <td>NaN</td>\n",
       "      <td>1265.0</td>\n",
       "      <td>1004.0</td>\n",
       "      <td>NaN</td>\n",
       "      <td>Cicerón</td>\n",
       "      <td>Mesquita</td>\n",
       "      <td>5052</td>\n",
       "      <td>[u'IUP,ST,50/A/23-4&lt;&gt;Great Britain, &lt;i&gt;Irish U...</td>\n",
       "    </tr>\n",
       "    <tr>\n",
       "      <th>20740</th>\n",
       "      <td>1866</td>\n",
       "      <td>NaN</td>\n",
       "      <td>Africa., port unspecified</td>\n",
       "      <td>Cuba, port unspecified</td>\n",
       "      <td>NaN</td>\n",
       "      <td>NaN</td>\n",
       "      <td>NaN</td>\n",
       "      <td>851.0</td>\n",
       "      <td>700.0</td>\n",
       "      <td>NaN</td>\n",
       "      <td></td>\n",
       "      <td>NaN</td>\n",
       "      <td>4998</td>\n",
       "      <td>[u'IUP,ST,50/B/220&lt;&gt;Great Britain, &lt;i&gt;Irish Un...</td>\n",
       "    </tr>\n",
       "  </tbody>\n",
       "</table>\n",
       "<p>20741 rows × 14 columns</p>\n",
       "</div>"
      ],
      "text/plain": [
       "       year_of_arrival               flag          place_of_purchase  \\\n",
       "0                 1520                NaN          Portuguese Guinea   \n",
       "1                 1525  Portugal / Brazil                   Sao Tome   \n",
       "2                 1526    Spain / Uruguay         Cape Verde Islands   \n",
       "3                 1526    Spain / Uruguay         Cape Verde Islands   \n",
       "4                 1526                NaN         Cape Verde Islands   \n",
       "...                ...                ...                        ...   \n",
       "20736             1864    Spain / Uruguay  Africa., port unspecified   \n",
       "20737             1865    Spain / Uruguay  Africa., port unspecified   \n",
       "20738             1865                NaN  Africa., port unspecified   \n",
       "20739             1865                NaN                Congo River   \n",
       "20740             1866                NaN  Africa., port unspecified   \n",
       "\n",
       "                     place_of_landing  percent_women  percent_children  \\\n",
       "0                            San Juan            NaN               NaN   \n",
       "1             Hispaniola, unspecified            NaN               NaN   \n",
       "2              Cuba, port unspecified            NaN               NaN   \n",
       "3              Cuba, port unspecified            NaN               NaN   \n",
       "4      Caribbean (colony unspecified)            NaN               NaN   \n",
       "...                               ...            ...               ...   \n",
       "20736          Cuba, port unspecified            NaN               NaN   \n",
       "20737                   Isla de Pinas            NaN               NaN   \n",
       "20738                          Mariel            NaN               NaN   \n",
       "20739          Cuba, port unspecified            NaN               NaN   \n",
       "20740          Cuba, port unspecified            NaN               NaN   \n",
       "\n",
       "       percent_men  total_embarked  total_disembarked    resistance_label  \\\n",
       "0              NaN           324.0              259.0                 NaN   \n",
       "1              NaN           359.0              287.0                 NaN   \n",
       "2              NaN           359.0              287.0                 NaN   \n",
       "3              NaN           359.0              287.0                 NaN   \n",
       "4              NaN           359.0              287.0                 NaN   \n",
       "...            ...             ...                ...                 ...   \n",
       "20736          NaN           488.0              465.0                 NaN   \n",
       "20737          NaN           152.0              145.0  Slave insurrection   \n",
       "20738          NaN           780.0              650.0                 NaN   \n",
       "20739          NaN          1265.0             1004.0                 NaN   \n",
       "20740          NaN           851.0              700.0                 NaN   \n",
       "\n",
       "             vessel_name       captain's_name  voyage_id  \\\n",
       "0                                         NaN      42987   \n",
       "1      S Maria de Bogoña       Monteiro, Pero      46473   \n",
       "2                         Carega, Esteban (?)      11297   \n",
       "3                         Carega, Esteban (?)      11298   \n",
       "4                S Anton        Leon, Juan de      42631   \n",
       "...                  ...                  ...        ...   \n",
       "20736             Polaca                  NaN      46554   \n",
       "20737               Gato                  NaN       4394   \n",
       "20738                                     NaN       4395   \n",
       "20739            Cicerón             Mesquita       5052   \n",
       "20740                                     NaN       4998   \n",
       "\n",
       "                                                 sources  \n",
       "0      [u'AGI,Patronato 175, r.9<><p><em>AG!</em> (Se...  \n",
       "1      [u'ANTT,CC,Parte II, maco 131, doc 54<><i>Inst...  \n",
       "2      [u'Pike,60-1,172<>Pike, Ruth, <i>Enterprise</i...  \n",
       "3      [u'Pike,60-1,172<>Pike, Ruth, <i>Enterprise</i...  \n",
       "4      [u'Chaunus, 3: 162-63<><p>Chaunus, <em>xxxxxx<...  \n",
       "...                                                  ...  \n",
       "20736  [u'AHNM, Ultramar, Leg. 3551, 6<><i>Archivo Hi...  \n",
       "20737  [u'IUP,ST,50/B/137<>Great Britain, <i>Irish Un...  \n",
       "20738  [u'IUP,ST,50/B/144<>Great Britain, <i>Irish Un...  \n",
       "20739  [u'IUP,ST,50/A/23-4<>Great Britain, <i>Irish U...  \n",
       "20740  [u'IUP,ST,50/B/220<>Great Britain, <i>Irish Un...  \n",
       "\n",
       "[20741 rows x 14 columns]"
      ]
     },
     "execution_count": 60,
     "metadata": {},
     "output_type": "execute_result"
    }
   ],
   "source": [
    "slave_voyages_df"
   ]
  },
  {
   "cell_type": "markdown",
   "metadata": {},
   "source": [
    "### ❓ What was the highest percentage of women aboard the voyages?"
   ]
  },
  {
   "cell_type": "code",
   "execution_count": 61,
   "metadata": {
    "ExecuteTime": {
     "end_time": "2022-11-11T11:15:41.750022Z",
     "start_time": "2022-11-11T11:15:41.724061Z"
    }
   },
   "outputs": [
    {
     "data": {
      "text/html": [
       "<div>\n",
       "<style scoped>\n",
       "    .dataframe tbody tr th:only-of-type {\n",
       "        vertical-align: middle;\n",
       "    }\n",
       "\n",
       "    .dataframe tbody tr th {\n",
       "        vertical-align: top;\n",
       "    }\n",
       "\n",
       "    .dataframe thead th {\n",
       "        text-align: right;\n",
       "    }\n",
       "</style>\n",
       "<table border=\"1\" class=\"dataframe\">\n",
       "  <thead>\n",
       "    <tr style=\"text-align: right;\">\n",
       "      <th></th>\n",
       "      <th>year_of_arrival</th>\n",
       "      <th>flag</th>\n",
       "      <th>place_of_purchase</th>\n",
       "      <th>place_of_landing</th>\n",
       "      <th>percent_women</th>\n",
       "      <th>percent_children</th>\n",
       "      <th>percent_men</th>\n",
       "      <th>total_embarked</th>\n",
       "      <th>total_disembarked</th>\n",
       "      <th>resistance_label</th>\n",
       "      <th>vessel_name</th>\n",
       "      <th>captain's_name</th>\n",
       "      <th>voyage_id</th>\n",
       "      <th>sources</th>\n",
       "    </tr>\n",
       "  </thead>\n",
       "  <tbody>\n",
       "    <tr>\n",
       "      <th>0</th>\n",
       "      <td>1520</td>\n",
       "      <td>NaN</td>\n",
       "      <td>Portuguese Guinea</td>\n",
       "      <td>San Juan</td>\n",
       "      <td>NaN</td>\n",
       "      <td>NaN</td>\n",
       "      <td>NaN</td>\n",
       "      <td>324.0</td>\n",
       "      <td>259.0</td>\n",
       "      <td>NaN</td>\n",
       "      <td></td>\n",
       "      <td>NaN</td>\n",
       "      <td>42987</td>\n",
       "      <td>[u'AGI,Patronato 175, r.9&lt;&gt;&lt;p&gt;&lt;em&gt;AG!&lt;/em&gt; (Se...</td>\n",
       "    </tr>\n",
       "    <tr>\n",
       "      <th>1</th>\n",
       "      <td>1525</td>\n",
       "      <td>Portugal / Brazil</td>\n",
       "      <td>Sao Tome</td>\n",
       "      <td>Hispaniola, unspecified</td>\n",
       "      <td>NaN</td>\n",
       "      <td>NaN</td>\n",
       "      <td>NaN</td>\n",
       "      <td>359.0</td>\n",
       "      <td>287.0</td>\n",
       "      <td>NaN</td>\n",
       "      <td>S Maria de Bogoña</td>\n",
       "      <td>Monteiro, Pero</td>\n",
       "      <td>46473</td>\n",
       "      <td>[u'ANTT,CC,Parte II, maco 131, doc 54&lt;&gt;&lt;i&gt;Inst...</td>\n",
       "    </tr>\n",
       "    <tr>\n",
       "      <th>2</th>\n",
       "      <td>1526</td>\n",
       "      <td>Spain / Uruguay</td>\n",
       "      <td>Cape Verde Islands</td>\n",
       "      <td>Cuba, port unspecified</td>\n",
       "      <td>NaN</td>\n",
       "      <td>NaN</td>\n",
       "      <td>NaN</td>\n",
       "      <td>359.0</td>\n",
       "      <td>287.0</td>\n",
       "      <td>NaN</td>\n",
       "      <td></td>\n",
       "      <td>Carega, Esteban (?)</td>\n",
       "      <td>11297</td>\n",
       "      <td>[u'Pike,60-1,172&lt;&gt;Pike, Ruth, &lt;i&gt;Enterprise&lt;/i...</td>\n",
       "    </tr>\n",
       "    <tr>\n",
       "      <th>3</th>\n",
       "      <td>1526</td>\n",
       "      <td>Spain / Uruguay</td>\n",
       "      <td>Cape Verde Islands</td>\n",
       "      <td>Cuba, port unspecified</td>\n",
       "      <td>NaN</td>\n",
       "      <td>NaN</td>\n",
       "      <td>NaN</td>\n",
       "      <td>359.0</td>\n",
       "      <td>287.0</td>\n",
       "      <td>NaN</td>\n",
       "      <td></td>\n",
       "      <td>Carega, Esteban (?)</td>\n",
       "      <td>11298</td>\n",
       "      <td>[u'Pike,60-1,172&lt;&gt;Pike, Ruth, &lt;i&gt;Enterprise&lt;/i...</td>\n",
       "    </tr>\n",
       "    <tr>\n",
       "      <th>4</th>\n",
       "      <td>1526</td>\n",
       "      <td>NaN</td>\n",
       "      <td>Cape Verde Islands</td>\n",
       "      <td>Caribbean (colony unspecified)</td>\n",
       "      <td>NaN</td>\n",
       "      <td>NaN</td>\n",
       "      <td>NaN</td>\n",
       "      <td>359.0</td>\n",
       "      <td>287.0</td>\n",
       "      <td>NaN</td>\n",
       "      <td>S Anton</td>\n",
       "      <td>Leon, Juan de</td>\n",
       "      <td>42631</td>\n",
       "      <td>[u'Chaunus, 3: 162-63&lt;&gt;&lt;p&gt;Chaunus, &lt;em&gt;xxxxxx&lt;...</td>\n",
       "    </tr>\n",
       "    <tr>\n",
       "      <th>...</th>\n",
       "      <td>...</td>\n",
       "      <td>...</td>\n",
       "      <td>...</td>\n",
       "      <td>...</td>\n",
       "      <td>...</td>\n",
       "      <td>...</td>\n",
       "      <td>...</td>\n",
       "      <td>...</td>\n",
       "      <td>...</td>\n",
       "      <td>...</td>\n",
       "      <td>...</td>\n",
       "      <td>...</td>\n",
       "      <td>...</td>\n",
       "      <td>...</td>\n",
       "    </tr>\n",
       "    <tr>\n",
       "      <th>20736</th>\n",
       "      <td>1864</td>\n",
       "      <td>Spain / Uruguay</td>\n",
       "      <td>Africa., port unspecified</td>\n",
       "      <td>Cuba, port unspecified</td>\n",
       "      <td>NaN</td>\n",
       "      <td>NaN</td>\n",
       "      <td>NaN</td>\n",
       "      <td>488.0</td>\n",
       "      <td>465.0</td>\n",
       "      <td>NaN</td>\n",
       "      <td>Polaca</td>\n",
       "      <td>NaN</td>\n",
       "      <td>46554</td>\n",
       "      <td>[u'AHNM, Ultramar, Leg. 3551, 6&lt;&gt;&lt;i&gt;Archivo Hi...</td>\n",
       "    </tr>\n",
       "    <tr>\n",
       "      <th>20737</th>\n",
       "      <td>1865</td>\n",
       "      <td>Spain / Uruguay</td>\n",
       "      <td>Africa., port unspecified</td>\n",
       "      <td>Isla de Pinas</td>\n",
       "      <td>NaN</td>\n",
       "      <td>NaN</td>\n",
       "      <td>NaN</td>\n",
       "      <td>152.0</td>\n",
       "      <td>145.0</td>\n",
       "      <td>Slave insurrection</td>\n",
       "      <td>Gato</td>\n",
       "      <td>NaN</td>\n",
       "      <td>4394</td>\n",
       "      <td>[u'IUP,ST,50/B/137&lt;&gt;Great Britain, &lt;i&gt;Irish Un...</td>\n",
       "    </tr>\n",
       "    <tr>\n",
       "      <th>20738</th>\n",
       "      <td>1865</td>\n",
       "      <td>NaN</td>\n",
       "      <td>Africa., port unspecified</td>\n",
       "      <td>Mariel</td>\n",
       "      <td>NaN</td>\n",
       "      <td>NaN</td>\n",
       "      <td>NaN</td>\n",
       "      <td>780.0</td>\n",
       "      <td>650.0</td>\n",
       "      <td>NaN</td>\n",
       "      <td></td>\n",
       "      <td>NaN</td>\n",
       "      <td>4395</td>\n",
       "      <td>[u'IUP,ST,50/B/144&lt;&gt;Great Britain, &lt;i&gt;Irish Un...</td>\n",
       "    </tr>\n",
       "    <tr>\n",
       "      <th>20739</th>\n",
       "      <td>1865</td>\n",
       "      <td>NaN</td>\n",
       "      <td>Congo River</td>\n",
       "      <td>Cuba, port unspecified</td>\n",
       "      <td>NaN</td>\n",
       "      <td>NaN</td>\n",
       "      <td>NaN</td>\n",
       "      <td>1265.0</td>\n",
       "      <td>1004.0</td>\n",
       "      <td>NaN</td>\n",
       "      <td>Cicerón</td>\n",
       "      <td>Mesquita</td>\n",
       "      <td>5052</td>\n",
       "      <td>[u'IUP,ST,50/A/23-4&lt;&gt;Great Britain, &lt;i&gt;Irish U...</td>\n",
       "    </tr>\n",
       "    <tr>\n",
       "      <th>20740</th>\n",
       "      <td>1866</td>\n",
       "      <td>NaN</td>\n",
       "      <td>Africa., port unspecified</td>\n",
       "      <td>Cuba, port unspecified</td>\n",
       "      <td>NaN</td>\n",
       "      <td>NaN</td>\n",
       "      <td>NaN</td>\n",
       "      <td>851.0</td>\n",
       "      <td>700.0</td>\n",
       "      <td>NaN</td>\n",
       "      <td></td>\n",
       "      <td>NaN</td>\n",
       "      <td>4998</td>\n",
       "      <td>[u'IUP,ST,50/B/220&lt;&gt;Great Britain, &lt;i&gt;Irish Un...</td>\n",
       "    </tr>\n",
       "  </tbody>\n",
       "</table>\n",
       "<p>20741 rows × 14 columns</p>\n",
       "</div>"
      ],
      "text/plain": [
       "       year_of_arrival               flag          place_of_purchase  \\\n",
       "0                 1520                NaN          Portuguese Guinea   \n",
       "1                 1525  Portugal / Brazil                   Sao Tome   \n",
       "2                 1526    Spain / Uruguay         Cape Verde Islands   \n",
       "3                 1526    Spain / Uruguay         Cape Verde Islands   \n",
       "4                 1526                NaN         Cape Verde Islands   \n",
       "...                ...                ...                        ...   \n",
       "20736             1864    Spain / Uruguay  Africa., port unspecified   \n",
       "20737             1865    Spain / Uruguay  Africa., port unspecified   \n",
       "20738             1865                NaN  Africa., port unspecified   \n",
       "20739             1865                NaN                Congo River   \n",
       "20740             1866                NaN  Africa., port unspecified   \n",
       "\n",
       "                     place_of_landing  percent_women  percent_children  \\\n",
       "0                            San Juan            NaN               NaN   \n",
       "1             Hispaniola, unspecified            NaN               NaN   \n",
       "2              Cuba, port unspecified            NaN               NaN   \n",
       "3              Cuba, port unspecified            NaN               NaN   \n",
       "4      Caribbean (colony unspecified)            NaN               NaN   \n",
       "...                               ...            ...               ...   \n",
       "20736          Cuba, port unspecified            NaN               NaN   \n",
       "20737                   Isla de Pinas            NaN               NaN   \n",
       "20738                          Mariel            NaN               NaN   \n",
       "20739          Cuba, port unspecified            NaN               NaN   \n",
       "20740          Cuba, port unspecified            NaN               NaN   \n",
       "\n",
       "       percent_men  total_embarked  total_disembarked    resistance_label  \\\n",
       "0              NaN           324.0              259.0                 NaN   \n",
       "1              NaN           359.0              287.0                 NaN   \n",
       "2              NaN           359.0              287.0                 NaN   \n",
       "3              NaN           359.0              287.0                 NaN   \n",
       "4              NaN           359.0              287.0                 NaN   \n",
       "...            ...             ...                ...                 ...   \n",
       "20736          NaN           488.0              465.0                 NaN   \n",
       "20737          NaN           152.0              145.0  Slave insurrection   \n",
       "20738          NaN           780.0              650.0                 NaN   \n",
       "20739          NaN          1265.0             1004.0                 NaN   \n",
       "20740          NaN           851.0              700.0                 NaN   \n",
       "\n",
       "             vessel_name       captain's_name  voyage_id  \\\n",
       "0                                         NaN      42987   \n",
       "1      S Maria de Bogoña       Monteiro, Pero      46473   \n",
       "2                         Carega, Esteban (?)      11297   \n",
       "3                         Carega, Esteban (?)      11298   \n",
       "4                S Anton        Leon, Juan de      42631   \n",
       "...                  ...                  ...        ...   \n",
       "20736             Polaca                  NaN      46554   \n",
       "20737               Gato                  NaN       4394   \n",
       "20738                                     NaN       4395   \n",
       "20739            Cicerón             Mesquita       5052   \n",
       "20740                                     NaN       4998   \n",
       "\n",
       "                                                 sources  \n",
       "0      [u'AGI,Patronato 175, r.9<><p><em>AG!</em> (Se...  \n",
       "1      [u'ANTT,CC,Parte II, maco 131, doc 54<><i>Inst...  \n",
       "2      [u'Pike,60-1,172<>Pike, Ruth, <i>Enterprise</i...  \n",
       "3      [u'Pike,60-1,172<>Pike, Ruth, <i>Enterprise</i...  \n",
       "4      [u'Chaunus, 3: 162-63<><p>Chaunus, <em>xxxxxx<...  \n",
       "...                                                  ...  \n",
       "20736  [u'AHNM, Ultramar, Leg. 3551, 6<><i>Archivo Hi...  \n",
       "20737  [u'IUP,ST,50/B/137<>Great Britain, <i>Irish Un...  \n",
       "20738  [u'IUP,ST,50/B/144<>Great Britain, <i>Irish Un...  \n",
       "20739  [u'IUP,ST,50/A/23-4<>Great Britain, <i>Irish U...  \n",
       "20740  [u'IUP,ST,50/B/220<>Great Britain, <i>Irish Un...  \n",
       "\n",
       "[20741 rows x 14 columns]"
      ]
     },
     "execution_count": 61,
     "metadata": {},
     "output_type": "execute_result"
    }
   ],
   "source": [
    "slave_voyages_df"
   ]
  },
  {
   "cell_type": "markdown",
   "metadata": {},
   "source": [
    "### ❓ What was the average percentage of children aboard the voyages?"
   ]
  },
  {
   "cell_type": "code",
   "execution_count": 62,
   "metadata": {
    "ExecuteTime": {
     "end_time": "2022-11-11T11:15:42.091452Z",
     "start_time": "2022-11-11T11:15:42.061739Z"
    }
   },
   "outputs": [
    {
     "data": {
      "text/html": [
       "<div>\n",
       "<style scoped>\n",
       "    .dataframe tbody tr th:only-of-type {\n",
       "        vertical-align: middle;\n",
       "    }\n",
       "\n",
       "    .dataframe tbody tr th {\n",
       "        vertical-align: top;\n",
       "    }\n",
       "\n",
       "    .dataframe thead th {\n",
       "        text-align: right;\n",
       "    }\n",
       "</style>\n",
       "<table border=\"1\" class=\"dataframe\">\n",
       "  <thead>\n",
       "    <tr style=\"text-align: right;\">\n",
       "      <th></th>\n",
       "      <th>year_of_arrival</th>\n",
       "      <th>flag</th>\n",
       "      <th>place_of_purchase</th>\n",
       "      <th>place_of_landing</th>\n",
       "      <th>percent_women</th>\n",
       "      <th>percent_children</th>\n",
       "      <th>percent_men</th>\n",
       "      <th>total_embarked</th>\n",
       "      <th>total_disembarked</th>\n",
       "      <th>resistance_label</th>\n",
       "      <th>vessel_name</th>\n",
       "      <th>captain's_name</th>\n",
       "      <th>voyage_id</th>\n",
       "      <th>sources</th>\n",
       "    </tr>\n",
       "  </thead>\n",
       "  <tbody>\n",
       "    <tr>\n",
       "      <th>0</th>\n",
       "      <td>1520</td>\n",
       "      <td>NaN</td>\n",
       "      <td>Portuguese Guinea</td>\n",
       "      <td>San Juan</td>\n",
       "      <td>NaN</td>\n",
       "      <td>NaN</td>\n",
       "      <td>NaN</td>\n",
       "      <td>324.0</td>\n",
       "      <td>259.0</td>\n",
       "      <td>NaN</td>\n",
       "      <td></td>\n",
       "      <td>NaN</td>\n",
       "      <td>42987</td>\n",
       "      <td>[u'AGI,Patronato 175, r.9&lt;&gt;&lt;p&gt;&lt;em&gt;AG!&lt;/em&gt; (Se...</td>\n",
       "    </tr>\n",
       "    <tr>\n",
       "      <th>1</th>\n",
       "      <td>1525</td>\n",
       "      <td>Portugal / Brazil</td>\n",
       "      <td>Sao Tome</td>\n",
       "      <td>Hispaniola, unspecified</td>\n",
       "      <td>NaN</td>\n",
       "      <td>NaN</td>\n",
       "      <td>NaN</td>\n",
       "      <td>359.0</td>\n",
       "      <td>287.0</td>\n",
       "      <td>NaN</td>\n",
       "      <td>S Maria de Bogoña</td>\n",
       "      <td>Monteiro, Pero</td>\n",
       "      <td>46473</td>\n",
       "      <td>[u'ANTT,CC,Parte II, maco 131, doc 54&lt;&gt;&lt;i&gt;Inst...</td>\n",
       "    </tr>\n",
       "    <tr>\n",
       "      <th>2</th>\n",
       "      <td>1526</td>\n",
       "      <td>Spain / Uruguay</td>\n",
       "      <td>Cape Verde Islands</td>\n",
       "      <td>Cuba, port unspecified</td>\n",
       "      <td>NaN</td>\n",
       "      <td>NaN</td>\n",
       "      <td>NaN</td>\n",
       "      <td>359.0</td>\n",
       "      <td>287.0</td>\n",
       "      <td>NaN</td>\n",
       "      <td></td>\n",
       "      <td>Carega, Esteban (?)</td>\n",
       "      <td>11297</td>\n",
       "      <td>[u'Pike,60-1,172&lt;&gt;Pike, Ruth, &lt;i&gt;Enterprise&lt;/i...</td>\n",
       "    </tr>\n",
       "    <tr>\n",
       "      <th>3</th>\n",
       "      <td>1526</td>\n",
       "      <td>Spain / Uruguay</td>\n",
       "      <td>Cape Verde Islands</td>\n",
       "      <td>Cuba, port unspecified</td>\n",
       "      <td>NaN</td>\n",
       "      <td>NaN</td>\n",
       "      <td>NaN</td>\n",
       "      <td>359.0</td>\n",
       "      <td>287.0</td>\n",
       "      <td>NaN</td>\n",
       "      <td></td>\n",
       "      <td>Carega, Esteban (?)</td>\n",
       "      <td>11298</td>\n",
       "      <td>[u'Pike,60-1,172&lt;&gt;Pike, Ruth, &lt;i&gt;Enterprise&lt;/i...</td>\n",
       "    </tr>\n",
       "    <tr>\n",
       "      <th>4</th>\n",
       "      <td>1526</td>\n",
       "      <td>NaN</td>\n",
       "      <td>Cape Verde Islands</td>\n",
       "      <td>Caribbean (colony unspecified)</td>\n",
       "      <td>NaN</td>\n",
       "      <td>NaN</td>\n",
       "      <td>NaN</td>\n",
       "      <td>359.0</td>\n",
       "      <td>287.0</td>\n",
       "      <td>NaN</td>\n",
       "      <td>S Anton</td>\n",
       "      <td>Leon, Juan de</td>\n",
       "      <td>42631</td>\n",
       "      <td>[u'Chaunus, 3: 162-63&lt;&gt;&lt;p&gt;Chaunus, &lt;em&gt;xxxxxx&lt;...</td>\n",
       "    </tr>\n",
       "    <tr>\n",
       "      <th>...</th>\n",
       "      <td>...</td>\n",
       "      <td>...</td>\n",
       "      <td>...</td>\n",
       "      <td>...</td>\n",
       "      <td>...</td>\n",
       "      <td>...</td>\n",
       "      <td>...</td>\n",
       "      <td>...</td>\n",
       "      <td>...</td>\n",
       "      <td>...</td>\n",
       "      <td>...</td>\n",
       "      <td>...</td>\n",
       "      <td>...</td>\n",
       "      <td>...</td>\n",
       "    </tr>\n",
       "    <tr>\n",
       "      <th>20736</th>\n",
       "      <td>1864</td>\n",
       "      <td>Spain / Uruguay</td>\n",
       "      <td>Africa., port unspecified</td>\n",
       "      <td>Cuba, port unspecified</td>\n",
       "      <td>NaN</td>\n",
       "      <td>NaN</td>\n",
       "      <td>NaN</td>\n",
       "      <td>488.0</td>\n",
       "      <td>465.0</td>\n",
       "      <td>NaN</td>\n",
       "      <td>Polaca</td>\n",
       "      <td>NaN</td>\n",
       "      <td>46554</td>\n",
       "      <td>[u'AHNM, Ultramar, Leg. 3551, 6&lt;&gt;&lt;i&gt;Archivo Hi...</td>\n",
       "    </tr>\n",
       "    <tr>\n",
       "      <th>20737</th>\n",
       "      <td>1865</td>\n",
       "      <td>Spain / Uruguay</td>\n",
       "      <td>Africa., port unspecified</td>\n",
       "      <td>Isla de Pinas</td>\n",
       "      <td>NaN</td>\n",
       "      <td>NaN</td>\n",
       "      <td>NaN</td>\n",
       "      <td>152.0</td>\n",
       "      <td>145.0</td>\n",
       "      <td>Slave insurrection</td>\n",
       "      <td>Gato</td>\n",
       "      <td>NaN</td>\n",
       "      <td>4394</td>\n",
       "      <td>[u'IUP,ST,50/B/137&lt;&gt;Great Britain, &lt;i&gt;Irish Un...</td>\n",
       "    </tr>\n",
       "    <tr>\n",
       "      <th>20738</th>\n",
       "      <td>1865</td>\n",
       "      <td>NaN</td>\n",
       "      <td>Africa., port unspecified</td>\n",
       "      <td>Mariel</td>\n",
       "      <td>NaN</td>\n",
       "      <td>NaN</td>\n",
       "      <td>NaN</td>\n",
       "      <td>780.0</td>\n",
       "      <td>650.0</td>\n",
       "      <td>NaN</td>\n",
       "      <td></td>\n",
       "      <td>NaN</td>\n",
       "      <td>4395</td>\n",
       "      <td>[u'IUP,ST,50/B/144&lt;&gt;Great Britain, &lt;i&gt;Irish Un...</td>\n",
       "    </tr>\n",
       "    <tr>\n",
       "      <th>20739</th>\n",
       "      <td>1865</td>\n",
       "      <td>NaN</td>\n",
       "      <td>Congo River</td>\n",
       "      <td>Cuba, port unspecified</td>\n",
       "      <td>NaN</td>\n",
       "      <td>NaN</td>\n",
       "      <td>NaN</td>\n",
       "      <td>1265.0</td>\n",
       "      <td>1004.0</td>\n",
       "      <td>NaN</td>\n",
       "      <td>Cicerón</td>\n",
       "      <td>Mesquita</td>\n",
       "      <td>5052</td>\n",
       "      <td>[u'IUP,ST,50/A/23-4&lt;&gt;Great Britain, &lt;i&gt;Irish U...</td>\n",
       "    </tr>\n",
       "    <tr>\n",
       "      <th>20740</th>\n",
       "      <td>1866</td>\n",
       "      <td>NaN</td>\n",
       "      <td>Africa., port unspecified</td>\n",
       "      <td>Cuba, port unspecified</td>\n",
       "      <td>NaN</td>\n",
       "      <td>NaN</td>\n",
       "      <td>NaN</td>\n",
       "      <td>851.0</td>\n",
       "      <td>700.0</td>\n",
       "      <td>NaN</td>\n",
       "      <td></td>\n",
       "      <td>NaN</td>\n",
       "      <td>4998</td>\n",
       "      <td>[u'IUP,ST,50/B/220&lt;&gt;Great Britain, &lt;i&gt;Irish Un...</td>\n",
       "    </tr>\n",
       "  </tbody>\n",
       "</table>\n",
       "<p>20741 rows × 14 columns</p>\n",
       "</div>"
      ],
      "text/plain": [
       "       year_of_arrival               flag          place_of_purchase  \\\n",
       "0                 1520                NaN          Portuguese Guinea   \n",
       "1                 1525  Portugal / Brazil                   Sao Tome   \n",
       "2                 1526    Spain / Uruguay         Cape Verde Islands   \n",
       "3                 1526    Spain / Uruguay         Cape Verde Islands   \n",
       "4                 1526                NaN         Cape Verde Islands   \n",
       "...                ...                ...                        ...   \n",
       "20736             1864    Spain / Uruguay  Africa., port unspecified   \n",
       "20737             1865    Spain / Uruguay  Africa., port unspecified   \n",
       "20738             1865                NaN  Africa., port unspecified   \n",
       "20739             1865                NaN                Congo River   \n",
       "20740             1866                NaN  Africa., port unspecified   \n",
       "\n",
       "                     place_of_landing  percent_women  percent_children  \\\n",
       "0                            San Juan            NaN               NaN   \n",
       "1             Hispaniola, unspecified            NaN               NaN   \n",
       "2              Cuba, port unspecified            NaN               NaN   \n",
       "3              Cuba, port unspecified            NaN               NaN   \n",
       "4      Caribbean (colony unspecified)            NaN               NaN   \n",
       "...                               ...            ...               ...   \n",
       "20736          Cuba, port unspecified            NaN               NaN   \n",
       "20737                   Isla de Pinas            NaN               NaN   \n",
       "20738                          Mariel            NaN               NaN   \n",
       "20739          Cuba, port unspecified            NaN               NaN   \n",
       "20740          Cuba, port unspecified            NaN               NaN   \n",
       "\n",
       "       percent_men  total_embarked  total_disembarked    resistance_label  \\\n",
       "0              NaN           324.0              259.0                 NaN   \n",
       "1              NaN           359.0              287.0                 NaN   \n",
       "2              NaN           359.0              287.0                 NaN   \n",
       "3              NaN           359.0              287.0                 NaN   \n",
       "4              NaN           359.0              287.0                 NaN   \n",
       "...            ...             ...                ...                 ...   \n",
       "20736          NaN           488.0              465.0                 NaN   \n",
       "20737          NaN           152.0              145.0  Slave insurrection   \n",
       "20738          NaN           780.0              650.0                 NaN   \n",
       "20739          NaN          1265.0             1004.0                 NaN   \n",
       "20740          NaN           851.0              700.0                 NaN   \n",
       "\n",
       "             vessel_name       captain's_name  voyage_id  \\\n",
       "0                                         NaN      42987   \n",
       "1      S Maria de Bogoña       Monteiro, Pero      46473   \n",
       "2                         Carega, Esteban (?)      11297   \n",
       "3                         Carega, Esteban (?)      11298   \n",
       "4                S Anton        Leon, Juan de      42631   \n",
       "...                  ...                  ...        ...   \n",
       "20736             Polaca                  NaN      46554   \n",
       "20737               Gato                  NaN       4394   \n",
       "20738                                     NaN       4395   \n",
       "20739            Cicerón             Mesquita       5052   \n",
       "20740                                     NaN       4998   \n",
       "\n",
       "                                                 sources  \n",
       "0      [u'AGI,Patronato 175, r.9<><p><em>AG!</em> (Se...  \n",
       "1      [u'ANTT,CC,Parte II, maco 131, doc 54<><i>Inst...  \n",
       "2      [u'Pike,60-1,172<>Pike, Ruth, <i>Enterprise</i...  \n",
       "3      [u'Pike,60-1,172<>Pike, Ruth, <i>Enterprise</i...  \n",
       "4      [u'Chaunus, 3: 162-63<><p>Chaunus, <em>xxxxxx<...  \n",
       "...                                                  ...  \n",
       "20736  [u'AHNM, Ultramar, Leg. 3551, 6<><i>Archivo Hi...  \n",
       "20737  [u'IUP,ST,50/B/137<>Great Britain, <i>Irish Un...  \n",
       "20738  [u'IUP,ST,50/B/144<>Great Britain, <i>Irish Un...  \n",
       "20739  [u'IUP,ST,50/A/23-4<>Great Britain, <i>Irish U...  \n",
       "20740  [u'IUP,ST,50/B/220<>Great Britain, <i>Irish Un...  \n",
       "\n",
       "[20741 rows x 14 columns]"
      ]
     },
     "execution_count": 62,
     "metadata": {},
     "output_type": "execute_result"
    }
   ],
   "source": [
    "slave_voyages_df"
   ]
  },
  {
   "cell_type": "markdown",
   "metadata": {},
   "source": [
    "### ❓ What was the highest percentage of children aboard the voyages?"
   ]
  },
  {
   "cell_type": "code",
   "execution_count": 63,
   "metadata": {
    "ExecuteTime": {
     "end_time": "2022-11-11T11:15:42.520765Z",
     "start_time": "2022-11-11T11:15:42.491245Z"
    }
   },
   "outputs": [
    {
     "data": {
      "text/html": [
       "<div>\n",
       "<style scoped>\n",
       "    .dataframe tbody tr th:only-of-type {\n",
       "        vertical-align: middle;\n",
       "    }\n",
       "\n",
       "    .dataframe tbody tr th {\n",
       "        vertical-align: top;\n",
       "    }\n",
       "\n",
       "    .dataframe thead th {\n",
       "        text-align: right;\n",
       "    }\n",
       "</style>\n",
       "<table border=\"1\" class=\"dataframe\">\n",
       "  <thead>\n",
       "    <tr style=\"text-align: right;\">\n",
       "      <th></th>\n",
       "      <th>year_of_arrival</th>\n",
       "      <th>flag</th>\n",
       "      <th>place_of_purchase</th>\n",
       "      <th>place_of_landing</th>\n",
       "      <th>percent_women</th>\n",
       "      <th>percent_children</th>\n",
       "      <th>percent_men</th>\n",
       "      <th>total_embarked</th>\n",
       "      <th>total_disembarked</th>\n",
       "      <th>resistance_label</th>\n",
       "      <th>vessel_name</th>\n",
       "      <th>captain's_name</th>\n",
       "      <th>voyage_id</th>\n",
       "      <th>sources</th>\n",
       "    </tr>\n",
       "  </thead>\n",
       "  <tbody>\n",
       "    <tr>\n",
       "      <th>0</th>\n",
       "      <td>1520</td>\n",
       "      <td>NaN</td>\n",
       "      <td>Portuguese Guinea</td>\n",
       "      <td>San Juan</td>\n",
       "      <td>NaN</td>\n",
       "      <td>NaN</td>\n",
       "      <td>NaN</td>\n",
       "      <td>324.0</td>\n",
       "      <td>259.0</td>\n",
       "      <td>NaN</td>\n",
       "      <td></td>\n",
       "      <td>NaN</td>\n",
       "      <td>42987</td>\n",
       "      <td>[u'AGI,Patronato 175, r.9&lt;&gt;&lt;p&gt;&lt;em&gt;AG!&lt;/em&gt; (Se...</td>\n",
       "    </tr>\n",
       "    <tr>\n",
       "      <th>1</th>\n",
       "      <td>1525</td>\n",
       "      <td>Portugal / Brazil</td>\n",
       "      <td>Sao Tome</td>\n",
       "      <td>Hispaniola, unspecified</td>\n",
       "      <td>NaN</td>\n",
       "      <td>NaN</td>\n",
       "      <td>NaN</td>\n",
       "      <td>359.0</td>\n",
       "      <td>287.0</td>\n",
       "      <td>NaN</td>\n",
       "      <td>S Maria de Bogoña</td>\n",
       "      <td>Monteiro, Pero</td>\n",
       "      <td>46473</td>\n",
       "      <td>[u'ANTT,CC,Parte II, maco 131, doc 54&lt;&gt;&lt;i&gt;Inst...</td>\n",
       "    </tr>\n",
       "    <tr>\n",
       "      <th>2</th>\n",
       "      <td>1526</td>\n",
       "      <td>Spain / Uruguay</td>\n",
       "      <td>Cape Verde Islands</td>\n",
       "      <td>Cuba, port unspecified</td>\n",
       "      <td>NaN</td>\n",
       "      <td>NaN</td>\n",
       "      <td>NaN</td>\n",
       "      <td>359.0</td>\n",
       "      <td>287.0</td>\n",
       "      <td>NaN</td>\n",
       "      <td></td>\n",
       "      <td>Carega, Esteban (?)</td>\n",
       "      <td>11297</td>\n",
       "      <td>[u'Pike,60-1,172&lt;&gt;Pike, Ruth, &lt;i&gt;Enterprise&lt;/i...</td>\n",
       "    </tr>\n",
       "    <tr>\n",
       "      <th>3</th>\n",
       "      <td>1526</td>\n",
       "      <td>Spain / Uruguay</td>\n",
       "      <td>Cape Verde Islands</td>\n",
       "      <td>Cuba, port unspecified</td>\n",
       "      <td>NaN</td>\n",
       "      <td>NaN</td>\n",
       "      <td>NaN</td>\n",
       "      <td>359.0</td>\n",
       "      <td>287.0</td>\n",
       "      <td>NaN</td>\n",
       "      <td></td>\n",
       "      <td>Carega, Esteban (?)</td>\n",
       "      <td>11298</td>\n",
       "      <td>[u'Pike,60-1,172&lt;&gt;Pike, Ruth, &lt;i&gt;Enterprise&lt;/i...</td>\n",
       "    </tr>\n",
       "    <tr>\n",
       "      <th>4</th>\n",
       "      <td>1526</td>\n",
       "      <td>NaN</td>\n",
       "      <td>Cape Verde Islands</td>\n",
       "      <td>Caribbean (colony unspecified)</td>\n",
       "      <td>NaN</td>\n",
       "      <td>NaN</td>\n",
       "      <td>NaN</td>\n",
       "      <td>359.0</td>\n",
       "      <td>287.0</td>\n",
       "      <td>NaN</td>\n",
       "      <td>S Anton</td>\n",
       "      <td>Leon, Juan de</td>\n",
       "      <td>42631</td>\n",
       "      <td>[u'Chaunus, 3: 162-63&lt;&gt;&lt;p&gt;Chaunus, &lt;em&gt;xxxxxx&lt;...</td>\n",
       "    </tr>\n",
       "    <tr>\n",
       "      <th>...</th>\n",
       "      <td>...</td>\n",
       "      <td>...</td>\n",
       "      <td>...</td>\n",
       "      <td>...</td>\n",
       "      <td>...</td>\n",
       "      <td>...</td>\n",
       "      <td>...</td>\n",
       "      <td>...</td>\n",
       "      <td>...</td>\n",
       "      <td>...</td>\n",
       "      <td>...</td>\n",
       "      <td>...</td>\n",
       "      <td>...</td>\n",
       "      <td>...</td>\n",
       "    </tr>\n",
       "    <tr>\n",
       "      <th>20736</th>\n",
       "      <td>1864</td>\n",
       "      <td>Spain / Uruguay</td>\n",
       "      <td>Africa., port unspecified</td>\n",
       "      <td>Cuba, port unspecified</td>\n",
       "      <td>NaN</td>\n",
       "      <td>NaN</td>\n",
       "      <td>NaN</td>\n",
       "      <td>488.0</td>\n",
       "      <td>465.0</td>\n",
       "      <td>NaN</td>\n",
       "      <td>Polaca</td>\n",
       "      <td>NaN</td>\n",
       "      <td>46554</td>\n",
       "      <td>[u'AHNM, Ultramar, Leg. 3551, 6&lt;&gt;&lt;i&gt;Archivo Hi...</td>\n",
       "    </tr>\n",
       "    <tr>\n",
       "      <th>20737</th>\n",
       "      <td>1865</td>\n",
       "      <td>Spain / Uruguay</td>\n",
       "      <td>Africa., port unspecified</td>\n",
       "      <td>Isla de Pinas</td>\n",
       "      <td>NaN</td>\n",
       "      <td>NaN</td>\n",
       "      <td>NaN</td>\n",
       "      <td>152.0</td>\n",
       "      <td>145.0</td>\n",
       "      <td>Slave insurrection</td>\n",
       "      <td>Gato</td>\n",
       "      <td>NaN</td>\n",
       "      <td>4394</td>\n",
       "      <td>[u'IUP,ST,50/B/137&lt;&gt;Great Britain, &lt;i&gt;Irish Un...</td>\n",
       "    </tr>\n",
       "    <tr>\n",
       "      <th>20738</th>\n",
       "      <td>1865</td>\n",
       "      <td>NaN</td>\n",
       "      <td>Africa., port unspecified</td>\n",
       "      <td>Mariel</td>\n",
       "      <td>NaN</td>\n",
       "      <td>NaN</td>\n",
       "      <td>NaN</td>\n",
       "      <td>780.0</td>\n",
       "      <td>650.0</td>\n",
       "      <td>NaN</td>\n",
       "      <td></td>\n",
       "      <td>NaN</td>\n",
       "      <td>4395</td>\n",
       "      <td>[u'IUP,ST,50/B/144&lt;&gt;Great Britain, &lt;i&gt;Irish Un...</td>\n",
       "    </tr>\n",
       "    <tr>\n",
       "      <th>20739</th>\n",
       "      <td>1865</td>\n",
       "      <td>NaN</td>\n",
       "      <td>Congo River</td>\n",
       "      <td>Cuba, port unspecified</td>\n",
       "      <td>NaN</td>\n",
       "      <td>NaN</td>\n",
       "      <td>NaN</td>\n",
       "      <td>1265.0</td>\n",
       "      <td>1004.0</td>\n",
       "      <td>NaN</td>\n",
       "      <td>Cicerón</td>\n",
       "      <td>Mesquita</td>\n",
       "      <td>5052</td>\n",
       "      <td>[u'IUP,ST,50/A/23-4&lt;&gt;Great Britain, &lt;i&gt;Irish U...</td>\n",
       "    </tr>\n",
       "    <tr>\n",
       "      <th>20740</th>\n",
       "      <td>1866</td>\n",
       "      <td>NaN</td>\n",
       "      <td>Africa., port unspecified</td>\n",
       "      <td>Cuba, port unspecified</td>\n",
       "      <td>NaN</td>\n",
       "      <td>NaN</td>\n",
       "      <td>NaN</td>\n",
       "      <td>851.0</td>\n",
       "      <td>700.0</td>\n",
       "      <td>NaN</td>\n",
       "      <td></td>\n",
       "      <td>NaN</td>\n",
       "      <td>4998</td>\n",
       "      <td>[u'IUP,ST,50/B/220&lt;&gt;Great Britain, &lt;i&gt;Irish Un...</td>\n",
       "    </tr>\n",
       "  </tbody>\n",
       "</table>\n",
       "<p>20741 rows × 14 columns</p>\n",
       "</div>"
      ],
      "text/plain": [
       "       year_of_arrival               flag          place_of_purchase  \\\n",
       "0                 1520                NaN          Portuguese Guinea   \n",
       "1                 1525  Portugal / Brazil                   Sao Tome   \n",
       "2                 1526    Spain / Uruguay         Cape Verde Islands   \n",
       "3                 1526    Spain / Uruguay         Cape Verde Islands   \n",
       "4                 1526                NaN         Cape Verde Islands   \n",
       "...                ...                ...                        ...   \n",
       "20736             1864    Spain / Uruguay  Africa., port unspecified   \n",
       "20737             1865    Spain / Uruguay  Africa., port unspecified   \n",
       "20738             1865                NaN  Africa., port unspecified   \n",
       "20739             1865                NaN                Congo River   \n",
       "20740             1866                NaN  Africa., port unspecified   \n",
       "\n",
       "                     place_of_landing  percent_women  percent_children  \\\n",
       "0                            San Juan            NaN               NaN   \n",
       "1             Hispaniola, unspecified            NaN               NaN   \n",
       "2              Cuba, port unspecified            NaN               NaN   \n",
       "3              Cuba, port unspecified            NaN               NaN   \n",
       "4      Caribbean (colony unspecified)            NaN               NaN   \n",
       "...                               ...            ...               ...   \n",
       "20736          Cuba, port unspecified            NaN               NaN   \n",
       "20737                   Isla de Pinas            NaN               NaN   \n",
       "20738                          Mariel            NaN               NaN   \n",
       "20739          Cuba, port unspecified            NaN               NaN   \n",
       "20740          Cuba, port unspecified            NaN               NaN   \n",
       "\n",
       "       percent_men  total_embarked  total_disembarked    resistance_label  \\\n",
       "0              NaN           324.0              259.0                 NaN   \n",
       "1              NaN           359.0              287.0                 NaN   \n",
       "2              NaN           359.0              287.0                 NaN   \n",
       "3              NaN           359.0              287.0                 NaN   \n",
       "4              NaN           359.0              287.0                 NaN   \n",
       "...            ...             ...                ...                 ...   \n",
       "20736          NaN           488.0              465.0                 NaN   \n",
       "20737          NaN           152.0              145.0  Slave insurrection   \n",
       "20738          NaN           780.0              650.0                 NaN   \n",
       "20739          NaN          1265.0             1004.0                 NaN   \n",
       "20740          NaN           851.0              700.0                 NaN   \n",
       "\n",
       "             vessel_name       captain's_name  voyage_id  \\\n",
       "0                                         NaN      42987   \n",
       "1      S Maria de Bogoña       Monteiro, Pero      46473   \n",
       "2                         Carega, Esteban (?)      11297   \n",
       "3                         Carega, Esteban (?)      11298   \n",
       "4                S Anton        Leon, Juan de      42631   \n",
       "...                  ...                  ...        ...   \n",
       "20736             Polaca                  NaN      46554   \n",
       "20737               Gato                  NaN       4394   \n",
       "20738                                     NaN       4395   \n",
       "20739            Cicerón             Mesquita       5052   \n",
       "20740                                     NaN       4998   \n",
       "\n",
       "                                                 sources  \n",
       "0      [u'AGI,Patronato 175, r.9<><p><em>AG!</em> (Se...  \n",
       "1      [u'ANTT,CC,Parte II, maco 131, doc 54<><i>Inst...  \n",
       "2      [u'Pike,60-1,172<>Pike, Ruth, <i>Enterprise</i...  \n",
       "3      [u'Pike,60-1,172<>Pike, Ruth, <i>Enterprise</i...  \n",
       "4      [u'Chaunus, 3: 162-63<><p>Chaunus, <em>xxxxxx<...  \n",
       "...                                                  ...  \n",
       "20736  [u'AHNM, Ultramar, Leg. 3551, 6<><i>Archivo Hi...  \n",
       "20737  [u'IUP,ST,50/B/137<>Great Britain, <i>Irish Un...  \n",
       "20738  [u'IUP,ST,50/B/144<>Great Britain, <i>Irish Un...  \n",
       "20739  [u'IUP,ST,50/A/23-4<>Great Britain, <i>Irish U...  \n",
       "20740  [u'IUP,ST,50/B/220<>Great Britain, <i>Irish Un...  \n",
       "\n",
       "[20741 rows x 14 columns]"
      ]
     },
     "execution_count": 63,
     "metadata": {},
     "output_type": "execute_result"
    }
   ],
   "source": [
    "slave_voyages_df"
   ]
  },
  {
   "cell_type": "markdown",
   "metadata": {},
   "source": [
    "## Rename Columns"
   ]
  },
  {
   "cell_type": "markdown",
   "metadata": {},
   "source": [
    "We can rename columns with the [`.rename()` method](https://pandas.pydata.org/pandas-docs/stable/reference/api/pandas.DataFrame.rename.html) and the `columns=` parameter. For example, we can rename the \"flag\" column \"national_affiliation.\""
   ]
  },
  {
   "cell_type": "code",
   "execution_count": 64,
   "metadata": {
    "ExecuteTime": {
     "end_time": "2022-11-11T11:15:43.058464Z",
     "start_time": "2022-11-11T11:15:43.028561Z"
    }
   },
   "outputs": [
    {
     "data": {
      "text/html": [
       "<div>\n",
       "<style scoped>\n",
       "    .dataframe tbody tr th:only-of-type {\n",
       "        vertical-align: middle;\n",
       "    }\n",
       "\n",
       "    .dataframe tbody tr th {\n",
       "        vertical-align: top;\n",
       "    }\n",
       "\n",
       "    .dataframe thead th {\n",
       "        text-align: right;\n",
       "    }\n",
       "</style>\n",
       "<table border=\"1\" class=\"dataframe\">\n",
       "  <thead>\n",
       "    <tr style=\"text-align: right;\">\n",
       "      <th></th>\n",
       "      <th>year_of_arrival</th>\n",
       "      <th>national_affiliation</th>\n",
       "      <th>place_of_purchase</th>\n",
       "      <th>place_of_landing</th>\n",
       "      <th>percent_women</th>\n",
       "      <th>percent_children</th>\n",
       "      <th>percent_men</th>\n",
       "      <th>total_embarked</th>\n",
       "      <th>total_disembarked</th>\n",
       "      <th>resistance_label</th>\n",
       "      <th>vessel_name</th>\n",
       "      <th>captain's_name</th>\n",
       "      <th>voyage_id</th>\n",
       "      <th>sources</th>\n",
       "    </tr>\n",
       "  </thead>\n",
       "  <tbody>\n",
       "    <tr>\n",
       "      <th>0</th>\n",
       "      <td>1520</td>\n",
       "      <td>NaN</td>\n",
       "      <td>Portuguese Guinea</td>\n",
       "      <td>San Juan</td>\n",
       "      <td>NaN</td>\n",
       "      <td>NaN</td>\n",
       "      <td>NaN</td>\n",
       "      <td>324.0</td>\n",
       "      <td>259.0</td>\n",
       "      <td>NaN</td>\n",
       "      <td></td>\n",
       "      <td>NaN</td>\n",
       "      <td>42987</td>\n",
       "      <td>[u'AGI,Patronato 175, r.9&lt;&gt;&lt;p&gt;&lt;em&gt;AG!&lt;/em&gt; (Se...</td>\n",
       "    </tr>\n",
       "    <tr>\n",
       "      <th>1</th>\n",
       "      <td>1525</td>\n",
       "      <td>Portugal / Brazil</td>\n",
       "      <td>Sao Tome</td>\n",
       "      <td>Hispaniola, unspecified</td>\n",
       "      <td>NaN</td>\n",
       "      <td>NaN</td>\n",
       "      <td>NaN</td>\n",
       "      <td>359.0</td>\n",
       "      <td>287.0</td>\n",
       "      <td>NaN</td>\n",
       "      <td>S Maria de Bogoña</td>\n",
       "      <td>Monteiro, Pero</td>\n",
       "      <td>46473</td>\n",
       "      <td>[u'ANTT,CC,Parte II, maco 131, doc 54&lt;&gt;&lt;i&gt;Inst...</td>\n",
       "    </tr>\n",
       "    <tr>\n",
       "      <th>2</th>\n",
       "      <td>1526</td>\n",
       "      <td>Spain / Uruguay</td>\n",
       "      <td>Cape Verde Islands</td>\n",
       "      <td>Cuba, port unspecified</td>\n",
       "      <td>NaN</td>\n",
       "      <td>NaN</td>\n",
       "      <td>NaN</td>\n",
       "      <td>359.0</td>\n",
       "      <td>287.0</td>\n",
       "      <td>NaN</td>\n",
       "      <td></td>\n",
       "      <td>Carega, Esteban (?)</td>\n",
       "      <td>11297</td>\n",
       "      <td>[u'Pike,60-1,172&lt;&gt;Pike, Ruth, &lt;i&gt;Enterprise&lt;/i...</td>\n",
       "    </tr>\n",
       "    <tr>\n",
       "      <th>3</th>\n",
       "      <td>1526</td>\n",
       "      <td>Spain / Uruguay</td>\n",
       "      <td>Cape Verde Islands</td>\n",
       "      <td>Cuba, port unspecified</td>\n",
       "      <td>NaN</td>\n",
       "      <td>NaN</td>\n",
       "      <td>NaN</td>\n",
       "      <td>359.0</td>\n",
       "      <td>287.0</td>\n",
       "      <td>NaN</td>\n",
       "      <td></td>\n",
       "      <td>Carega, Esteban (?)</td>\n",
       "      <td>11298</td>\n",
       "      <td>[u'Pike,60-1,172&lt;&gt;Pike, Ruth, &lt;i&gt;Enterprise&lt;/i...</td>\n",
       "    </tr>\n",
       "    <tr>\n",
       "      <th>4</th>\n",
       "      <td>1526</td>\n",
       "      <td>NaN</td>\n",
       "      <td>Cape Verde Islands</td>\n",
       "      <td>Caribbean (colony unspecified)</td>\n",
       "      <td>NaN</td>\n",
       "      <td>NaN</td>\n",
       "      <td>NaN</td>\n",
       "      <td>359.0</td>\n",
       "      <td>287.0</td>\n",
       "      <td>NaN</td>\n",
       "      <td>S Anton</td>\n",
       "      <td>Leon, Juan de</td>\n",
       "      <td>42631</td>\n",
       "      <td>[u'Chaunus, 3: 162-63&lt;&gt;&lt;p&gt;Chaunus, &lt;em&gt;xxxxxx&lt;...</td>\n",
       "    </tr>\n",
       "    <tr>\n",
       "      <th>...</th>\n",
       "      <td>...</td>\n",
       "      <td>...</td>\n",
       "      <td>...</td>\n",
       "      <td>...</td>\n",
       "      <td>...</td>\n",
       "      <td>...</td>\n",
       "      <td>...</td>\n",
       "      <td>...</td>\n",
       "      <td>...</td>\n",
       "      <td>...</td>\n",
       "      <td>...</td>\n",
       "      <td>...</td>\n",
       "      <td>...</td>\n",
       "      <td>...</td>\n",
       "    </tr>\n",
       "    <tr>\n",
       "      <th>20736</th>\n",
       "      <td>1864</td>\n",
       "      <td>Spain / Uruguay</td>\n",
       "      <td>Africa., port unspecified</td>\n",
       "      <td>Cuba, port unspecified</td>\n",
       "      <td>NaN</td>\n",
       "      <td>NaN</td>\n",
       "      <td>NaN</td>\n",
       "      <td>488.0</td>\n",
       "      <td>465.0</td>\n",
       "      <td>NaN</td>\n",
       "      <td>Polaca</td>\n",
       "      <td>NaN</td>\n",
       "      <td>46554</td>\n",
       "      <td>[u'AHNM, Ultramar, Leg. 3551, 6&lt;&gt;&lt;i&gt;Archivo Hi...</td>\n",
       "    </tr>\n",
       "    <tr>\n",
       "      <th>20737</th>\n",
       "      <td>1865</td>\n",
       "      <td>Spain / Uruguay</td>\n",
       "      <td>Africa., port unspecified</td>\n",
       "      <td>Isla de Pinas</td>\n",
       "      <td>NaN</td>\n",
       "      <td>NaN</td>\n",
       "      <td>NaN</td>\n",
       "      <td>152.0</td>\n",
       "      <td>145.0</td>\n",
       "      <td>Slave insurrection</td>\n",
       "      <td>Gato</td>\n",
       "      <td>NaN</td>\n",
       "      <td>4394</td>\n",
       "      <td>[u'IUP,ST,50/B/137&lt;&gt;Great Britain, &lt;i&gt;Irish Un...</td>\n",
       "    </tr>\n",
       "    <tr>\n",
       "      <th>20738</th>\n",
       "      <td>1865</td>\n",
       "      <td>NaN</td>\n",
       "      <td>Africa., port unspecified</td>\n",
       "      <td>Mariel</td>\n",
       "      <td>NaN</td>\n",
       "      <td>NaN</td>\n",
       "      <td>NaN</td>\n",
       "      <td>780.0</td>\n",
       "      <td>650.0</td>\n",
       "      <td>NaN</td>\n",
       "      <td></td>\n",
       "      <td>NaN</td>\n",
       "      <td>4395</td>\n",
       "      <td>[u'IUP,ST,50/B/144&lt;&gt;Great Britain, &lt;i&gt;Irish Un...</td>\n",
       "    </tr>\n",
       "    <tr>\n",
       "      <th>20739</th>\n",
       "      <td>1865</td>\n",
       "      <td>NaN</td>\n",
       "      <td>Congo River</td>\n",
       "      <td>Cuba, port unspecified</td>\n",
       "      <td>NaN</td>\n",
       "      <td>NaN</td>\n",
       "      <td>NaN</td>\n",
       "      <td>1265.0</td>\n",
       "      <td>1004.0</td>\n",
       "      <td>NaN</td>\n",
       "      <td>Cicerón</td>\n",
       "      <td>Mesquita</td>\n",
       "      <td>5052</td>\n",
       "      <td>[u'IUP,ST,50/A/23-4&lt;&gt;Great Britain, &lt;i&gt;Irish U...</td>\n",
       "    </tr>\n",
       "    <tr>\n",
       "      <th>20740</th>\n",
       "      <td>1866</td>\n",
       "      <td>NaN</td>\n",
       "      <td>Africa., port unspecified</td>\n",
       "      <td>Cuba, port unspecified</td>\n",
       "      <td>NaN</td>\n",
       "      <td>NaN</td>\n",
       "      <td>NaN</td>\n",
       "      <td>851.0</td>\n",
       "      <td>700.0</td>\n",
       "      <td>NaN</td>\n",
       "      <td></td>\n",
       "      <td>NaN</td>\n",
       "      <td>4998</td>\n",
       "      <td>[u'IUP,ST,50/B/220&lt;&gt;Great Britain, &lt;i&gt;Irish Un...</td>\n",
       "    </tr>\n",
       "  </tbody>\n",
       "</table>\n",
       "<p>20741 rows × 14 columns</p>\n",
       "</div>"
      ],
      "text/plain": [
       "       year_of_arrival national_affiliation          place_of_purchase  \\\n",
       "0                 1520                  NaN          Portuguese Guinea   \n",
       "1                 1525    Portugal / Brazil                   Sao Tome   \n",
       "2                 1526      Spain / Uruguay         Cape Verde Islands   \n",
       "3                 1526      Spain / Uruguay         Cape Verde Islands   \n",
       "4                 1526                  NaN         Cape Verde Islands   \n",
       "...                ...                  ...                        ...   \n",
       "20736             1864      Spain / Uruguay  Africa., port unspecified   \n",
       "20737             1865      Spain / Uruguay  Africa., port unspecified   \n",
       "20738             1865                  NaN  Africa., port unspecified   \n",
       "20739             1865                  NaN                Congo River   \n",
       "20740             1866                  NaN  Africa., port unspecified   \n",
       "\n",
       "                     place_of_landing  percent_women  percent_children  \\\n",
       "0                            San Juan            NaN               NaN   \n",
       "1             Hispaniola, unspecified            NaN               NaN   \n",
       "2              Cuba, port unspecified            NaN               NaN   \n",
       "3              Cuba, port unspecified            NaN               NaN   \n",
       "4      Caribbean (colony unspecified)            NaN               NaN   \n",
       "...                               ...            ...               ...   \n",
       "20736          Cuba, port unspecified            NaN               NaN   \n",
       "20737                   Isla de Pinas            NaN               NaN   \n",
       "20738                          Mariel            NaN               NaN   \n",
       "20739          Cuba, port unspecified            NaN               NaN   \n",
       "20740          Cuba, port unspecified            NaN               NaN   \n",
       "\n",
       "       percent_men  total_embarked  total_disembarked    resistance_label  \\\n",
       "0              NaN           324.0              259.0                 NaN   \n",
       "1              NaN           359.0              287.0                 NaN   \n",
       "2              NaN           359.0              287.0                 NaN   \n",
       "3              NaN           359.0              287.0                 NaN   \n",
       "4              NaN           359.0              287.0                 NaN   \n",
       "...            ...             ...                ...                 ...   \n",
       "20736          NaN           488.0              465.0                 NaN   \n",
       "20737          NaN           152.0              145.0  Slave insurrection   \n",
       "20738          NaN           780.0              650.0                 NaN   \n",
       "20739          NaN          1265.0             1004.0                 NaN   \n",
       "20740          NaN           851.0              700.0                 NaN   \n",
       "\n",
       "             vessel_name       captain's_name  voyage_id  \\\n",
       "0                                         NaN      42987   \n",
       "1      S Maria de Bogoña       Monteiro, Pero      46473   \n",
       "2                         Carega, Esteban (?)      11297   \n",
       "3                         Carega, Esteban (?)      11298   \n",
       "4                S Anton        Leon, Juan de      42631   \n",
       "...                  ...                  ...        ...   \n",
       "20736             Polaca                  NaN      46554   \n",
       "20737               Gato                  NaN       4394   \n",
       "20738                                     NaN       4395   \n",
       "20739            Cicerón             Mesquita       5052   \n",
       "20740                                     NaN       4998   \n",
       "\n",
       "                                                 sources  \n",
       "0      [u'AGI,Patronato 175, r.9<><p><em>AG!</em> (Se...  \n",
       "1      [u'ANTT,CC,Parte II, maco 131, doc 54<><i>Inst...  \n",
       "2      [u'Pike,60-1,172<>Pike, Ruth, <i>Enterprise</i...  \n",
       "3      [u'Pike,60-1,172<>Pike, Ruth, <i>Enterprise</i...  \n",
       "4      [u'Chaunus, 3: 162-63<><p>Chaunus, <em>xxxxxx<...  \n",
       "...                                                  ...  \n",
       "20736  [u'AHNM, Ultramar, Leg. 3551, 6<><i>Archivo Hi...  \n",
       "20737  [u'IUP,ST,50/B/137<>Great Britain, <i>Irish Un...  \n",
       "20738  [u'IUP,ST,50/B/144<>Great Britain, <i>Irish Un...  \n",
       "20739  [u'IUP,ST,50/A/23-4<>Great Britain, <i>Irish U...  \n",
       "20740  [u'IUP,ST,50/B/220<>Great Britain, <i>Irish Un...  \n",
       "\n",
       "[20741 rows x 14 columns]"
      ]
     },
     "execution_count": 64,
     "metadata": {},
     "output_type": "execute_result"
    }
   ],
   "source": [
    "slave_voyages_df.rename(columns={'flag': 'national_affiliation'})"
   ]
  },
  {
   "cell_type": "markdown",
   "metadata": {},
   "source": [
    "Renaming the \"flag\" column as above will only momentarily change that column's name, however. If we display our DataFrame, we will see that the column name has *not* changed permamently."
   ]
  },
  {
   "cell_type": "code",
   "execution_count": 65,
   "metadata": {
    "ExecuteTime": {
     "end_time": "2022-11-11T11:15:43.697919Z",
     "start_time": "2022-11-11T11:15:43.676727Z"
    }
   },
   "outputs": [
    {
     "data": {
      "text/html": [
       "<div>\n",
       "<style scoped>\n",
       "    .dataframe tbody tr th:only-of-type {\n",
       "        vertical-align: middle;\n",
       "    }\n",
       "\n",
       "    .dataframe tbody tr th {\n",
       "        vertical-align: top;\n",
       "    }\n",
       "\n",
       "    .dataframe thead th {\n",
       "        text-align: right;\n",
       "    }\n",
       "</style>\n",
       "<table border=\"1\" class=\"dataframe\">\n",
       "  <thead>\n",
       "    <tr style=\"text-align: right;\">\n",
       "      <th></th>\n",
       "      <th>year_of_arrival</th>\n",
       "      <th>flag</th>\n",
       "      <th>place_of_purchase</th>\n",
       "      <th>place_of_landing</th>\n",
       "      <th>percent_women</th>\n",
       "      <th>percent_children</th>\n",
       "      <th>percent_men</th>\n",
       "      <th>total_embarked</th>\n",
       "      <th>total_disembarked</th>\n",
       "      <th>resistance_label</th>\n",
       "      <th>vessel_name</th>\n",
       "      <th>captain's_name</th>\n",
       "      <th>voyage_id</th>\n",
       "      <th>sources</th>\n",
       "    </tr>\n",
       "  </thead>\n",
       "  <tbody>\n",
       "    <tr>\n",
       "      <th>0</th>\n",
       "      <td>1520</td>\n",
       "      <td>NaN</td>\n",
       "      <td>Portuguese Guinea</td>\n",
       "      <td>San Juan</td>\n",
       "      <td>NaN</td>\n",
       "      <td>NaN</td>\n",
       "      <td>NaN</td>\n",
       "      <td>324.0</td>\n",
       "      <td>259.0</td>\n",
       "      <td>NaN</td>\n",
       "      <td></td>\n",
       "      <td>NaN</td>\n",
       "      <td>42987</td>\n",
       "      <td>[u'AGI,Patronato 175, r.9&lt;&gt;&lt;p&gt;&lt;em&gt;AG!&lt;/em&gt; (Se...</td>\n",
       "    </tr>\n",
       "  </tbody>\n",
       "</table>\n",
       "</div>"
      ],
      "text/plain": [
       "   year_of_arrival flag  place_of_purchase place_of_landing  percent_women  \\\n",
       "0             1520  NaN  Portuguese Guinea         San Juan            NaN   \n",
       "\n",
       "   percent_children  percent_men  total_embarked  total_disembarked  \\\n",
       "0               NaN          NaN           324.0              259.0   \n",
       "\n",
       "  resistance_label vessel_name captain's_name  voyage_id  \\\n",
       "0              NaN                        NaN      42987   \n",
       "\n",
       "                                             sources  \n",
       "0  [u'AGI,Patronato 175, r.9<><p><em>AG!</em> (Se...  "
      ]
     },
     "execution_count": 65,
     "metadata": {},
     "output_type": "execute_result"
    }
   ],
   "source": [
    "slave_voyages_df.head(1)"
   ]
  },
  {
   "cell_type": "markdown",
   "metadata": {},
   "source": [
    "To save changes in the DataFrame, we need to reassign the DataFrame to the same variable."
   ]
  },
  {
   "cell_type": "code",
   "execution_count": 66,
   "metadata": {
    "ExecuteTime": {
     "end_time": "2022-11-11T11:15:44.068992Z",
     "start_time": "2022-11-11T11:15:44.059202Z"
    }
   },
   "outputs": [],
   "source": [
    "slave_voyages_df = slave_voyages_df.rename(columns={'flag': 'national_affiliation'})"
   ]
  },
  {
   "cell_type": "code",
   "execution_count": 67,
   "metadata": {
    "ExecuteTime": {
     "end_time": "2022-11-11T11:15:44.216615Z",
     "start_time": "2022-11-11T11:15:44.204796Z"
    }
   },
   "outputs": [
    {
     "data": {
      "text/html": [
       "<div>\n",
       "<style scoped>\n",
       "    .dataframe tbody tr th:only-of-type {\n",
       "        vertical-align: middle;\n",
       "    }\n",
       "\n",
       "    .dataframe tbody tr th {\n",
       "        vertical-align: top;\n",
       "    }\n",
       "\n",
       "    .dataframe thead th {\n",
       "        text-align: right;\n",
       "    }\n",
       "</style>\n",
       "<table border=\"1\" class=\"dataframe\">\n",
       "  <thead>\n",
       "    <tr style=\"text-align: right;\">\n",
       "      <th></th>\n",
       "      <th>year_of_arrival</th>\n",
       "      <th>national_affiliation</th>\n",
       "      <th>place_of_purchase</th>\n",
       "      <th>place_of_landing</th>\n",
       "      <th>percent_women</th>\n",
       "      <th>percent_children</th>\n",
       "      <th>percent_men</th>\n",
       "      <th>total_embarked</th>\n",
       "      <th>total_disembarked</th>\n",
       "      <th>resistance_label</th>\n",
       "      <th>vessel_name</th>\n",
       "      <th>captain's_name</th>\n",
       "      <th>voyage_id</th>\n",
       "      <th>sources</th>\n",
       "    </tr>\n",
       "  </thead>\n",
       "  <tbody>\n",
       "    <tr>\n",
       "      <th>0</th>\n",
       "      <td>1520</td>\n",
       "      <td>NaN</td>\n",
       "      <td>Portuguese Guinea</td>\n",
       "      <td>San Juan</td>\n",
       "      <td>NaN</td>\n",
       "      <td>NaN</td>\n",
       "      <td>NaN</td>\n",
       "      <td>324.0</td>\n",
       "      <td>259.0</td>\n",
       "      <td>NaN</td>\n",
       "      <td></td>\n",
       "      <td>NaN</td>\n",
       "      <td>42987</td>\n",
       "      <td>[u'AGI,Patronato 175, r.9&lt;&gt;&lt;p&gt;&lt;em&gt;AG!&lt;/em&gt; (Se...</td>\n",
       "    </tr>\n",
       "  </tbody>\n",
       "</table>\n",
       "</div>"
      ],
      "text/plain": [
       "   year_of_arrival national_affiliation  place_of_purchase place_of_landing  \\\n",
       "0             1520                  NaN  Portuguese Guinea         San Juan   \n",
       "\n",
       "   percent_women  percent_children  percent_men  total_embarked  \\\n",
       "0            NaN               NaN          NaN           324.0   \n",
       "\n",
       "   total_disembarked resistance_label vessel_name captain's_name  voyage_id  \\\n",
       "0              259.0              NaN                        NaN      42987   \n",
       "\n",
       "                                             sources  \n",
       "0  [u'AGI,Patronato 175, r.9<><p><em>AG!</em> (Se...  "
      ]
     },
     "execution_count": 67,
     "metadata": {},
     "output_type": "execute_result"
    }
   ],
   "source": [
    "slave_voyages_df.head(1)"
   ]
  },
  {
   "cell_type": "markdown",
   "metadata": {},
   "source": [
    "## Groupby Columns"
   ]
  },
  {
   "cell_type": "markdown",
   "metadata": {},
   "source": [
    "The Pandas function`.groupby()` allows us to group data and perform calculations on the groups.\n",
    "\n",
    "For example, Jennifer Morgan writes about how some nations recorded more information about the gender of the enslaved people aboard their voyages than other nations did. To see the breakdown of gender information by nation, we can use a `.groupby()` function.\n"
   ]
  },
  {
   "cell_type": "markdown",
   "metadata": {},
   "source": [
    "### ❓ Which nation recorded the most information about gender?"
   ]
  },
  {
   "cell_type": "markdown",
   "metadata": {},
   "source": [
    "To answer this question, you can use the `.groupby()` method and the `.count()` method, which will show you the number of non-blank values in each column."
   ]
  },
  {
   "cell_type": "code",
   "execution_count": 68,
   "metadata": {
    "ExecuteTime": {
     "end_time": "2022-11-11T11:15:45.192634Z",
     "start_time": "2022-11-11T11:15:45.189535Z"
    }
   },
   "outputs": [
    {
     "ename": "SyntaxError",
     "evalue": "invalid syntax (4198010776.py, line 1)",
     "output_type": "error",
     "traceback": [
      "\u001b[0;36m  Input \u001b[0;32mIn [68]\u001b[0;36m\u001b[0m\n\u001b[0;31m    slave_voyages_df...\u001b[0m\n\u001b[0m                    ^\u001b[0m\n\u001b[0;31mSyntaxError\u001b[0m\u001b[0;31m:\u001b[0m invalid syntax\n"
     ]
    }
   ],
   "source": [
    "slave_voyages_df..."
   ]
  },
  {
   "cell_type": "markdown",
   "metadata": {},
   "source": [
    "\"For example, patterns emerge that suggest that English slave ship captains provided the most data related to the age or sex characteristics of the captives they transported and sold into slavery...The degree to which the practice of recording the sex of the passengers on board accords to national origin raises some interesting questions about the possible correlations between certain notational and national presumptions of accountability.\"\n",
    "\n",
    "-Jennifer Morgan, [\"Accounting for 'The Most Excruciating Torment'\"](https://read.dukeupress.edu/history-of-the-present/article-abstract/6/2/184/153282/Accounting-for-The-Most-Excruciating-Torment?redirectedFrom=PDF)"
   ]
  },
  {
   "cell_type": "markdown",
   "metadata": {},
   "source": [
    "## Add Columns"
   ]
  },
  {
   "cell_type": "markdown",
   "metadata": {},
   "source": [
    "To add a column, we simply put a new column name in square brackets and set it equal to whatever we want the new column to be.\n",
    "\n",
    "For example, if we wanted to create new columns for the total women and men aboard each voyage, we could set them equal to the product of the \"total_disembarked\" column * the \"percent_women\" / \"percent_men\" columns."
   ]
  },
  {
   "cell_type": "code",
   "execution_count": 69,
   "metadata": {
    "ExecuteTime": {
     "end_time": "2022-11-11T11:15:45.875760Z",
     "start_time": "2022-11-11T11:15:45.870055Z"
    }
   },
   "outputs": [],
   "source": [
    "slave_voyages_df['total_women'] = slave_voyages_df['total_embarked'] * slave_voyages_df['percent_women']"
   ]
  },
  {
   "cell_type": "code",
   "execution_count": 70,
   "metadata": {
    "ExecuteTime": {
     "end_time": "2022-11-11T11:15:50.680088Z",
     "start_time": "2022-11-11T11:15:50.674850Z"
    }
   },
   "outputs": [],
   "source": [
    "slave_voyages_df['total_men'] = slave_voyages_df['total_embarked'] * slave_voyages_df['percent_men']"
   ]
  },
  {
   "cell_type": "markdown",
   "metadata": {},
   "source": [
    "If we scroll all the way to the right side of the DataFrame, we can see that these columns have been added."
   ]
  },
  {
   "cell_type": "code",
   "execution_count": 71,
   "metadata": {
    "ExecuteTime": {
     "end_time": "2022-11-11T11:15:51.003602Z",
     "start_time": "2022-11-11T11:15:50.980313Z"
    }
   },
   "outputs": [
    {
     "data": {
      "text/html": [
       "<div>\n",
       "<style scoped>\n",
       "    .dataframe tbody tr th:only-of-type {\n",
       "        vertical-align: middle;\n",
       "    }\n",
       "\n",
       "    .dataframe tbody tr th {\n",
       "        vertical-align: top;\n",
       "    }\n",
       "\n",
       "    .dataframe thead th {\n",
       "        text-align: right;\n",
       "    }\n",
       "</style>\n",
       "<table border=\"1\" class=\"dataframe\">\n",
       "  <thead>\n",
       "    <tr style=\"text-align: right;\">\n",
       "      <th></th>\n",
       "      <th>year_of_arrival</th>\n",
       "      <th>national_affiliation</th>\n",
       "      <th>place_of_purchase</th>\n",
       "      <th>place_of_landing</th>\n",
       "      <th>percent_women</th>\n",
       "      <th>percent_children</th>\n",
       "      <th>percent_men</th>\n",
       "      <th>total_embarked</th>\n",
       "      <th>total_disembarked</th>\n",
       "      <th>resistance_label</th>\n",
       "      <th>vessel_name</th>\n",
       "      <th>captain's_name</th>\n",
       "      <th>voyage_id</th>\n",
       "      <th>sources</th>\n",
       "      <th>total_women</th>\n",
       "      <th>total_men</th>\n",
       "    </tr>\n",
       "  </thead>\n",
       "  <tbody>\n",
       "    <tr>\n",
       "      <th>0</th>\n",
       "      <td>1520</td>\n",
       "      <td>NaN</td>\n",
       "      <td>Portuguese Guinea</td>\n",
       "      <td>San Juan</td>\n",
       "      <td>NaN</td>\n",
       "      <td>NaN</td>\n",
       "      <td>NaN</td>\n",
       "      <td>324.0</td>\n",
       "      <td>259.0</td>\n",
       "      <td>NaN</td>\n",
       "      <td></td>\n",
       "      <td>NaN</td>\n",
       "      <td>42987</td>\n",
       "      <td>[u'AGI,Patronato 175, r.9&lt;&gt;&lt;p&gt;&lt;em&gt;AG!&lt;/em&gt; (Se...</td>\n",
       "      <td>NaN</td>\n",
       "      <td>NaN</td>\n",
       "    </tr>\n",
       "  </tbody>\n",
       "</table>\n",
       "</div>"
      ],
      "text/plain": [
       "   year_of_arrival national_affiliation  place_of_purchase place_of_landing  \\\n",
       "0             1520                  NaN  Portuguese Guinea         San Juan   \n",
       "\n",
       "   percent_women  percent_children  percent_men  total_embarked  \\\n",
       "0            NaN               NaN          NaN           324.0   \n",
       "\n",
       "   total_disembarked resistance_label vessel_name captain's_name  voyage_id  \\\n",
       "0              259.0              NaN                        NaN      42987   \n",
       "\n",
       "                                             sources  total_women  total_men  \n",
       "0  [u'AGI,Patronato 175, r.9<><p><em>AG!</em> (Se...          NaN        NaN  "
      ]
     },
     "execution_count": 71,
     "metadata": {},
     "output_type": "execute_result"
    }
   ],
   "source": [
    "slave_voyages_df.head(1)"
   ]
  },
  {
   "cell_type": "markdown",
   "metadata": {},
   "source": [
    "## Plots and Data Visualizations"
   ]
  },
  {
   "cell_type": "code",
   "execution_count": 72,
   "metadata": {
    "ExecuteTime": {
     "end_time": "2022-11-11T11:15:51.424807Z",
     "start_time": "2022-11-11T11:15:51.408799Z"
    }
   },
   "outputs": [
    {
     "data": {
      "text/plain": [
       "national_affiliation\n",
       "Denmark / Baltic      119\n",
       "France                708\n",
       "Great Britain        1123\n",
       "Netherlands           200\n",
       "Other                   0\n",
       "Portugal / Brazil      42\n",
       "Spain / Uruguay       468\n",
       "U.S.A.                223\n",
       "Name: percent_women, dtype: int64"
      ]
     },
     "execution_count": 72,
     "metadata": {},
     "output_type": "execute_result"
    }
   ],
   "source": [
    "slave_voyages_df.groupby('national_affiliation')['percent_women'].count()"
   ]
  },
  {
   "cell_type": "code",
   "execution_count": 73,
   "metadata": {
    "ExecuteTime": {
     "end_time": "2022-11-11T11:15:51.516247Z",
     "start_time": "2022-11-11T11:15:51.510447Z"
    }
   },
   "outputs": [],
   "source": [
    "nation_by_gender = slave_voyages_df.groupby('national_affiliation')['percent_women'].count()"
   ]
  },
  {
   "cell_type": "code",
   "execution_count": 74,
   "metadata": {
    "ExecuteTime": {
     "end_time": "2022-11-11T11:15:51.894680Z",
     "start_time": "2022-11-11T11:15:51.764560Z"
    }
   },
   "outputs": [
    {
     "data": {
      "text/plain": [
       "<AxesSubplot:title={'center':'Trans-Atlantic Slave Trade (Americas): \\n Slave Voyages with Recorded Gender Information'}, xlabel='national_affiliation'>"
      ]
     },
     "execution_count": 74,
     "metadata": {},
     "output_type": "execute_result"
    },
    {
     "data": {
      "image/png": "[encoded data removed]",
      "text/plain": [
       "<Figure size 432x288 with 1 Axes>"
      ]
     },
     "metadata": {
      "needs_background": "light"
     },
     "output_type": "display_data"
    }
   ],
   "source": [
    "nation_by_gender.plot(kind='bar', title='Trans-Atlantic Slave Trade (Americas): \\n Slave Voyages with Recorded Gender Information')"
   ]
  },
  {
   "cell_type": "markdown",
   "metadata": {},
   "source": [
    "To make a time series, we would typically want to convert our date column into datetime values rather than integers. Since we're only working with year information, however, we can make some simple time series plots just by grouping by the year column and performing calculations on those year groupings."
   ]
  },
  {
   "cell_type": "code",
   "execution_count": 75,
   "metadata": {
    "ExecuteTime": {
     "end_time": "2022-11-11T11:15:52.315824Z",
     "start_time": "2022-11-11T11:15:52.299614Z"
    }
   },
   "outputs": [
    {
     "data": {
      "text/plain": [
       "year_of_arrival\n",
       "1520    0.0\n",
       "1525    0.0\n",
       "1526    0.0\n",
       "1527    0.0\n",
       "1532    0.0\n",
       "       ... \n",
       "1862    0.0\n",
       "1863    0.0\n",
       "1864    0.0\n",
       "1865    0.0\n",
       "1866    0.0\n",
       "Name: total_women, Length: 330, dtype: float64"
      ]
     },
     "execution_count": 75,
     "metadata": {},
     "output_type": "execute_result"
    }
   ],
   "source": [
    "slave_voyages_df.groupby('year_of_arrival')['total_women'].sum()"
   ]
  },
  {
   "cell_type": "code",
   "execution_count": 76,
   "metadata": {
    "ExecuteTime": {
     "end_time": "2022-11-11T11:15:52.725940Z",
     "start_time": "2022-11-11T11:15:52.717943Z"
    }
   },
   "outputs": [],
   "source": [
    "total_women_by_year = slave_voyages_df.groupby('year_of_arrival')['total_women'].sum()"
   ]
  },
  {
   "cell_type": "code",
   "execution_count": 77,
   "metadata": {
    "ExecuteTime": {
     "end_time": "2022-11-11T11:15:52.992476Z",
     "start_time": "2022-11-11T11:15:52.880225Z"
    }
   },
   "outputs": [
    {
     "data": {
      "text/plain": [
       "<AxesSubplot:xlabel='year_of_arrival'>"
      ]
     },
     "execution_count": 77,
     "metadata": {},
     "output_type": "execute_result"
    },
    {
     "data": {
      "image/png": "[encoded data removed]",
      "text/plain": [
       "<Figure size 432x288 with 1 Axes>"
      ]
     },
     "metadata": {
      "needs_background": "light"
     },
     "output_type": "display_data"
    }
   ],
   "source": [
    "total_women_by_year.plot()"
   ]
  },
  {
   "cell_type": "code",
   "execution_count": 78,
   "metadata": {
    "ExecuteTime": {
     "end_time": "2022-11-11T11:15:53.157687Z",
     "start_time": "2022-11-11T11:15:53.041884Z"
    }
   },
   "outputs": [
    {
     "data": {
      "text/plain": [
       "<AxesSubplot:title={'center':'Trans-Atlantic Slave Trade (Americas):\\nTotal Number of Enslaved Women on Voyages'}, xlabel='year_of_arrival'>"
      ]
     },
     "execution_count": 78,
     "metadata": {},
     "output_type": "execute_result"
    },
    {
     "data": {
      "image/png": "[encoded data removed]",
      "text/plain": [
       "<Figure size 432x288 with 1 Axes>"
      ]
     },
     "metadata": {
      "needs_background": "light"
     },
     "output_type": "display_data"
    }
   ],
   "source": [
    "total_women_by_year.plot(kind='line', title=\"Trans-Atlantic Slave Trade (Americas):\\nTotal Number of Enslaved Women on Voyages\")"
   ]
  },
  {
   "cell_type": "markdown",
   "metadata": {},
   "source": [
    "We can plot multiple columns at the same time by using two square brackets. For example, we can compare the total number of women and men aboard the voyages."
   ]
  },
  {
   "cell_type": "code",
   "execution_count": 79,
   "metadata": {
    "ExecuteTime": {
     "end_time": "2022-11-11T11:15:53.458820Z",
     "start_time": "2022-11-11T11:15:53.453850Z"
    }
   },
   "outputs": [],
   "source": [
    "total_men_by_year = slave_voyages_df.groupby('year_of_arrival')['total_men'].sum()"
   ]
  },
  {
   "cell_type": "code",
   "execution_count": 80,
   "metadata": {
    "ExecuteTime": {
     "end_time": "2022-11-11T11:15:53.705117Z",
     "start_time": "2022-11-11T11:15:53.561143Z"
    }
   },
   "outputs": [
    {
     "data": {
      "text/plain": [
       "<AxesSubplot:title={'center':'Trans-Atlantic Slave Trade (Americas):\\nTotal Number of Enslaved Women on Voyages'}, xlabel='year_of_arrival'>"
      ]
     },
     "execution_count": 80,
     "metadata": {},
     "output_type": "execute_result"
    },
    {
     "data": {
      "image/png": "[encoded data removed]",
      "text/plain": [
       "<Figure size 432x288 with 1 Axes>"
      ]
     },
     "metadata": {
      "needs_background": "light"
     },
     "output_type": "display_data"
    }
   ],
   "source": [
    "total_women_by_year.plot(kind='line', legend= True, title=\"Trans-Atlantic Slave Trade (Americas):\\nTotal Number of Enslaved Women on Voyages\")\n",
    "total_men_by_year.plot(legend=True)"
   ]
  },
  {
   "cell_type": "code",
   "execution_count": 81,
   "metadata": {
    "ExecuteTime": {
     "end_time": "2022-11-11T11:15:54.239036Z",
     "start_time": "2022-11-11T11:15:54.079830Z"
    }
   },
   "outputs": [
    {
     "data": {
      "text/plain": [
       "<AxesSubplot:title={'center':'Trans-Atlantic Slave Trade (Americas):\\nTotal Number of Enslaved Women on Voyages'}, xlabel='year_of_arrival'>"
      ]
     },
     "execution_count": 81,
     "metadata": {},
     "output_type": "execute_result"
    },
    {
     "data": {
      "image/png": "[encoded data removed]",
      "text/plain": [
       "<Figure size 432x288 with 1 Axes>"
      ]
     },
     "metadata": {
      "needs_background": "light"
     },
     "output_type": "display_data"
    }
   ],
   "source": [
    "axis = total_women_by_year.plot(kind='line', legend= True, title=\"Trans-Atlantic Slave Trade (Americas):\\nTotal Number of Enslaved Women on Voyages\")\n",
    "total_men_by_year.plot(ax=axis, legend=True)"
   ]
  },
  {
   "cell_type": "code",
   "execution_count": 82,
   "metadata": {
    "ExecuteTime": {
     "end_time": "2022-11-11T11:15:54.421349Z",
     "start_time": "2022-11-11T11:15:54.280037Z"
    }
   },
   "outputs": [
    {
     "data": {
      "text/plain": [
       "<AxesSubplot:title={'center':'Trans-Atlantic Slave Trade (Americas):\\nTotal Number of Enslaved Women on Voyages'}, xlabel='year_of_arrival'>"
      ]
     },
     "execution_count": 82,
     "metadata": {},
     "output_type": "execute_result"
    },
    {
     "data": {
      "image/png": "[encoded data removed]",
      "text/plain": [
       "<Figure size 432x288 with 1 Axes>"
      ]
     },
     "metadata": {
      "needs_background": "light"
     },
     "output_type": "display_data"
    }
   ],
   "source": [
    "axis = total_women_by_year.plot(kind='line', label=\"Total Women\", legend= True, title=\"Trans-Atlantic Slave Trade (Americas):\\nTotal Number of Enslaved Women on Voyages\")\n",
    "total_men_by_year.plot(ax=axis, label=\"Total Men\", legend=True)"
   ]
  },
  {
   "cell_type": "code",
   "execution_count": 83,
   "metadata": {
    "ExecuteTime": {
     "end_time": "2022-11-11T11:15:54.682419Z",
     "start_time": "2022-11-11T11:15:54.677395Z"
    }
   },
   "outputs": [],
   "source": [
    "total_embarked_by_year = slave_voyages_df.groupby('year_of_arrival')['total_embarked'].sum()"
   ]
  },
  {
   "cell_type": "code",
   "execution_count": 84,
   "metadata": {
    "ExecuteTime": {
     "end_time": "2022-11-11T11:15:55.127582Z",
     "start_time": "2022-11-11T11:15:54.959470Z"
    }
   },
   "outputs": [
    {
     "data": {
      "text/plain": [
       "<AxesSubplot:title={'center':'Trans-Atlantic Slave Trade (Americas):\\nTotal Number of Enslaved Women on Voyages'}, xlabel='year_of_arrival'>"
      ]
     },
     "execution_count": 84,
     "metadata": {},
     "output_type": "execute_result"
    },
    {
     "data": {
      "image/png": "[encoded data removed]",
      "text/plain": [
       "<Figure size 432x288 with 1 Axes>"
      ]
     },
     "metadata": {
      "needs_background": "light"
     },
     "output_type": "display_data"
    }
   ],
   "source": [
    "total_women_by_year.plot(kind='line', label=\"Total Women\", legend= True, title=\"Trans-Atlantic Slave Trade (Americas):\\nTotal Number of Enslaved Women on Voyages\")\n",
    "total_men_by_year.plot(label=\"Total Men\", legend=True)\n",
    "total_embarked_by_year.plot(label=\"Total Embarked\", legend=True)"
   ]
  },
  {
   "cell_type": "code",
   "execution_count": 85,
   "metadata": {
    "ExecuteTime": {
     "end_time": "2022-11-11T11:15:56.222928Z",
     "start_time": "2022-11-11T11:15:56.053489Z"
    }
   },
   "outputs": [
    {
     "data": {
      "text/plain": [
       "<AxesSubplot:title={'center':'Trans-Atlantic Slave Trade (Americas):\\nTotal Number of Enslaved Women on Voyages'}, xlabel='year_of_arrival'>"
      ]
     },
     "execution_count": 85,
     "metadata": {},
     "output_type": "execute_result"
    },
    {
     "data": {
      "image/png": "[encoded data removed]",
      "text/plain": [
       "<Figure size 432x288 with 1 Axes>"
      ]
     },
     "metadata": {
      "needs_background": "light"
     },
     "output_type": "display_data"
    }
   ],
   "source": [
    "axis = total_women_by_year.plot(kind='line', label=\"Total Women\", legend= True, title=\"Trans-Atlantic Slave Trade (Americas):\\nTotal Number of Enslaved Women on Voyages\")\n",
    "total_men_by_year.plot(ax=axis, label=\"Total Men\", legend=True)\n",
    "total_embarked_by_year.plot(ax=axis, label=\"Total Embarked\", legend=True)"
   ]
  },
  {
   "cell_type": "markdown",
   "metadata": {},
   "source": [
    "If there is anything wrong, please open [an issue on GitHub](https://github.com/GroningenDH/Cultural-Analytics-Open-Science-Guide/issues) or email f.pianzola@rug.nl"
   ]
  }
 ],
 "metadata": {
  "kernelspec": {
   "display_name": "Python 3 (ipykernel)",
   "language": "python",
   "name": "python3"
  },
  "language_info": {
   "codemirror_mode": {
    "name": "ipython",
    "version": 3
   },
   "file_extension": ".py",
   "mimetype": "text/x-python",
   "name": "python",
   "nbconvert_exporter": "python",
   "pygments_lexer": "ipython3",
   "version": "3.8.2"
  },
  "toc": {
   "base_numbering": 1,
   "nav_menu": {},
   "number_sections": true,
   "sideBar": true,
   "skip_h1_title": false,
   "title_cell": "Table of Contents",
   "title_sidebar": "Contents",
   "toc_cell": false,
   "toc_position": {},
   "toc_section_display": true,
   "toc_window_display": false
  },
  "varInspector": {
   "cols": {
    "lenName": 16,
    "lenType": 16,
    "lenVar": 40
   },
   "kernels_config": {
    "python": {
     "delete_cmd_postfix": "",
     "delete_cmd_prefix": "del ",
     "library": "var_list.py",
     "varRefreshCmd": "print(var_dic_list())"
    },
    "r": {
     "delete_cmd_postfix": ") ",
     "delete_cmd_prefix": "rm(",
     "library": "var_list.r",
     "varRefreshCmd": "cat(var_dic_list()) "
    }
   },
   "types_to_exclude": [
    "module",
    "function",
    "builtin_function_or_method",
    "instance",
    "_Feature"
   ],
   "window_display": false
  }
 },
 "nbformat": 4,
 "nbformat_minor": 4
}
