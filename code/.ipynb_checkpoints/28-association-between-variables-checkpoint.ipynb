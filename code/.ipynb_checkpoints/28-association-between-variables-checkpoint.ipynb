{
 "cells": [
  {
   "cell_type": "raw",
   "id": "a327abcb",
   "metadata": {},
   "source": [
    "---\n",
    "author: \"Paschalis Agapitos\"\n",
    "---"
   ]
  },
  {
   "cell_type": "markdown",
   "id": "9ff3b3f1",
   "metadata": {},
   "source": [
    "# Association between variables"
   ]
  },
  {
   "cell_type": "markdown",
   "id": "08119830",
   "metadata": {},
   "source": [
    "## Introduction\n",
    "\n",
    "Sometimes there can be associations between variables. By applying some summary statistics we can explore more this association.\n",
    "We need to remember that when it comes to association between any kind of variables, the information about the value of one variable **gives us information** about the value of the other variable.\n",
    "\n",
    "Having set *association* into this context, we can now focus more on how to work to discover if there is any association between the variables that we have."
   ]
  },
  {
   "cell_type": "markdown",
   "id": "8fb69e7a",
   "metadata": {},
   "source": [
    "## Dataset\n",
    "To further explain the examples below, we are going to use a dataset; the [Prima Indians Diabetes Database](https://www.kaggle.com/datasets/uciml/pima-indians-diabetes-database).\n",
    "\n",
    "Before we delve into the association of quantitative and categorical variables, we need to clarify some things concerning the dataset we use. All patients in this dataset are females at least 21 years old of the [Pima Indian heritage](https://en.wikipedia.org/wiki/Pima_people).\n",
    "\n",
    "This dataset consists of 9 columns:\n",
    "\n",
    "- `Pregnancies`: the number of times pregnant\n",
    "- `Glucose`: plasma glucose concentration after 2 hours in an oral glucose tolerance test\n",
    "- `BloodPressure`: diastolic blood pressure (mm Hg)\n",
    "- `SkinThickness`: Triceps skin fold thickness (mm)\n",
    "- `Insulin`: 2-hour serum insulin (mu U/ml)\n",
    "- `BMI`: Body Mass Index (weight (kg)/ height(m)^2)\n",
    "- `DiabetesPedigreeFunction`: diabetes pedigree function\n",
    "- `Age`: age in years\n",
    "- `Outcome`: Class variable of 0 or 1; 268-768 are 1 and the others are 0."
   ]
  },
  {
   "cell_type": "markdown",
   "id": "56cd2994",
   "metadata": {},
   "source": [
    "## Association of quantitative and categorical binary variables\n",
    "An association between a categorical and a quantitative variable is for example a question like the following one:\n",
    "\n",
    "- is salary associated to gender (for terms of simplicity and to fit to the example, it is assumed only the binary (i.e., male and female) aspect of it)?\n",
    "\t- in this case `salary` will be the quantitative variable and `gender` will be the categorical variable."
   ]
  },
  {
   "cell_type": "code",
   "execution_count": 2,
   "id": "711beabd",
   "metadata": {
    "ExecuteTime": {
     "end_time": "2022-12-10T17:20:12.536236Z",
     "start_time": "2022-12-10T17:20:10.690903Z"
    }
   },
   "outputs": [],
   "source": [
    "from scipy.stats import iqr\n",
    "from scipy.stats import tmean\n",
    "from scipy.stats import trim_mean\n",
    "from scipy.stats import pearsonr\n",
    "import pandas as pd\n",
    "import numpy as np\n",
    "import statistics\n",
    "import matplotlib.pyplot as plt\n",
    "import seaborn as sns"
   ]
  },
  {
   "cell_type": "code",
   "execution_count": 3,
   "id": "fbc3d825",
   "metadata": {
    "ExecuteTime": {
     "end_time": "2022-12-10T17:20:12.564700Z",
     "start_time": "2022-12-10T17:20:12.542418Z"
    }
   },
   "outputs": [
    {
     "data": {
      "text/html": [
       "<div>\n",
       "<style scoped>\n",
       "    .dataframe tbody tr th:only-of-type {\n",
       "        vertical-align: middle;\n",
       "    }\n",
       "\n",
       "    .dataframe tbody tr th {\n",
       "        vertical-align: top;\n",
       "    }\n",
       "\n",
       "    .dataframe thead th {\n",
       "        text-align: right;\n",
       "    }\n",
       "</style>\n",
       "<table border=\"1\" class=\"dataframe\">\n",
       "  <thead>\n",
       "    <tr style=\"text-align: right;\">\n",
       "      <th></th>\n",
       "      <th>Pregnancies</th>\n",
       "      <th>Glucose</th>\n",
       "      <th>BloodPressure</th>\n",
       "      <th>SkinThickness</th>\n",
       "      <th>Insulin</th>\n",
       "      <th>BMI</th>\n",
       "      <th>DiabetesPedigreeFunction</th>\n",
       "      <th>Age</th>\n",
       "      <th>Outcome</th>\n",
       "    </tr>\n",
       "  </thead>\n",
       "  <tbody>\n",
       "    <tr>\n",
       "      <th>0</th>\n",
       "      <td>6</td>\n",
       "      <td>148</td>\n",
       "      <td>72</td>\n",
       "      <td>35</td>\n",
       "      <td>0</td>\n",
       "      <td>33.6</td>\n",
       "      <td>0.627</td>\n",
       "      <td>50</td>\n",
       "      <td>1</td>\n",
       "    </tr>\n",
       "    <tr>\n",
       "      <th>1</th>\n",
       "      <td>1</td>\n",
       "      <td>85</td>\n",
       "      <td>66</td>\n",
       "      <td>29</td>\n",
       "      <td>0</td>\n",
       "      <td>26.6</td>\n",
       "      <td>0.351</td>\n",
       "      <td>31</td>\n",
       "      <td>0</td>\n",
       "    </tr>\n",
       "    <tr>\n",
       "      <th>2</th>\n",
       "      <td>8</td>\n",
       "      <td>183</td>\n",
       "      <td>64</td>\n",
       "      <td>0</td>\n",
       "      <td>0</td>\n",
       "      <td>23.3</td>\n",
       "      <td>0.672</td>\n",
       "      <td>32</td>\n",
       "      <td>1</td>\n",
       "    </tr>\n",
       "    <tr>\n",
       "      <th>3</th>\n",
       "      <td>1</td>\n",
       "      <td>89</td>\n",
       "      <td>66</td>\n",
       "      <td>23</td>\n",
       "      <td>94</td>\n",
       "      <td>28.1</td>\n",
       "      <td>0.167</td>\n",
       "      <td>21</td>\n",
       "      <td>0</td>\n",
       "    </tr>\n",
       "    <tr>\n",
       "      <th>4</th>\n",
       "      <td>0</td>\n",
       "      <td>137</td>\n",
       "      <td>40</td>\n",
       "      <td>35</td>\n",
       "      <td>168</td>\n",
       "      <td>43.1</td>\n",
       "      <td>2.288</td>\n",
       "      <td>33</td>\n",
       "      <td>1</td>\n",
       "    </tr>\n",
       "  </tbody>\n",
       "</table>\n",
       "</div>"
      ],
      "text/plain": [
       "   Pregnancies  Glucose  BloodPressure  SkinThickness  Insulin   BMI  \\\n",
       "0            6      148             72             35        0  33.6   \n",
       "1            1       85             66             29        0  26.6   \n",
       "2            8      183             64              0        0  23.3   \n",
       "3            1       89             66             23       94  28.1   \n",
       "4            0      137             40             35      168  43.1   \n",
       "\n",
       "   DiabetesPedigreeFunction  Age Outcome  \n",
       "0                     0.627   50       1  \n",
       "1                     0.351   31       0  \n",
       "2                     0.672   32       1  \n",
       "3                     0.167   21       0  \n",
       "4                     2.288   33       1  "
      ]
     },
     "execution_count": 3,
     "metadata": {},
     "output_type": "execute_result"
    }
   ],
   "source": [
    "# load data\n",
    "diabetes_data = pd.read_csv('../data/diabetes.csv')\n",
    "diabetes_data.head()"
   ]
  },
  {
   "cell_type": "markdown",
   "id": "8e79690a",
   "metadata": {},
   "source": [
    "When there is association between quantitative variables we can start by looking at the mean and the median to see if there is any kind of association between two variables.\n",
    "\n",
    "The size of this difference can tell a lot about the association. For example, variables that are associated with each other tend to have a large difference between mean and median."
   ]
  },
  {
   "cell_type": "code",
   "execution_count": 3,
   "id": "fdee8e21",
   "metadata": {
    "ExecuteTime": {
     "end_time": "2022-12-10T16:46:32.534263Z",
     "start_time": "2022-12-10T16:46:32.529381Z"
    }
   },
   "outputs": [
    {
     "data": {
      "text/plain": [
       "Pregnancies                   int64\n",
       "Glucose                       int64\n",
       "BloodPressure                 int64\n",
       "SkinThickness                 int64\n",
       "Insulin                       int64\n",
       "BMI                         float64\n",
       "DiabetesPedigreeFunction    float64\n",
       "Age                           int64\n",
       "Outcome                      object\n",
       "dtype: object"
      ]
     },
     "execution_count": 3,
     "metadata": {},
     "output_type": "execute_result"
    }
   ],
   "source": [
    "diabetes_data.dtypes"
   ]
  },
  {
   "cell_type": "code",
   "execution_count": 4,
   "id": "a23f18d8",
   "metadata": {
    "ExecuteTime": {
     "end_time": "2022-12-10T16:46:32.542999Z",
     "start_time": "2022-12-10T16:46:32.535892Z"
    }
   },
   "outputs": [
    {
     "name": "stdout",
     "output_type": "stream",
     "text": [
      "2.691023626805247\n",
      "4.0\n"
     ]
    }
   ],
   "source": [
    "# since Outcome is an object, but we know that it is an integer\n",
    "# (0 or 1), we change the data type accordingly\n",
    "outcome_zero = diabetes_data['BloodPressure'][diabetes_data['Outcome'] == '0'].dropna(\n",
    ").astype('int32')\n",
    "\n",
    "outcome_one = diabetes_data['BloodPressure'][diabetes_data['Outcome'] == '1'].dropna(\n",
    ").astype('int32')\n",
    "\n",
    "# compute the mean difference\n",
    "mean_diff = outcome_zero.mean() - outcome_one.mean()\n",
    "print(abs(mean_diff))\n",
    "\n",
    "# compute the median difference\n",
    "median_diff = outcome_zero.median() - outcome_one.median()\n",
    "print(abs(median_diff))"
   ]
  },
  {
   "cell_type": "markdown",
   "id": "d9582b18",
   "metadata": {},
   "source": [
    "But how could we define 'large' when it comes to the difference between the median and/or the mean of two variables.\n",
    "To be sure about that, we need to have a look at the spreadness of the data."
   ]
  },
  {
   "cell_type": "markdown",
   "id": "eb767c81",
   "metadata": {},
   "source": [
    "### Boxplots (side by side)\n",
    "\n",
    "A boxplot can show the spread and, to some extent the central location of the data, and whether there are some outliers or not.\n",
    "\n",
    "In addition to that, side-by-side boxplots, since they are good in visualizing the mean and median differences, they can also help us estimate the variation of the data and determine whether the mean or median differences are \"large\" or not."
   ]
  },
  {
   "cell_type": "code",
   "execution_count": 5,
   "id": "ca103761",
   "metadata": {
    "ExecuteTime": {
     "end_time": "2022-12-10T16:46:32.725171Z",
     "start_time": "2022-12-10T16:46:32.544808Z"
    }
   },
   "outputs": [
    {
     "data": {
      "image/png": "[encoded data removed]",
      "text/plain": [
       "<Figure size 640x480 with 1 Axes>"
      ]
     },
     "metadata": {},
     "output_type": "display_data"
    }
   ],
   "source": [
    "sns.boxplot(data=diabetes_data, x='Outcome', y='BloodPressure')\n",
    "plt.show()\n",
    "plt.close()"
   ]
  },
  {
   "cell_type": "markdown",
   "id": "ec79d0ed",
   "metadata": {},
   "source": [
    "#### Interpretation of the side-by-side boxplots\n",
    "\n",
    "Looking at the boxplots, we can see that there is some overlap between the values of the two boxes (by looking at the coloured boxes), which explains the difference that we see between the mean (i..e, `4.444089694089698`) and the median (i.e., `4.5`).\n",
    "\n",
    "The smaller the overlap between the values of the two boxes the bigger the difference of the mean and the median and vice versa."
   ]
  },
  {
   "cell_type": "markdown",
   "id": "8ae9a00f",
   "metadata": {},
   "source": [
    "### Overallaping histograms\n",
    "\n",
    "Another way to observe the size of the difference between a categorical and a quantitative variable is to use overlapping histograms.\n",
    "\n",
    "To do that we need to create two different histograms, one for each category and then add some additional parameters to make them see-through."
   ]
  },
  {
   "cell_type": "code",
   "execution_count": 6,
   "id": "d387705f",
   "metadata": {
    "ExecuteTime": {
     "end_time": "2022-12-10T16:46:32.865241Z",
     "start_time": "2022-12-10T16:46:32.727057Z"
    }
   },
   "outputs": [
    {
     "data": {
      "image/png": "[encoded data removed]",
      "text/plain": [
       "<Figure size 640x480 with 1 Axes>"
      ]
     },
     "metadata": {},
     "output_type": "display_data"
    }
   ],
   "source": [
    "# overlapping histograms\n",
    "plt.hist(outcome_zero, color='blue', label='0', density=True, alpha=0.5)\n",
    "plt.hist(outcome_one, color='red', label='1', density=True, alpha=0.5)\n",
    "plt.legend()\n",
    "plt.show()"
   ]
  },
  {
   "cell_type": "markdown",
   "id": "bed29162",
   "metadata": {},
   "source": [
    "To explain some of the parameters used in this visualization:\n",
    "\n",
    "- `density`: instead of counting it gives the density of the values\n",
    "- `alpha=0.5`: makes the plot transparent enough so the overlapping values are still visible."
   ]
  },
  {
   "cell_type": "markdown",
   "id": "afc874b6",
   "metadata": {},
   "source": [
    "#### Interpretation of the overlapping histograms\n",
    "\n",
    "By looking at the overlapping histograms, we can see that there is a moderate association between the two variables which follows the mean and median difference that was computed beforehand.\n",
    "While overlapping histograms and side by side boxplots can convey similar information, histograms give us more detail and can be useful in spotting patterns that were not visible in a box plot (eg., a bimodal distribution).\n",
    "\n",
    "While the box plots and means/medians appear similar, the overlapping histograms illuminate the differences between these two distributions of scores."
   ]
  },
  {
   "cell_type": "markdown",
   "id": "61027bde",
   "metadata": {},
   "source": [
    "## Association between quantitative variable and non-binary variables\n",
    "\n",
    "A possible question in this case :\n",
    "- is grades associated to areas?\n",
    "\t- in this case `grades` is the quantitative variable and `areas` is the categorical non-binary variable.\n",
    " \n",
    "Areas can be more than two, so the best option in this case is to plot a boxplot and the observe the differences between the side-by-side boxplots.\n",
    "\n",
    "Boxplot is the best choice in this situation.\n",
    "A side-by-side boxplot for each of the values in a non-binary categorical variable will allow us to compare every possible aspect of it with our quantitative variable.\n",
    "\n",
    "We will examine the association between `Pregnancies` (it is not a categorical variable but for this visualization it will be considered as one) and `BloodPressure`. In other words, our question at this point is the following one:\n",
    "\n",
    "> Is the number of pregnancies associated with the changes in the blood pressure?"
   ]
  },
  {
   "cell_type": "code",
   "execution_count": 7,
   "id": "c9cb27f2",
   "metadata": {
    "ExecuteTime": {
     "end_time": "2022-12-10T16:46:33.121742Z",
     "start_time": "2022-12-10T16:46:32.866866Z"
    }
   },
   "outputs": [
    {
     "data": {
      "image/png": "[encoded data removed]",
      "text/plain": [
       "<Figure size 640x480 with 1 Axes>"
      ]
     },
     "metadata": {},
     "output_type": "display_data"
    }
   ],
   "source": [
    "sns.boxplot(data=diabetes_data, x='Pregnancies', y='BloodPressure')\n",
    "plt.show()"
   ]
  },
  {
   "cell_type": "markdown",
   "id": "9e74f054",
   "metadata": {},
   "source": [
    "If there are ANY pairwise differences, we can say that the variables are associated; however, it is more useful to specifically report which groups are different.\n",
    "\n",
    "Can you spot any pattern?"
   ]
  },
  {
   "cell_type": "markdown",
   "id": "802d803d",
   "metadata": {},
   "source": [
    "## Association between quantitative variables"
   ]
  },
  {
   "cell_type": "markdown",
   "id": "45dcecd1",
   "metadata": {},
   "source": [
    "### Scatter plots\n",
    "\n",
    "The best way to observe any association between quantitative variables is to plot them using a scatter plot.\n",
    "\n",
    "By doing that, it is easier to observe any trends or patterns that may exist between two quantitative variables (a possibe trend or patter would be to observe whether a raise in the values of one variable causes a raise in the values of the other variable or vice versa or nothing at all)."
   ]
  },
  {
   "cell_type": "code",
   "execution_count": 8,
   "id": "cedf73dd",
   "metadata": {
    "ExecuteTime": {
     "end_time": "2022-12-10T16:46:33.230585Z",
     "start_time": "2022-12-10T16:46:33.126055Z"
    }
   },
   "outputs": [
    {
     "data": {
      "image/png": "[encoded data removed]",
      "text/plain": [
       "<Figure size 640x480 with 1 Axes>"
      ]
     },
     "metadata": {},
     "output_type": "display_data"
    }
   ],
   "source": [
    "plt.scatter(data=diabetes_data, x='Insulin', y='SkinThickness')\n",
    "plt.xlabel('Skin Thickness (mm)')\n",
    "plt.ylabel('Insulin (mu U/ml)')\n",
    "plt.show()"
   ]
  },
  {
   "cell_type": "markdown",
   "id": "1c46c788",
   "metadata": {},
   "source": [
    "#### Interpretation of the scatter plot\n",
    "\n",
    "In the scatter plot above, we can see a pattern emerging, which means that as long as the skin thickness increases then the insulin levels increasing as well. However, the pattern is not very strong but it is positive. This means that there might a moderate association between the skin thickness and the levels of insulin.\n",
    "\n",
    "<span style=\"color:red\">!CAUTION!</span>: **Correlation is not causation**, which means that we can draw any conclusion just by looking at a scatter plot or a correlation coefficient; we can only say that the two variables are associated.\n",
    "\n",
    "If you want to see what is happening if you draw any conclusions from a scatter plot or a correlation coefficient, have a look [here](https://www.tylervigen.com/spurious-correlations)."
   ]
  },
  {
   "cell_type": "markdown",
   "id": "06979ed1",
   "metadata": {},
   "source": [
    "## Summary statistics to measure associations"
   ]
  },
  {
   "cell_type": "markdown",
   "id": "10465f4e",
   "metadata": {},
   "source": [
    "### Covariance"
   ]
  },
  {
   "cell_type": "markdown",
   "id": "73d01a46",
   "metadata": {},
   "source": [
    "To measure an association between quantitative variables, we can make use of summary statistics.\n",
    "\n",
    "***Covariance*** is a summary statistic that measures the strength of the linear relationship between two quantitative variables.\n",
    "\n",
    "Covariance can range from positive to negative. A positive covariance means that a rise in variable A is connected with a rise in variable B. A negative covariance means that a drop in variable A is connected with a drop in variable B. In both cases, the variables are associated to each other but the kind of association is different. "
   ]
  },
  {
   "cell_type": "markdown",
   "id": "8ac18ea8",
   "metadata": {
    "ExecuteTime": {
     "end_time": "2022-12-09T18:08:57.016166Z",
     "start_time": "2022-12-09T18:08:56.834464Z"
    }
   },
   "source": [
    "![](https://static-assets.codecademy.com/Courses/Hypothesis-Testing/covariance_fig2.svg)\n",
    "<figcaption align=\"center\"><b>Fig. 1</b> These plots show the different kinds of covariance that we might have. Of course there is covariance that lies in between these plots. These are some extreme cases to illustrate it more clearly (image taken from [Codecademy](https://static-assets.codecademy.com/Courses/Hypothesis-Testing/covariance_fig2.svg))</figcaption>"
   ]
  },
  {
   "cell_type": "markdown",
   "id": "3a3bad9c",
   "metadata": {},
   "source": [
    "To calculate covariance with Python, we can use the `cov(variable1, variable2)` function from NumPy. The output is a covariance matrix for two or more variables.\n",
    "  \n",
    "|            | variable 1            | variable 2            |\n",
    "| ---------- | --------------------- | --------------------- |\n",
    "| variable 1 | variance (variable 1) | covariance            |\n",
    "| variable 2 | covariance            | variance (variable 2) |"
   ]
  },
  {
   "cell_type": "code",
   "execution_count": 14,
   "id": "8b2552e6",
   "metadata": {
    "ExecuteTime": {
     "end_time": "2022-12-10T16:47:09.487089Z",
     "start_time": "2022-12-10T16:47:09.477423Z"
    }
   },
   "outputs": [
    {
     "name": "stdout",
     "output_type": "stream",
     "text": [
      "[[  254.47324533   802.97994079]\n",
      " [  802.97994079 13281.18007796]]\n"
     ]
    }
   ],
   "source": [
    "# compute the covariance\n",
    "diabetes_data_clean = diabetes_data.dropna()\n",
    "\n",
    "cov_mat_pregn_bloodpress = np.cov(\n",
    "    diabetes_data_clean.SkinThickness, diabetes_data_clean.Insulin)\n",
    "print(cov_mat_pregn_bloodpress)"
   ]
  },
  {
   "cell_type": "code",
   "execution_count": 15,
   "id": "f0378859",
   "metadata": {
    "ExecuteTime": {
     "end_time": "2022-12-10T16:47:09.691056Z",
     "start_time": "2022-12-10T16:47:09.686649Z"
    }
   },
   "outputs": [
    {
     "name": "stdout",
     "output_type": "stream",
     "text": [
      "802.9799407866152\n"
     ]
    }
   ],
   "source": [
    "# save covariance in a variable\n",
    "# it is like accessing a multi-dimensional array\n",
    "cov_pregn_bloodpress = cov_mat_pregn_bloodpress[0, 1]\n",
    "print(cov_pregn_bloodpress)"
   ]
  },
  {
   "cell_type": "markdown",
   "id": "4d0eb109",
   "metadata": {},
   "source": [
    "### Correlation\n",
    "Covariance as a number does not make a lot of sense, thus we need to use a scaled form of it which is called called *correlation*.\n",
    "\n",
    "*Pearson correlation* (ofter refered to simply as \"correlation\") is the scaled form of covariance. It is a value between -1 and +1, which makes the relationship more interpretable.\n",
    "\n",
    "Following this line of thought, it is assumed that a correlation close to 1 means that the variables are highly associated with each other and that the correlation is positive (e.g. a higher values in variable a are connected with higher values in variable b). In contract, a correlation value close to -1 means that there is also a strong association between the variables but in a negative way.\n",
    "![](https://static-assets.codecademy.com/Courses/Hypothesis-Testing/correlation_fig_1-3.svg)\n",
    "<figcaption align=\"center\"><b>Fig. 2</b> This figure shows how different kind of correlation will be represented in a scatter plot; the stronger the correlation (positive or negative) the clearer the pattern in the data points and more distinct the linearity of the data points (image taken from [Codecademy](https://static-assets.codecademy.com/Courses/Hypothesis-Testing/correlation_fig_1-3.svg)).</figcaption>\n",
    "\n",
    "\n",
    "To calculate Pearson's correlation in Python, we use the `pearsonr()` function from `scipy.stats`.\n",
    "Generally, a correlation larger than about .3 indicates a linear association. A correlation greater than about .6 suggests a strong linear association."
   ]
  },
  {
   "cell_type": "code",
   "execution_count": 16,
   "id": "c3490640",
   "metadata": {
    "ExecuteTime": {
     "end_time": "2022-12-10T16:47:10.771656Z",
     "start_time": "2022-12-10T16:47:10.765353Z"
    }
   },
   "outputs": [
    {
     "name": "stdout",
     "output_type": "stream",
     "text": [
      "0.44\n"
     ]
    }
   ],
   "source": [
    "# Pearson's correlation\n",
    "corr_pregn_bloodpress, p = pearsonr(\n",
    "    diabetes_data_clean.SkinThickness, diabetes_data_clean.Insulin)\n",
    "print(round(corr_pregn_bloodpress, 2))"
   ]
  },
  {
   "cell_type": "markdown",
   "id": "2e7a9f2a",
   "metadata": {},
   "source": [
    "The correlation value is very close to 0.5, which means that there is a moderate association between the thickness of the skin and the levels of insulin. \n",
    "\n",
    "If we would like to describe the type of correlation that exists between the number of thickness of the skin and the levels of insulin for this dataset, we could say that we have a **moderate positive correlation**."
   ]
  },
  {
   "cell_type": "markdown",
   "id": "67c2f421",
   "metadata": {},
   "source": [
    "## Association of categorical variables\n",
    "The best way to observe if there is any kind of association between categorical variables is to use a **contingency table**, also known as *two-way table* or *cross-tabulation*.\n",
    "The pandas function [`crosstab()`](https://pandas.pydata.org/pandas-docs/stable/reference/api/pandas.crosstab.html) allows us to create a contingency table with the frequencies of the values of the variables under examination.\n",
    "```{pseudo}\n",
    "crosstab_var1_var2 = pd.crosstab(variable1, variable2)\n",
    "```\n",
    "```{pseudo}\n",
    "Output:\n",
    "| variable1 | no   | yes  |\n",
    "| --------- | ---- | ---- |\n",
    "| variable2 |      |      |\n",
    "| no        | 1233 | 3456 |\n",
    "| yes       | 4562 | 3253 |\n",
    "```\n",
    "\n",
    "In order to get the proportions of the values instead of the frequencies we can divide all the frequencies in the contingency table by the total number of observations (i.e., the sum of the frequencies).\n",
    "```{pseudo}\n",
    "crosstab_var1_var2_prop = crosstab_var1_var2/len(dataframe)\n",
    "```\n",
    "After doing that, we will have proportions to compare which will make the results more interpretable."
   ]
  },
  {
   "cell_type": "markdown",
   "id": "ec717757",
   "metadata": {},
   "source": [
    "### Marginal proportions\n",
    "If the variables in the tables were not associated with each other, someone would expect to see .25 (i.e., 25%) in each row of the table.\n",
    "\n",
    "However, this is not the case and in contingency tables we should also take into account the **marginal proportions**.\n",
    "A *marginal proportion* is the proportion of a value in each category of a single question. With that said, we can assume that we have the following table of proportions:\n",
    "\n",
    "| motivation   | no       | yes      |\n",
    "| ---------- | -------- | -------- |\n",
    "| leadership |          |          |\n",
    "| no         | 0.271695 | 0.116518 |\n",
    "| yes        | 0.212670 | 0.399117 |\n",
    "\n",
    "In this contingency table we study the association between motivation and leadership.\n",
    "The bottom row of the tables, which corresponds to people being motivated and have a talent to lead other people, has in total 61,2% of the values. Since that is more than half, we expect most of the values to fall within this range of answers, regardless of whether the questions are associated.\n",
    "\n",
    "To calculate the marginal proportions we can use `sum()` with rows and columns respectively (i.e, `axis=0` for columns and `axis=1` for rows).\n",
    "```{pseudo}\n",
    "# crosstab_var1_var2_prop = crosstab_var1_var2/len(dataframe)\n",
    "\n",
    "var1_marginals = crosstab_var1_var2_prop.sum(axis=0)\n",
    "\n",
    "var2_marginals crosstab_var1_var2_prop.sum(axis=1)\n",
    "```\n",
    "\n",
    "The results will look something like this for the table with the proportions that was used as an example:\n",
    "```{pseudo}\n",
    "motivation\n",
    "no     0.48...\n",
    "yes    0.51...\n",
    "dtype: float64\n",
    "```\n",
    "```{pseudo}\n",
    "leadership\n",
    "no     0.38...\n",
    "yes    0.61...\n",
    "dtype: float64\n",
    "```"
   ]
  },
  {
   "cell_type": "markdown",
   "id": "ce559af4",
   "metadata": {},
   "source": [
    "### Expected Proportions\n",
    "By just looking at the contingency tables and at the marginal proportions we cannot be really sure if two categorical variables are associated. Therefore, we need to compute the ***expected proportions*** as if these two variables are **not associated with each other**.\n",
    "To calculate these expected proportions, we need to multiply the marginal proportions for each combination of categories.\n",
    "\n",
    "Given the previous marginal proportions, we should multiply the values as follows:\n",
    "\n",
    "|                  | leadership = no    | leadership = yes   |\n",
    "| ---------------- | ------------------ | ------------------ |\n",
    "| motivation = no  | 0.48 * 0.38 = **0.18** | 0.61 * 0.48 = **0.29** |\n",
    "| motivation = yes | 0.51 * 0.38 = **0.19** | 0.61 * 0.51 = **0.31**                   |\n",
    "\n",
    "To convert these values back into frequencies, we can multiply each of the values with the size of the dataset.\n",
    "After we do that, we will be able to see the number of values expected in each category if there is no association between the variables.\n",
    "`SciPy` offers the function [`chi2_contingency()`](https://docs.scipy.org/doc/scipy/reference/generated/scipy.stats.chi2_contingency.html).\n",
    "\n",
    "```{pseudo}\n",
    "from scipy.stats import chi2_contingency\n",
    "\n",
    "chi2, pval, dof, expected = chi2_contingency(contingency_with_freq)\n",
    "print(np.round(expected))\n",
    "```\n",
    "- `chi2`: will save the chi-squared values\n",
    "- `pval`: the p-value\n",
    "- `dof`: the degrees of freedom\n",
    "- `expected`: the expected values\n",
    "\n",
    "The bigger the difference between the expected and the observed values, the more this variables are associated."
   ]
  },
  {
   "cell_type": "markdown",
   "id": "b25ccfa4",
   "metadata": {},
   "source": [
    "#### The Chi-Square Statistic\n",
    "To summarise the difference between the expected and the observed values in a contingency table, instead of just visually examining the difference, we use the **chi-square statistic**.\n",
    "This statistic is the **squared difference between each observed value and its' corresponding expected value**; then sum these numbers: \n",
    "$$ChiSquare = sum((observed - expected)^2)$$\n",
    "This statistics will tell ***how*** different the two tables are.\n",
    "\n",
    "The interpretation of a ChiSquare statistic is dependent on the size of the contigency table. For example, for a 2x2 table a difference larger than around 4 would suggest a weak association between the variables.\n",
    "Instead of printing the expected values, we print the `chi2`:\n",
    "```{pseudo}\n",
    "chi2, pval, dof, expected = chi2_contigency(contigency_with_freq)\n",
    "print(np.round(chi2))\n",
    "```"
   ]
  }
 ],
 "metadata": {
  "kernelspec": {
   "display_name": "Python 3 (ipykernel)",
   "language": "python",
   "name": "python3"
  },
  "language_info": {
   "codemirror_mode": {
    "name": "ipython",
    "version": 3
   },
   "file_extension": ".py",
   "mimetype": "text/x-python",
   "name": "python",
   "nbconvert_exporter": "python",
   "pygments_lexer": "ipython3",
   "version": "3.8.2"
  },
  "toc": {
   "base_numbering": 1,
   "nav_menu": {},
   "number_sections": true,
   "sideBar": true,
   "skip_h1_title": false,
   "title_cell": "Table of Contents",
   "title_sidebar": "Contents",
   "toc_cell": false,
   "toc_position": {},
   "toc_section_display": true,
   "toc_window_display": false
  },
  "varInspector": {
   "cols": {
    "lenName": 16,
    "lenType": 16,
    "lenVar": 40
   },
   "kernels_config": {
    "python": {
     "delete_cmd_postfix": "",
     "delete_cmd_prefix": "del ",
     "library": "var_list.py",
     "varRefreshCmd": "print(var_dic_list())"
    },
    "r": {
     "delete_cmd_postfix": ") ",
     "delete_cmd_prefix": "rm(",
     "library": "var_list.r",
     "varRefreshCmd": "cat(var_dic_list()) "
    }
   },
   "types_to_exclude": [
    "module",
    "function",
    "builtin_function_or_method",
    "instance",
    "_Feature"
   ],
   "window_display": false
  }
 },
 "nbformat": 4,
 "nbformat_minor": 5
}
