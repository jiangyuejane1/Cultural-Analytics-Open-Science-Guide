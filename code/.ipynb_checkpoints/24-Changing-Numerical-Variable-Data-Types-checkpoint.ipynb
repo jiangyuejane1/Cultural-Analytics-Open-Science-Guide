{
 "cells": [
  {
   "cell_type": "raw",
   "id": "d61b523b",
   "metadata": {},
   "source": [
    "---\n",
    "author: \"Paschalis Agapitos\"\n",
    "---"
   ]
  },
  {
   "cell_type": "markdown",
   "id": "bbe9a5fa",
   "metadata": {},
   "source": [
    "# Tips for recognizing the data types\n",
    "## Good practise\n",
    "A very good practise when we try to change the data type of a variable is to try to align it with its real-world variable data type. Therefore, if it is continuous, then use floats; if it is discrete then use integers.\n",
    "\n",
    "| **Type of variable** | **Data type** |\n",
    "| -------------------- | ------------- |\n",
    "| continuous variable  | float         |\n",
    "| discrete variable    | integer       |\n",
    "\n",
    "What is happening with the miscellaneous variables?\n",
    "For example the money can be both measured continuously or discretely.\n",
    "Continuously by measuring it in fractions. Discretely by counting it in cents since money can't be divided in something less than cents.\n",
    "\n",
    "**This is the reason we should always connect the variable type with the real-world variable data type, thus we need to take a close look to the context**.\n",
    "\n",
    "\n",
    "Using the command:"
   ]
  },
  {
   "cell_type": "markdown",
   "id": "caa6c170",
   "metadata": {
    "ExecuteTime": {
     "end_time": "2022-12-09T14:54:49.847876Z",
     "start_time": "2022-12-09T14:54:49.609104Z"
    }
   },
   "source": [
    "```\n",
    "data.dtypes\n",
    "```"
   ]
  },
  {
   "cell_type": "markdown",
   "id": "16addb15",
   "metadata": {},
   "source": [
    "- `data`: is the name of our dataset/ dataframe.\n",
    "\n",
    "We take a close look to the data types of each column.\n",
    "\n",
    "After that, by using the command `.astype()` we can change the value of each column **if needed**."
   ]
  }
 ],
 "metadata": {
  "kernelspec": {
   "display_name": "Python 3 (ipykernel)",
   "language": "python",
   "name": "python3"
  },
  "language_info": {
   "codemirror_mode": {
    "name": "ipython",
    "version": 3
   },
   "file_extension": ".py",
   "mimetype": "text/x-python",
   "name": "python",
   "nbconvert_exporter": "python",
   "pygments_lexer": "ipython3",
   "version": "3.8.2"
  },
  "toc": {
   "base_numbering": 1,
   "nav_menu": {},
   "number_sections": true,
   "sideBar": true,
   "skip_h1_title": false,
   "title_cell": "Table of Contents",
   "title_sidebar": "Contents",
   "toc_cell": false,
   "toc_position": {},
   "toc_section_display": true,
   "toc_window_display": false
  },
  "varInspector": {
   "cols": {
    "lenName": 16,
    "lenType": 16,
    "lenVar": 40
   },
   "kernels_config": {
    "python": {
     "delete_cmd_postfix": "",
     "delete_cmd_prefix": "del ",
     "library": "var_list.py",
     "varRefreshCmd": "print(var_dic_list())"
    },
    "r": {
     "delete_cmd_postfix": ") ",
     "delete_cmd_prefix": "rm(",
     "library": "var_list.r",
     "varRefreshCmd": "cat(var_dic_list()) "
    }
   },
   "types_to_exclude": [
    "module",
    "function",
    "builtin_function_or_method",
    "instance",
    "_Feature"
   ],
   "window_display": false
  }
 },
 "nbformat": 4,
 "nbformat_minor": 5
}
