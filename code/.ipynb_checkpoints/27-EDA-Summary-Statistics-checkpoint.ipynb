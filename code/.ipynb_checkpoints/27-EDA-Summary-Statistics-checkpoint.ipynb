{
 "cells": [
  {
   "cell_type": "raw",
   "id": "ae4ed0da",
   "metadata": {},
   "source": [
    "---\n",
    "author: \"Paschalis Agapitos\"\n",
    "---"
   ]
  },
  {
   "cell_type": "markdown",
   "id": "5f727de6",
   "metadata": {},
   "source": [
    "# Exploratory Data Analysis and Summary Statistics"
   ]
  },
  {
   "cell_type": "markdown",
   "id": "4d9fa91c",
   "metadata": {},
   "source": [
    "## Introduction\n",
    "The summary statistics are very useful for an Exploratory Data Analysis (henceforward: *EDA*) since they allow us to condense a large amount of information and make it a little bit more interpretable since we will just look at a few numbers.\n",
    "\n",
    "When we want to decide what kind of information we would like to use, we need to have in mind two important aspects-questions:\n",
    "\n",
    "- the **research question** (and how many variables this question involves)\n",
    "- the **data** (if it is quantitative or categorical)"
   ]
  },
  {
   "cell_type": "markdown",
   "id": "7dcb3981",
   "metadata": {},
   "source": [
    "## Univariate Statistics\n",
    "Summary statistics that focus on only one variable are called *univariate statistics*.\n",
    "\n",
    "For example, let's say that we have a dataset about books of a specific bookstore and in this dataset there is a column that contains the price of each book. (data)\n",
    "\n",
    "Our question is how much does a book cost on average in this bookstore.\n",
    "\n",
    "To do that we need to calculate the mean of the values in the prices column, thus we need to focus only in one variable; therefore this summary statistic is called *univariate*."
   ]
  },
  {
   "cell_type": "markdown",
   "id": "d05879b2",
   "metadata": {},
   "source": [
    "### Quantitative variables\n",
    "When we have to deal with quantitative variables, usually we need to describe the *central location* (centrality) and *spread* (spreadness) of the values of these variables."
   ]
  },
  {
   "cell_type": "markdown",
   "id": "84cd0fe3",
   "metadata": {},
   "source": [
    "#### Central location\n",
    "By finding the *central location* (aka central tendency) we find the \"typical\" value of a variable.\n",
    "There are a lot of methods to find this typical value:\n",
    "\n",
    "- **Mean**: (aka average) the value that derives from the sum of all values divided by the number (i.e., the length) of the values.\n",
    "- **Median**: the middle value of a variable when the values are sorted.\n",
    "- **Mode**: the most frequent value of the variable\n",
    "- **Trimmed mean**: the mean excluding x percent of the lowest and highest data points.\n",
    "\n",
    "Sometimes in order to choose the most appropriate summary statistic for a variable we need to combine it with a visualization and domain knowledge.\n",
    "\n",
    "For example, let's assume that we get the following values as summary statistics from a variable of cars' prices:\n",
    "\n",
    "-   Mean = Rs. 63827.18\n",
    "-   Median = Rs. 45000.00\n",
    "-   Mode = Rs. 30000.00\n",
    "-   Trimmed Mean = Rs. 47333.61\n",
    "\n",
    "If we look closely at these values, we will observe that the mean is so much larger than the median and the trimmed mean, which might means that there are some outliers in the dataset."
   ]
  },
  {
   "cell_type": "markdown",
   "id": "88b248e4",
   "metadata": {},
   "source": [
    "#### Spread\n",
    "\n",
    "Spread, or dispersion, describes the variability within a feature. This is important because it provides context for measures of central location. For example, if there is a lot of variability in car prices, we can be less certain that any particular car will be close to 450000.00 Rupees (the median price). Like the central location measures, there are a few values that can describe the spread:\n",
    "\n",
    "-   Range: The difference between the maximum and minimum values in a variable.\n",
    "-   Inter-Quartile Range (IQR): The difference between the 75th and 25th percentile values.\n",
    "-   Variance: The average of the squared distance from each data point to the mean.\n",
    "-   Standard Deviation (SD): The square root of the variance.\n",
    "-   Mean Absolute Deviation (MAD): The mean absolute value of the distance between each data point and the mean.\n",
    "e.g.,\n",
    "\n",
    "```\n",
    "# Range  \n",
    "data.column_name.max() - data.column_name.min()  \n",
    "```\n",
    "\n",
    "```\n",
    "# Interquartile range  \n",
    "data.column_name.quantile(0.75) - data.column_name.quantile(0.25)  \n",
    "\n",
    "# alternative way\n",
    "from scipy.stats import iqr  \n",
    "iqr(data.column_name)\n",
    "```\n",
    "\n",
    "```\n",
    "# Variance  \n",
    "data.column_name.var()  \n",
    "```\n",
    "\n",
    "```\n",
    "# Standard deviation  \n",
    "data.column_name.std()  \n",
    "```\n",
    "\n",
    "```\n",
    "# Mean absolute deviation  \n",
    "data.column_name.mad()\n",
    "```\n",
    "\n",
    "Choosing the most appropriate measure of spread is much like choosing a measure of central tendency, in that we need to consider the data holistically. For example, below are measures of spread calculated for `selling_price`:\n",
    "\n",
    "-   Range: Rs. 9970001\n",
    "-   IQR: Rs. 420001\n",
    "-   Variance: 650044550668.61 (Rs^2)\n",
    "-   Standard Deviation: Rs. 806253.40\n",
    "-   Mean Absolute Deviation: Rs. 42,213.14\n",
    "\n",
    "We see that the range is almost 10 million Rupees; however, this could be due to a single 10 million Rupee car in the dataset. If we remove that one car, the range might be much smaller. The IQR is useful in comparison because it trims away outliers.\n",
    "\n",
    "Meanwhile, we see that variance is extremely large. This happens because variance is calculated using squared differences, and is therefore not in the same units as the original data, making it less interpretable. Both the standard deviation and MAD solve this issue, but MAD is even less impacted by extreme outliers.\n",
    "\n",
    "For highly skewed data or data with extreme outliers, we therefore might prefer to use IQR or MAD. For data that is more normally distributed, the variance and standard deviation are frequently reported."
   ]
  },
  {
   "cell_type": "markdown",
   "id": "d3072ab2",
   "metadata": {},
   "source": [
    "### Categorical Variables\n",
    "\n",
    "Categorical variables can be either ordinal (ordered) or nominal (unordered). For ordinal categorical variables, we may still want to summarize central location and spread. However, because ordinal categories are not necessarily evenly spaced (like numbers), we should NOT calculate the mean of an ordinal categorical variable (or anything that relies on the mean, like variance, standard deviation, and MAD).\n",
    "\n",
    "For nominal categorical variables (and ordinal categorical variables), another common numerical summary statistic is the frequency or proportion of observations in each category. This is often reported using a frequency table and can be visualized using a bar plot."
   ]
  },
  {
   "cell_type": "markdown",
   "id": "852dcf67",
   "metadata": {},
   "source": [
    "## Bivariate Statistics\n",
    "\n",
    "In contrast to univariate statistics, bivariate statistics are used to summarize the relationship between two variables. They are useful for answering questions like:\n",
    "\n",
    "-   Do manual transmission cars tend to cost more or less than automatic transmission?\n",
    "-   Do older cars tend to cost less money?\n",
    "-   Are automatic transmission cars more likely to be sold by individuals or dealers?\n",
    "\n",
    "Depending on the types of variables we want to summarize a relationship between, we should choose different summary statistics."
   ]
  },
  {
   "cell_type": "markdown",
   "id": "da991aa2",
   "metadata": {},
   "source": [
    "## Relationship between types of variables\n",
    "### One Quantitative Variable and One Categorical Variable\n",
    "\n",
    "If we want to know whether manual transmission cars tend to cost more or less than automatic transmission cars, we are interested in the relationship between `transmission` (categorical) and `selling_price` (quantitative). To answer this question, we can use a **mean or median difference**.\n",
    "\n",
    "For example, we could calculate that the median price of automatic transmission cars is 100000 Rupees higher than for manual transmission cars."
   ]
  },
  {
   "cell_type": "markdown",
   "id": "5f298f5b",
   "metadata": {},
   "source": [
    "### Two Quantitative Variables\n",
    "\n",
    "If we want to know whether older cars tend to cost less money, we are interested in the relationship between `year` and `selling_price`, both of which are quantitative. To answer this question, we can use the ==Pearson correlation==.\n",
    "\n",
    "For example, if we calculate that the correlation between `year` and `selling_price` is 0.4, we can conclude that there is a moderate positive association between these variables (older cars do tend to cost less money)."
   ]
  },
  {
   "cell_type": "markdown",
   "id": "0e3020e8",
   "metadata": {},
   "source": [
    "### Two Categorical Variables\n",
    "\n",
    "If we want to know whether automatic transmission cars are more likely to be sold by individuals or dealers, we are interested in the relationship between `transmission` and `seller_type`, both of which are categorical. We can explore this relationship using a **contingency table and the Chi-Square statistic**.\n",
    "\n",
    "For example, based on the following contingency table, we might conclude that a higher proportion of cars sold by dealers are automatic (compared to cars sold by individuals):\n",
    "\n",
    "```\n",
    "seller_type   Dealer  Individual  Trustmark Dealer\n",
    "transmission                                      \n",
    "Automatic        217         212                19\n",
    "Manual           777        3032                83\n",
    "```"
   ]
  }
 ],
 "metadata": {
  "kernelspec": {
   "display_name": "Python 3 (ipykernel)",
   "language": "python",
   "name": "python3"
  },
  "language_info": {
   "codemirror_mode": {
    "name": "ipython",
    "version": 3
   },
   "file_extension": ".py",
   "mimetype": "text/x-python",
   "name": "python",
   "nbconvert_exporter": "python",
   "pygments_lexer": "ipython3",
   "version": "3.8.2"
  },
  "toc": {
   "base_numbering": 1,
   "nav_menu": {},
   "number_sections": true,
   "sideBar": true,
   "skip_h1_title": false,
   "title_cell": "Table of Contents",
   "title_sidebar": "Contents",
   "toc_cell": false,
   "toc_position": {},
   "toc_section_display": true,
   "toc_window_display": false
  },
  "varInspector": {
   "cols": {
    "lenName": 16,
    "lenType": 16,
    "lenVar": 40
   },
   "kernels_config": {
    "python": {
     "delete_cmd_postfix": "",
     "delete_cmd_prefix": "del ",
     "library": "var_list.py",
     "varRefreshCmd": "print(var_dic_list())"
    },
    "r": {
     "delete_cmd_postfix": ") ",
     "delete_cmd_prefix": "rm(",
     "library": "var_list.r",
     "varRefreshCmd": "cat(var_dic_list()) "
    }
   },
   "types_to_exclude": [
    "module",
    "function",
    "builtin_function_or_method",
    "instance",
    "_Feature"
   ],
   "window_display": false
  }
 },
 "nbformat": 4,
 "nbformat_minor": 5
}
