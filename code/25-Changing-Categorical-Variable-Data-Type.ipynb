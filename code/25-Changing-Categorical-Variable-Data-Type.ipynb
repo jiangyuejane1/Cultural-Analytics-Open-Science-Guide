{
 "cells": [
  {
   "cell_type": "raw",
   "id": "32a89945",
   "metadata": {},
   "source": [
    "---\n",
    "author: \"Paschalis Agapitos\"\n",
    "---"
   ]
  },
  {
   "cell_type": "markdown",
   "id": "507731b8",
   "metadata": {},
   "source": [
    "# Categorical Variable Data Type"
   ]
  },
  {
   "cell_type": "markdown",
   "id": "d43ba20d",
   "metadata": {},
   "source": [
    "## Good practise\n",
    "Just like with numerical variables, best practices for categorical data storage say that we should match the data type of the column with its real-world variable type. However, the types are a little more nuanced:\n",
    "\n",
    "-   Nominal variables are often represented by the `object` data type. Columns in the object data type can contain any combination of values, including strings, integers, booleans, etc. This means that string operations like `.lower()` are not possible on object columns.\n",
    "    \n",
    "-   Nominal variables are also represented by the `string` data type. However, Pandas usually guesses `object` rather than `string`, so if you want a column to be a string, you will likely have to explicitly tell pandas to make it a `string`. This is most important if you want to do string manipulations on a column like `.lower()`.\n",
    "    \n",
    "-   Ordinal variables should be represented as `object`s, but pandas often guesses `int` since they are often encoded as whole numbers.\n",
    "    \n",
    "-   Binary variables can be represented as `bool`, but pandas often guesses `int` or `object` data types."
   ]
  },
  {
   "cell_type": "markdown",
   "id": "cf9f898a",
   "metadata": {},
   "source": [
    "## Working with **Ordinal** Categorical Variables\n",
    "\n",
    "For ordinal categorical variables, we often want to store two different pieces of information: category labels and their order. None of the data types we have covered so far can store both of these at once.\n",
    "\n",
    "We can use the `.unique()` method to inspect the category names:\n",
    "\n",
    "```\n",
    "print(data['column_name'].unique())\n",
    "```\n",
    "\n",
    "At this point, Python does not know that these categories have an inherent order. Luckily, there is a specific data type for categorical variables in pandas called `category` to address this problem! The pandas [.Categorical()](https://pandas.pydata.org/pandas-docs/stable/reference/api/pandas.Categorical.html) method can be used to store data as type `category` and indicate the order of the categories.\n",
    "\n",
    "```\n",
    "dataframe['column_name'] = pd.Categorical(dataframe['column_name'], ['bottom', 'mid', 'top'], ordered=True)\n",
    "```\n",
    "\n",
    "- `bottom`, `mid`, `top`: these values are an example of categories. If we assume, that they were not in this order `pd.Categorical` allows us to set them in the order that we want.\n",
    "\n",
    "Now, not only does Python recognize that the `shelf` column is an ordinal variable, it understands that `top` > `mid` > `bottom`. If we call `.unique()` on this column again, we see how Python retains the correct rankings.\n",
    "\n",
    "This is helpful in the event that we would like to sort the column by category; **if we use `.sort_values()`, the DataFrame will be sorted by the logical order** of a given column as opposed to the alphabetical order."
   ]
  },
  {
   "cell_type": "markdown",
   "id": "39e4130d",
   "metadata": {},
   "source": [
    "### One-Hot Encoding\n",
    "Let's assume that we want to change the data type of a categorical variable, but without assigning any kind of weight to the labels. To do that, firstly we need our categorical variables not to be ordinal or if they are ordinal the order does not really matter; in other words, the values of our variable should not be interpreted only in a specific order.\n",
    "\n",
    "To do that, we can perform a different encoding of categorical variables; *One-Hot Encoding* (OHE). \n",
    "To do that, we can use the pandas [`.get_dummies()`](https://pandas.pydata.org/pandas-docs/stable/reference/api/pandas.Categorical.html) method."
   ]
  },
  {
   "cell_type": "markdown",
   "id": "d75d93e0",
   "metadata": {},
   "source": [
    "#### How does OHE works?\n",
    "Basically, it creates a new binary variable (0 or 1) for each of the categories within our original categorical variable.\n",
    "By passing in the dataset and column that we want to encode into `pd.get_dummies()`, we have created a new dataframe that contains new binary variables, according to the number of categories in our original variable, with values of `1` for `True` and `0` for `False`, which we can view when we scroll to the right in the table. Now we haven’t assigned weighting to our nominal variable. \n",
    "\n",
    "```\n",
    "new_df = pd.get_dummies(data=df, columns=['column_name'])\n",
    "```\n",
    "It is important to note that OHE works best when we do not create too many additional variables, as increasing the dimensionality of our dataframe can create problems when working with certain machine learning models.\n"
   ]
  },
  {
   "cell_type": "code",
   "execution_count": null,
   "id": "8d0d1a89",
   "metadata": {},
   "outputs": [],
   "source": []
  }
 ],
 "metadata": {
  "kernelspec": {
   "display_name": "Python 3 (ipykernel)",
   "language": "python",
   "name": "python3"
  },
  "language_info": {
   "codemirror_mode": {
    "name": "ipython",
    "version": 3
   },
   "file_extension": ".py",
   "mimetype": "text/x-python",
   "name": "python",
   "nbconvert_exporter": "python",
   "pygments_lexer": "ipython3",
   "version": "3.8.2"
  },
  "toc": {
   "base_numbering": 1,
   "nav_menu": {},
   "number_sections": true,
   "sideBar": true,
   "skip_h1_title": false,
   "title_cell": "Table of Contents",
   "title_sidebar": "Contents",
   "toc_cell": false,
   "toc_position": {},
   "toc_section_display": true,
   "toc_window_display": false
  },
  "varInspector": {
   "cols": {
    "lenName": 16,
    "lenType": 16,
    "lenVar": 40
   },
   "kernels_config": {
    "python": {
     "delete_cmd_postfix": "",
     "delete_cmd_prefix": "del ",
     "library": "var_list.py",
     "varRefreshCmd": "print(var_dic_list())"
    },
    "r": {
     "delete_cmd_postfix": ") ",
     "delete_cmd_prefix": "rm(",
     "library": "var_list.r",
     "varRefreshCmd": "cat(var_dic_list()) "
    }
   },
   "types_to_exclude": [
    "module",
    "function",
    "builtin_function_or_method",
    "instance",
    "_Feature"
   ],
   "window_display": false
  }
 },
 "nbformat": 4,
 "nbformat_minor": 5
}
